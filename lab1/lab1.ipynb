{
 "cells": [
  {
   "cell_type": "code",
   "execution_count": 2,
   "metadata": {
    "collapsed": true
   },
   "outputs": [],
   "source": [
    "%matplotlib inline\n",
    "import matplotlib\n",
    "import numpy as np\n",
    "import matplotlib.pyplot as plt"
   ]
  },
  {
   "cell_type": "markdown",
   "metadata": {},
   "source": [
    "# Lab 1: Text Corpora and Language Modelling\n",
    "\n",
    "This lab is meant to help you get familiar with some language data, and use this data to estimate N-gram language models\n",
    "\n",
    "First you will use the **Penn Treebank**, which is a collection of newspaper articles from the newspaper \n",
    "The Wall Street Journal. The idea is to examine the data and notice interesting properties. This will not take more than a few lines of code.\n",
    "\n",
    "Then you will use a corpus consisting of **TedX** talks. This you will use to estimate an **N-gram language model** for different orders of N, and use this this for some tasks.\n",
    "\n",
    "The datasets are on blackboard under course materials. Download the zip and make sure to put the files in the same directory as the notebook.\n",
    "\n",
    "### Rules\n",
    "* The lab exercises should be made in **groups of two people**.\n",
    "\n",
    "* The deadline is **Tuesday 7 nov 16:59**.\n",
    "\n",
    "* The assignment should submitted to **Blackboard** as `.ipynb`. Only **one submission per group**.\n",
    "\n",
    "* The **filename** should be `lab1_lastname1_lastname2.ipynb`, so for example `lab1_Jurafsky_Martin.ipynb`.\n",
    "\n",
    "* The notebook is graded on a scale of **0-10**. The number of points for each question is indicated in parantheses. \n",
    "\n",
    "* The questions marked **optional** are not graded; they are an additional challenge for those interested in going the extra mile. \n",
    "\n",
    "Notes on implementation:\n",
    "\n",
    "* You should **write your code and answers in this iPython Notebook** (see http://ipython.org/notebook.html for reference material). If you have problems, please contact your teaching assistant.\n",
    "\n",
    "* Use only **one cell for code** and **one cell for markdown** answers!    \n",
    "\n",
    "    * Put all code in the cell with the `# YOUR CODE HERE` comment.\n",
    "    \n",
    "    * For theoretical question, put your solution in the YOUR ANSWER HERE cell.\n",
    "    \n",
    "* Test your code and **make sure we can run your notebook**"
   ]
  },
  {
   "cell_type": "markdown",
   "metadata": {},
   "source": [
    "# 1. Penn treebank\n",
    "\n",
    "## Exercise 1.1 (40 points, 5 points per subquestion )\n",
    "\n",
    "You are provided with a corpus containing words with their Part-of-Speech tags (POS-tags for short). The format is\n",
    "**word|POS** (one sentence per line) and the file name is **sec02-22.gold.tagged**. This data is extracted from Sections 02-22 from the Penn Treebank: these sections are most commonly used for training statistical models like POS-taggers and parsers.\n",
    "\n",
    "**[Hint]** **Figure 10.1** in chapter 10 of Jurafsky and Martin (see [here](https://web.stanford.edu/~jurafsky/slp3/10.pdf)) holds a summary of the 45 POS-tags used in the Penn Treebank tagset together with their meaning and some examples. (If you are keen on learning more about the word-classes represented POS-tags and their definitions you can do a litle reading ahead for next week and already have a look at section 10.1 of the same chapter).\n",
    "\n",
    "**[Hint]** the Python library [collections](https://docs.python.org/2/library/collections.html) has an object called `Counter` which will come in handy for this exercise."
   ]
  },
  {
   "cell_type": "markdown",
   "metadata": {},
   "source": [
    " "
   ]
  },
  {
   "cell_type": "markdown",
   "metadata": {},
   "source": [
    "**(a)** How large is the corpus? (i.e. how **many tokens**). And what is the size of the **vocabulary** used in this corpus? \n",
    "\n",
    "Estimate the vocabulary size both by **lowercasing** all the words as well as by leaving the words in their **original orthography**. What is an advantage of lowercasing all the words in your corpus? What is a notable downside? **Give examples.**"
   ]
  },
  {
   "cell_type": "code",
   "execution_count": 3,
   "metadata": {},
   "outputs": [
    {
     "name": "stdout",
     "output_type": "stream",
     "text": [
      "# of tokens: 929552\n",
      "# of types: 44210\n",
      "# of lowercase types: 39384\n"
     ]
    }
   ],
   "source": [
    "import codecs\n",
    "\n",
    "\n",
    "def read_corpus(path):\n",
    "    tagged_tokens = []\n",
    "    \n",
    "    with codecs.open(path, \"rb\", \"utf-8\") as corpus_file:\n",
    "        for line in corpus_file.readlines():\n",
    "            raw_line = line.strip()\n",
    "            raw_tokens = raw_line.split(\" \")\n",
    "            tokens = [tuple(token.split(\"|\")) for token in raw_tokens]\n",
    "            tagged_tokens.extend(tokens)\n",
    "            \n",
    "    return tagged_tokens\n",
    "\n",
    "def get_vocabulary_size(tagged_tokens, selector=lambda token: token[0]):\n",
    "    types = set()\n",
    "    \n",
    "    for tagged_token in tagged_tokens:\n",
    "        types.add(selector(tagged_token))\n",
    "        \n",
    "    return len(types)\n",
    "            \n",
    "    \n",
    "CORPUS_PATH = \"./sec02-21.gold.tagged\"\n",
    "tagged_tokens = read_corpus(CORPUS_PATH)\n",
    "corpus_size = len(tagged_tokens)\n",
    "vocab_size = get_vocabulary_size(tagged_tokens)\n",
    "vocab_size_lower = get_vocabulary_size(tagged_tokens, selector=lambda token: token[0].lower())\n",
    "\n",
    "print(\"# of tokens: {}\".format(corpus_size))\n",
    "print(\"# of types: {}\\n# of lowercase types: {}\".format(vocab_size, vocab_size_lower))"
   ]
  },
  {
   "cell_type": "markdown",
   "metadata": {},
   "source": [
    "The total number of tokens in the corpus is 929552. The number of types is 44210 and the number of types in case all the words are lowercased is 39384, so about 6000 less.\n",
    "\n",
    "Lowercasing our corpus helps us to treat words the same way even if they are at the beginning of a sentence (which would usually capitalize them). Otherwise, \"We\" at the start of sentences would be seen as a different type as \"we\" somewhere in the middle of a sentence which we would like to avoid, as they are intuitively the same word. \n",
    "\n",
    "Notable downsides can be seen in the corpus when looking at examples were the lowercased version differs from the original: For example, the company name American Express is lowercased and therefore indistinguishable from the \"normal\" words \"american\" and \"express\". We therefore loose information which could e.g. be valuable for Named Entity Recognition, where Capialization of proper nouns is a valuable features. It could also create ambiguities in cases where e.g. a proper noun is also a verb when lowercase.\n",
    "\n"
   ]
  },
  {
   "cell_type": "markdown",
   "metadata": {},
   "source": [
    "------\n",
    "For the rest of this exercise you should use the **original orthography** of the data when answering the questions.\n",
    "\n",
    "------\n"
   ]
  },
  {
   "cell_type": "markdown",
   "metadata": {},
   "source": [
    "**(b)** Plot a graph of word frequency versus rank of a word, in this corpus. Does this corpus obey **Zipf’s law**?"
   ]
  },
  {
   "cell_type": "code",
   "execution_count": 4,
   "metadata": {
    "scrolled": true
   },
   "outputs": [
    {
     "data": {
      "image/png": "[encoded data removed]",
      "text/plain": [
       "<matplotlib.figure.Figure at 0x10888c940>"
      ]
     },
     "metadata": {},
     "output_type": "display_data"
    }
   ],
   "source": [
    "from collections import defaultdict\n",
    "import matplotlib.pyplot as plt\n",
    "\n",
    "def count_frequencies(tagged_tokens, selector=lambda tagged_token: tagged_token[0]):\n",
    "    frequencies = defaultdict(int)\n",
    "    \n",
    "    for tagged_token in tagged_tokens:\n",
    "        frequencies[selector(tagged_token)] += 1\n",
    "        \n",
    "    sorted_frequencies = sorted(list(frequencies.items()), key=lambda el: el[1], reverse=True)\n",
    "        \n",
    "    return sorted_frequencies\n",
    "\n",
    "token_freqs = count_frequencies(tagged_tokens)\n",
    "\n",
    "plt.scatter(range(1, len(token_freqs) + 1), [freq for _, freq in token_freqs], marker=\".\", color=\"blue\")\n",
    "plt.yscale(\"log\")\n",
    "plt.xscale(\"log\")\n",
    "plt.ylabel(\"word frequency\")\n",
    "plt.xlabel(\"word rank\")\n",
    "plt.title(\"Word frequencies in {}\".format(CORPUS_PATH))\n",
    "plt.show()"
   ]
  },
  {
   "cell_type": "markdown",
   "metadata": {},
   "source": [
    "**(c)** What are the **20 most common words** in the corpus and how often do they occur? What is the 50th most common word, the 100th and the 1000th and how often do they occur?"
   ]
  },
  {
   "cell_type": "code",
   "execution_count": 5,
   "metadata": {},
   "outputs": [
    {
     "name": "stdout",
     "output_type": "stream",
     "text": [
      "The 20 most common words are:\n",
      "1. , (48310)\n",
      "2. the (40839)\n",
      "3. . (38798)\n",
      "4. of (22782)\n",
      "5. to (22056)\n",
      "6. a (19171)\n",
      "7. and (15906)\n",
      "8. in (15085)\n",
      "9. 's (9249)\n",
      "10. that (7951)\n",
      "11. for (7912)\n",
      "12. $ (7125)\n",
      "13. is (6893)\n",
      "14. The (6791)\n",
      "15. said (5597)\n",
      "16. on (5112)\n",
      "17. % (4871)\n",
      "18. it (4639)\n",
      "19. by (4450)\n",
      "20. from (4437)\n",
      "\n",
      "Other notable words and their frequencies are:\n",
      "50. had (1755)\n",
      "100. A (860)\n",
      "1000. man (109)\n",
      "\n"
     ]
    }
   ],
   "source": [
    "print(\"The 20 most common words are:\\n{}\\n\".format(\n",
    "    \"\\n\".join(\n",
    "        [\"{}. {} ({})\".format(rank, token_freq[0], token_freq[1]) \n",
    "        for rank, token_freq in zip(range(1, 21), token_freqs[:20])]\n",
    "    ))\n",
    ")\n",
    "\n",
    "other_ranks = [50, 100, 1000]\n",
    "print(\"Other notable words and their frequencies are:\\n{}\\n\".format(\n",
    "    \"\\n\".join(\n",
    "        [\"{}. {} ({})\".format(rank, *token_freqs[rank-1]) \n",
    "        for rank in other_ranks]\n",
    "    )\n",
    "))"
   ]
  },
  {
   "cell_type": "markdown",
   "metadata": {},
   "source": [
    "**(d)** How many different Part-of-speech tags are present in the corpus?"
   ]
  },
  {
   "cell_type": "code",
   "execution_count": 6,
   "metadata": {
    "scrolled": true
   },
   "outputs": [
    {
     "name": "stdout",
     "output_type": "stream",
     "text": [
      "There are 48 different Part-of-Speech tags in the corpus.\n"
     ]
    }
   ],
   "source": [
    "pos_vocab_size = get_vocabulary_size(tagged_tokens, selector=lambda token: token[1])\n",
    "\n",
    "print(\"There are {} different Part-of-Speech tags in the corpus.\".format(pos_vocab_size))"
   ]
  },
  {
   "cell_type": "markdown",
   "metadata": {},
   "source": [
    "**(e)** Print a list of the **10 most commonly occurring POS tags** in the data. For each of these POS tags, what are the **3 most common words** that belong to that class?"
   ]
  },
  {
   "cell_type": "code",
   "execution_count": 7,
   "metadata": {},
   "outputs": [
    {
     "name": "stdout",
     "output_type": "stream",
     "text": [
      "The 10 most common PoS tags with their three most common words are:\n",
      "1. NN (132134): % (4866), company (2457), year (2220)\n",
      "2. IN (99413): of (22778), in (14852), for (7907)\n",
      "3. NNP (90711): Mr. (4147), U.S. (1577), Corp. (1186)\n",
      "4. DT (82147): the (40831), a (19151), The (6753)\n",
      "5. JJ (59643): new (1396), other (1298), last (990)\n",
      "6. NNS (59332): years (1164), shares (1128), sales (939)\n",
      "7. , (48314): , (48310), an (1), 2 (1)\n",
      "8. . (39252): . (38798), ? (392), ! (62)\n",
      "9. CD (36148): million (4355), billion (1780), one (1203)\n",
      "10. RB (30232): n't (3211), also (1420), not (1287)\n",
      "\n"
     ]
    }
   ],
   "source": [
    "pos_freqs = count_frequencies(tagged_tokens, selector=lambda tagged_token: tagged_token[1])\n",
    "\n",
    "token_pos_tags = defaultdict(set)  # Possible pos tags for every token\n",
    "for token, pos in tagged_tokens:\n",
    "    token_pos_tags[token].add(pos)\n",
    "\n",
    "token_frequencies_by_pos = defaultdict(lambda: defaultdict(int))  # Most frequent words per PoS tag\n",
    "for token, tag in tagged_tokens:\n",
    "    token_frequencies_by_pos[tag][token] += 1\n",
    "    \n",
    "sorted_token_frequencies_by_pos = {\n",
    "    pos: sorted(list(frequencies.items()), key=lambda el: el[1], reverse=True)\n",
    "    for pos, frequencies in token_frequencies_by_pos.items()\n",
    "}\n",
    "\n",
    "print(\"The 10 most common PoS tags with their three most common words are:\\n{}\\n\".format(\n",
    "    \"\\n\".join(\n",
    "        [\"{}. {} ({}): {}\".format(\n",
    "            rank, *pos_freqs[rank-1], \n",
    "            \", \".join([\"{} ({})\".format(token, freq) for token, freq in sorted_token_frequencies_by_pos[pos_freqs[rank-1][0]][:3]])) \n",
    "        for rank, token_freq in zip(range(1, 11), pos_freqs[:10])]\n",
    "    ))\n",
    ")\n"
   ]
  },
  {
   "cell_type": "markdown",
   "metadata": {},
   "source": [
    "**(f)** A single word may have several POS-tags. For example, *record* can be a both a **noun** *(buy a record)* or a **verb** *(record a lecture)*. This make POS-tags extremely useful for **disambiguation**.\n",
    "\n",
    "What percentage of the words in the vocabulary is **ambiguous**? (i.e. have more than one POS tag?) What are the 10 most frequent combinations of POS tags in the case of ambitguity? Which words are **most ambiguous**? Give some of them."
   ]
  },
  {
   "cell_type": "code",
   "execution_count": 8,
   "metadata": {
    "scrolled": true
   },
   "outputs": [
    {
     "name": "stdout",
     "output_type": "stream",
     "text": [
      "The 10 most PoS combinations for ambiguous words are:\n",
      "1. ('VBD', 'VBN') (772)\n",
      "2. ('JJ', 'NN') (662)\n",
      "3. ('NN', 'NNP') (549)\n",
      "4. ('VB', 'VBP') (375)\n",
      "5. ('NNS', 'VBZ') (355)\n",
      "6. ('NN', 'VB') (351)\n",
      "7. ('NN', 'VBG') (315)\n",
      "8. ('JJ', 'VBD', 'VBN') (237)\n",
      "9. ('NN', 'VB', 'VBP') (233)\n",
      "10. ('JJ', 'NNP') (218)\n",
      "\n",
      "13.47 % of types are ambiguous.\n",
      "\n",
      "The 5 most ambiguous words in the corpus are:\n",
      "1. set (7: VBN, VBD, VB, NN, VBP, JJ, VBZ)\n",
      "2. many (7: JJ, NN, DT, RB, PDT, VB, NP)\n",
      "3. open (7: JJ, VB, VBP, RB, RP, NN, VBZ)\n",
      "4. down (7: RB, RP, IN, JJ, RBR, VBP, NN)\n",
      "5. in (6: IN, RP, RB, CC, FW, RBR)\n",
      "\n"
     ]
    }
   ],
   "source": [
    "pos_frequencies_by_type = defaultdict(lambda: defaultdict(int))  # Most frequent words per PoS tag\n",
    "for token, tag in tagged_tokens:\n",
    "    pos_frequencies_by_type[token][tag] += 1\n",
    "    \n",
    "sorted_pos_frequencies_by_type = {\n",
    "    pos: sorted(list(frequencies.items()), key=lambda el: el[1], reverse=True)\n",
    "    for pos, frequencies in pos_frequencies_by_type.items()\n",
    "}\n",
    "\n",
    "ambiguous_pos_combination_frequencies = defaultdict(int)\n",
    "for pos, frequencies in pos_frequencies_by_type.items():\n",
    "    if len(frequencies) > 1:\n",
    "        ambiguous_pos_combination_frequencies[tuple(sorted(frequencies.keys()))] += 1\n",
    "sorted_ambiguous_pos_combination_frequencies = sorted(\n",
    "    list(ambiguous_pos_combination_frequencies.items()), key=lambda el: el[1], reverse=True\n",
    ")\n",
    "print(\"The 10 most PoS combinations for ambiguous words are:\\n{}\\n\".format(\n",
    "    \"\\n\".join(\n",
    "        [\"{}. {} ({})\".format(rank, *combination_frequencies) \n",
    "        for rank, combination_frequencies in zip(range(1, 11), sorted_ambiguous_pos_combination_frequencies[:10])]\n",
    "    ))\n",
    ")\n",
    "\n",
    "percentage_ambiguous_types = len([\n",
    "    type_ for type_, pos_frequencies in sorted_pos_frequencies_by_type.items() \n",
    "    if len(pos_frequencies) > 1 \n",
    "]) / len(sorted_pos_frequencies_by_type.items()) * 100.0\n",
    "print(\"{:.2f} % of types are ambiguous.\\n\".format(percentage_ambiguous_types))\n",
    "\n",
    "sorted_types_by_ambiguity = sorted(list(sorted_pos_frequencies_by_type.items()), key=lambda el: len(el[1]), reverse=True)\n",
    "print(\"The 5 most ambiguous words in the corpus are:\\n{}\\n\".format(\n",
    "    \"\\n\".join(\n",
    "        [\"{}. {} ({}: {})\".format(rank, token_pos_frequencies[0], len(token_pos_frequencies[1]), \", \".join([pos for pos, _ in token_pos_frequencies[1]])) \n",
    "        for rank, token_pos_frequencies in zip(range(1, 6), sorted_types_by_ambiguity[:15])]\n",
    "    ))\n",
    ")"
   ]
  },
  {
   "cell_type": "markdown",
   "metadata": {},
   "source": [
    "**(g)**  Print some of these words with their multiple POS-tags. Do you **understand the ambiguity**? Use figure 10.1 mentioned above to interpret the POS-tags."
   ]
  },
  {
   "cell_type": "code",
   "execution_count": 9,
   "metadata": {},
   "outputs": [
    {
     "name": "stdout",
     "output_type": "stream",
     "text": [
      "The 5 most ambiguous words in the corpus are:\n",
      "1. set (7: VBN, VBD, VB, NN, VBP, JJ, VBZ)\n",
      "2. many (7: JJ, NN, DT, RB, PDT, VB, NP)\n",
      "3. open (7: JJ, VB, VBP, RB, RP, NN, VBZ)\n",
      "4. down (7: RB, RP, IN, JJ, RBR, VBP, NN)\n",
      "5. in (6: IN, RP, RB, CC, FW, RBR)\n",
      "\n"
     ]
    }
   ],
   "source": [
    "sorted_types_by_ambiguity = sorted(list(sorted_pos_frequencies_by_type.items()), key=lambda el: len(el[1]), reverse=True)\n",
    "print(\"The 5 most ambiguous words in the corpus are:\\n{}\\n\".format(\n",
    "    \"\\n\".join(\n",
    "        [\"{}. {} ({}: {})\".format(rank, token_pos_frequencies[0], len(token_pos_frequencies[1]), \", \".join([pos for pos, _ in token_pos_frequencies[1]])) \n",
    "        for rank, token_pos_frequencies in zip(range(1, 6), sorted_types_by_ambiguity[:15])]\n",
    "    ))\n",
    ")"
   ]
  },
  {
   "cell_type": "markdown",
   "metadata": {},
   "source": [
    "**(h)** Ambiguous words do not account for a great percentage of the vocabulary. Yet they are among the most commonly occuring words of the English language. What **percentage of the dataset is ambiguous**?"
   ]
  },
  {
   "cell_type": "code",
   "execution_count": 10,
   "metadata": {},
   "outputs": [
    {
     "name": "stdout",
     "output_type": "stream",
     "text": [
      "55.08 % of the data set is ambiguous.\n"
     ]
    }
   ],
   "source": [
    "percentage_ambiguous_tokens = sum([\n",
    "    freq for token, freq in token_freqs \n",
    "    if len(sorted_pos_frequencies_by_type[token]) > 1 \n",
    "]) / corpus_size * 100\n",
    "\n",
    "print(\"{:.2f} % of the data set is ambiguous.\".format(percentage_ambiguous_tokens))"
   ]
  },
  {
   "cell_type": "markdown",
   "metadata": {},
   "source": [
    "## Exercise 1.2 (10 points, 5 per subquestion)"
   ]
  },
  {
   "cell_type": "markdown",
   "metadata": {},
   "source": [
    "You are also provided with another file called **sec00.gold.tagged**. \n",
    "Section 00 of the Penn Treebank is typically used as development data."
   ]
  },
  {
   "cell_type": "markdown",
   "metadata": {},
   "source": [
    "**(a)** How many **unseen words** are present in the development data (i.e., words that have not occurred in the training data)?"
   ]
  },
  {
   "cell_type": "code",
   "execution_count": 11,
   "metadata": {
    "scrolled": false
   },
   "outputs": [
    {
     "name": "stdout",
     "output_type": "stream",
     "text": [
      "1728 tokens in the development data are unseen (3.80 %).\n"
     ]
    }
   ],
   "source": [
    "SEC_00_CORPUS_PATH = \"./sec00.gold.tagged\"\n",
    "sec0_tagged_tokens = read_corpus(SEC_00_CORPUS_PATH)\n",
    "\n",
    "tokens_training = {token for token, _ in tagged_tokens}\n",
    "unseen_tokens = sum(\n",
    "    [1 for token, _ in sec0_tagged_tokens if token not in tokens_training]\n",
    ")\n",
    "print(\n",
    "    \"{} tokens in the development data are unseen ({:.2f} %).\".format(\n",
    "        unseen_tokens, unseen_tokens / len(sec0_tagged_tokens) * 100\n",
    "    )\n",
    ")"
   ]
  },
  {
   "cell_type": "markdown",
   "metadata": {},
   "source": [
    "**(b)** What are the three **POS tag categories** that the most **unseen words** belong to?"
   ]
  },
  {
   "cell_type": "code",
   "execution_count": 12,
   "metadata": {
    "scrolled": true
   },
   "outputs": [
    {
     "name": "stdout",
     "output_type": "stream",
     "text": [
      "The three top PoS tags that the most unseen words belong to are:\n",
      "1. NNP (815)\n",
      "2. JJ (258)\n",
      "3. NN (210)\n",
      "\n"
     ]
    }
   ],
   "source": [
    "unseen_pos_categories = defaultdict(int)\n",
    "\n",
    "for token, pos in sec0_tagged_tokens:\n",
    "    if token not in tokens_training:\n",
    "        unseen_pos_categories[pos] += 1\n",
    "        \n",
    "sorted_unseen_pos_categories = sorted(list(unseen_pos_categories.items()), key=lambda el: el[1], reverse=True)\n",
    "        \n",
    "print(\"The three top PoS tags that the most unseen words belong to are:\\n{}\\n\".format(\n",
    "    \"\\n\".join(\n",
    "        [\"{}. {} ({})\".format(rank, *pos_frequencies) \n",
    "        for rank, pos_frequencies in zip(range(1, 4), sorted_unseen_pos_categories[:3])]\n",
    "    ))\n",
    ")"
   ]
  },
  {
   "cell_type": "markdown",
   "metadata": {},
   "source": [
    "# 2. Language Models\n",
    "\n",
    "This part of the lab will be covered in the Wednesday lecture. If you have prior exposure to NLP, go ahead and finish this part! If you don't, start anyway, and this part will be clear after the lecture. \n",
    "\n",
    "Reference **chapter 4** of J&M *Language Modeling with N-Grams*. \n",
    "\n",
    "----------\n",
    "\n",
    "Models that assign **probabilities** to **sequences of words** are called language **language\n",
    "modelels** or **LMs**. The simplest model that assigns probabilities to sentences and sequences of words is the **N-gram** model.\n",
    "\n",
    "Recall that an *N*-gram language model uses **conditional probabilities** of the form\n",
    "    \n",
    "$$P(w_k \\mid w_{k-N+1} \\dots w_{k-1})$$\n",
    "\n",
    "to **approximate** the full **joint probability**\n",
    "\n",
    "$$P(w_1 \\dots w_n)$$\n",
    "\n",
    "of a sequence of words $w_1 \\dots w_n$.\n",
    "\n",
    "The easiest way of obtaining estimates for the probabilities $P(w_k \\mid w_{k-N+1} \\dots w_{k-1})$ is to use the **maximum likelihood estimate** or **MLE**, a widely used statistical estimation method ([read more]((https://en.wikipedia.org/wiki/Maximum_likelihood_estimation)). You count and normalize:\n",
    "\n",
    "$$P_{MLE}(w_k \\mid w_{k-N+1} \\dots w_{k-1}) = \\frac{C(w_{k-N+1} \\dots w_{k-1} w_k)}{C(w_{k-N+1} \\dots w_{k-1})}.$$\n",
    "\n",
    "\n",
    "## Exercise 2.1 (25 points)\n",
    "\n",
    "**(a) ** Complete the function `train_ngram` so that you can train a count-based $N$-gram language model on the data found in `data/ted-train.txt` and train this for $N=2,3,4$. **15 points**\n",
    "\n",
    "**(b) ** Extend the function above so that it accepts a parameter `k` for optional add-$k$ smoothing. **10 points**\n",
    "\n",
    "**[Datastructure hint]** If you store the smoothed language in a naive manner (that is, to store *all* the numbers separately) your datastructure will get huge! If $V$ is the vocabulary then the smoothed bigram model assigns probabilities to $|V|^2$ entries. If $|V|$ is around 80k, the naive way requires you to store more than 64 billion floats. Yet almost all of these are actually just $P(w_n|w_{n-1}) = \\frac{k}{N + k|V|}$, with $k$ the value with which you smooth and $N=C(w_{n-1})$. Think about how you use this fact to make your model work in practice."
   ]
  },
  {
   "cell_type": "markdown",
   "metadata": {},
   "source": [
    "**[Python hint]** The `collections` library has another useful datastructure: the `defaultdict`. Some example uses:"
   ]
  },
  {
   "cell_type": "code",
   "execution_count": 13,
   "metadata": {},
   "outputs": [
    {
     "data": {
      "text/plain": [
       "0.0"
      ]
     },
     "execution_count": 13,
     "metadata": {},
     "output_type": "execute_result"
    }
   ],
   "source": [
    "from collections import defaultdict\n",
    "\n",
    "d = defaultdict(float)\n",
    "d[\"new key\"]"
   ]
  },
  {
   "cell_type": "markdown",
   "metadata": {},
   "source": [
    "Compare that to an ordinary dictionary:"
   ]
  },
  {
   "cell_type": "code",
   "execution_count": 14,
   "metadata": {},
   "outputs": [
    {
     "ename": "KeyError",
     "evalue": "'new key'",
     "output_type": "error",
     "traceback": [
      "\u001b[0;31m---------------------------------------------------------------------------\u001b[0m",
      "\u001b[0;31mKeyError\u001b[0m                                  Traceback (most recent call last)",
      "\u001b[0;32m<ipython-input-14-c19a7fd7bc46>\u001b[0m in \u001b[0;36m<module>\u001b[0;34m()\u001b[0m\n\u001b[1;32m      1\u001b[0m \u001b[0md\u001b[0m \u001b[0;34m=\u001b[0m \u001b[0mdict\u001b[0m\u001b[0;34m(\u001b[0m\u001b[0;34m)\u001b[0m\u001b[0;34m\u001b[0m\u001b[0m\n\u001b[0;32m----> 2\u001b[0;31m \u001b[0md\u001b[0m\u001b[0;34m[\u001b[0m\u001b[0;34m\"new key\"\u001b[0m\u001b[0;34m]\u001b[0m\u001b[0;34m\u001b[0m\u001b[0m\n\u001b[0m",
      "\u001b[0;31mKeyError\u001b[0m: 'new key'"
     ]
    }
   ],
   "source": [
    "d = dict()\n",
    "d[\"new key\"]"
   ]
  },
  {
   "cell_type": "markdown",
   "metadata": {},
   "source": [
    "Other datatypes as `default_factory`:"
   ]
  },
  {
   "cell_type": "code",
   "execution_count": 15,
   "metadata": {},
   "outputs": [
    {
     "data": {
      "text/plain": [
       "0"
      ]
     },
     "execution_count": 15,
     "metadata": {},
     "output_type": "execute_result"
    }
   ],
   "source": [
    "d = defaultdict(int)\n",
    "d[\"new key\"]"
   ]
  },
  {
   "cell_type": "code",
   "execution_count": 16,
   "metadata": {},
   "outputs": [
    {
     "data": {
      "text/plain": [
       "[]"
      ]
     },
     "execution_count": 16,
     "metadata": {},
     "output_type": "execute_result"
    }
   ],
   "source": [
    "d = defaultdict(list)\n",
    "d[\"new key\"]"
   ]
  },
  {
   "cell_type": "markdown",
   "metadata": {},
   "source": [
    "Converting an already existing `dict`:"
   ]
  },
  {
   "cell_type": "code",
   "execution_count": 17,
   "metadata": {},
   "outputs": [
    {
     "name": "stdout",
     "output_type": "stream",
     "text": [
      "value\n",
      "0.0\n"
     ]
    }
   ],
   "source": [
    "d1 = {k: \"value\" for k in range(1, 11)}\n",
    "d = defaultdict(float, d1) # convert it to a defaultdict\n",
    "print(d[5])\n",
    "print(d[100])"
   ]
  },
  {
   "cell_type": "markdown",
   "metadata": {},
   "source": [
    "This doesn't work:"
   ]
  },
  {
   "cell_type": "code",
   "execution_count": 18,
   "metadata": {},
   "outputs": [
    {
     "ename": "TypeError",
     "evalue": "first argument must be callable or None",
     "output_type": "error",
     "traceback": [
      "\u001b[0;31m---------------------------------------------------------------------------\u001b[0m",
      "\u001b[0;31mTypeError\u001b[0m                                 Traceback (most recent call last)",
      "\u001b[0;32m<ipython-input-18-89e9c9b71b5c>\u001b[0m in \u001b[0;36m<module>\u001b[0;34m()\u001b[0m\n\u001b[0;32m----> 1\u001b[0;31m \u001b[0md\u001b[0m \u001b[0;34m=\u001b[0m \u001b[0mdefaultdict\u001b[0m\u001b[0;34m(\u001b[0m\u001b[0;36m10\u001b[0m\u001b[0;34m)\u001b[0m\u001b[0;34m\u001b[0m\u001b[0m\n\u001b[0m",
      "\u001b[0;31mTypeError\u001b[0m: first argument must be callable or None"
     ]
    }
   ],
   "source": [
    "d = defaultdict(10)"
   ]
  },
  {
   "cell_type": "markdown",
   "metadata": {},
   "source": [
    "Use a `lambda` to make the number `10` `callable`\":"
   ]
  },
  {
   "cell_type": "code",
   "execution_count": 19,
   "metadata": {},
   "outputs": [
    {
     "data": {
      "text/plain": [
       "10"
      ]
     },
     "execution_count": 19,
     "metadata": {},
     "output_type": "execute_result"
    }
   ],
   "source": [
    "d = defaultdict(lambda: 10)\n",
    "d[\"new key\"]"
   ]
  },
  {
   "cell_type": "code",
   "execution_count": 20,
   "metadata": {},
   "outputs": [
    {
     "data": {
      "text/plain": [
       "defaultdict(float, {})"
      ]
     },
     "execution_count": 20,
     "metadata": {},
     "output_type": "execute_result"
    }
   ],
   "source": [
    "d = defaultdict(lambda: defaultdict(float))\n",
    "d[\"new key\"]"
   ]
  },
  {
   "cell_type": "markdown",
   "metadata": {},
   "source": [
    "Clever use of a `defaultdict` can be the solution to the problem of data-storing in a smoothing $N$-gram pointed out above:\n",
    "    \n",
    "    ngram = defaultdict(lambda: k/(N+kV), ngram)"
   ]
  },
  {
   "cell_type": "markdown",
   "metadata": {},
   "source": [
    "The following function is given:"
   ]
  },
  {
   "cell_type": "code",
   "execution_count": 23,
   "metadata": {},
   "outputs": [],
   "source": [
    "def read(fname, max_lines=np.inf):\n",
    "    \"\"\"\n",
    "    Reads in the data in fname and returns it as\n",
    "    one long list of words. Also returns a vocabulary in\n",
    "    the form of a word2index and index2word dictionary.\n",
    "    \"\"\"\n",
    "    data = []\n",
    "    # w2i will automatically keep a counter to asign to new words\n",
    "    w2i = defaultdict(lambda: len(w2i))\n",
    "    i2w = dict()\n",
    "    start = \"<s>\"\n",
    "    end = \"</s>\"\n",
    "    \n",
    "    with open(fname, \"r\") as fh:\n",
    "        for k, line in enumerate(fh):\n",
    "            if k > max_lines:\n",
    "                break\n",
    "            words = line.strip().split()\n",
    "            # assign an index to each word\n",
    "            for w in words:\n",
    "                i2w[w2i[w]] = w # trick\n",
    "            \n",
    "            sent = [start] + words + [end]\n",
    "            data.append(sent)\n",
    "\n",
    "    return data, w2i, i2w\n",
    "\n",
    "train_file = \"ted-train.txt\"\n",
    "data, w2i, i2w = read(train_file)"
   ]
  },
  {
   "cell_type": "code",
   "execution_count": 24,
   "metadata": {},
   "outputs": [
    {
     "data": {
      "text/plain": [
       "['<s>',\n",
       " 'Both',\n",
       " 'are',\n",
       " 'necessary',\n",
       " ',',\n",
       " 'but',\n",
       " 'it',\n",
       " 'can',\n",
       " 'be',\n",
       " 'too',\n",
       " 'much',\n",
       " 'of',\n",
       " 'a',\n",
       " 'good',\n",
       " 'thing',\n",
       " '.',\n",
       " '</s>']"
      ]
     },
     "execution_count": 24,
     "metadata": {},
     "output_type": "execute_result"
    }
   ],
   "source": [
    "data[2]"
   ]
  },
  {
   "cell_type": "code",
   "execution_count": 86,
   "metadata": {},
   "outputs": [
    {
     "name": "stdout",
     "output_type": "stream",
     "text": [
      "Training smoothed unigram model...\n",
      "Training smoothed bigram model...\n",
      "Training smoothed trigram model...\n",
      "Training smoothed 4-gram model...\n",
      "p(became|wanted) =  0.00019265383408651807\n",
      "p(cheerpressured|they) =  1.2852231468688751e-05\n",
      "p(donuts|they, wanted) =  1.2852231468688751e-05\n"
     ]
    }
   ],
   "source": [
    "from collections import Counter\n",
    "import math\n",
    "\n",
    "def train_ngram(data, N, k=0, check_probs=False):\n",
    "    \"\"\"\n",
    "    Trains an n-gram language model with optional add-k smoothing\n",
    "    and additionaly returns the unigram model\n",
    "    \n",
    "    :param data: text-data as returned by read\n",
    "    :param N: (N>1) the order of the ngram e.g. N=2 gives a bigram\n",
    "    :param k: optional add-k smoothing\n",
    "    :returns: ngram and unigram\n",
    "    \"\"\"\n",
    "    data_size = sum([len(sentence) for sentence in data])\n",
    "    tokens = (token for sentence in data for token in sentence)\n",
    "    ngrams = defaultdict(Counter) # ngram[history][word] = #(history,word)\n",
    "    unigram = defaultdict(float, Counter(tokens)) # default prob is 0.0 \n",
    "    vocabulary_size = len(unigram.keys())\n",
    "        \n",
    "    # Calculate n-gram probs\n",
    "    for sentence in data:\n",
    "        for ngram in zip(*[sentence[i:] for i in range(N)]):\n",
    "            word, history = ngram[N-1],  ngram[:N-1]\n",
    "            ngrams[history][word] += 1\n",
    "            \n",
    "    # Calculate unigram probs\n",
    "    for type_ in unigram.keys():\n",
    "        unigram[type_] /= data_size\n",
    "        \n",
    "    # Turn ngram frequencies into probabilities\n",
    "    ngram_probs = defaultdict(lambda: defaultdict(lambda: 1 / vocabulary_size))\n",
    "    for history, word_counts in ngrams.items():\n",
    "        history_count = sum(word_counts.values())\n",
    "        # Add smoothing for unseen\n",
    "        ngram_probs[history] = defaultdict(\n",
    "            lambda: k / (history_count + k * vocabulary_size)\n",
    "        )\n",
    "        for word, word_count in word_counts.items():\n",
    "            # Add smoothing for seen\n",
    "            ngram_probs[history][word] = (k + word_count) / (history_count + k * vocabulary_size)\n",
    "\n",
    "        if check_probs:\n",
    "            check_sum = sum(ngram_probs[history][word] for word in unigram.keys())\n",
    "            assert math.isclose(check_sum, 1), \"Probabilities for history {} for n={} seem off ({}).\".format(history, N, check_sum)\n",
    "            #print(\"Checking history {}: {}\".format(history, sum(ngram_probs[history][word] for word in unigram.keys())))\n",
    "            \n",
    "    return ngram_probs, unigram\n",
    "\n",
    "def train_ngram_models(train_file, Ns, k=0):\n",
    "    assert type(Ns) == list, \"Expecting list of n-gram model orders\"\n",
    "    assert 0 not in Ns, \"Nothing lower than a unigram possible\"\n",
    "    models = {}\n",
    "    prefixes = {1: \"uni\", 2: \"bi\", 3: \"tri\"}\n",
    "    \n",
    "    for N in Ns:\n",
    "        print(\"Training {}{}gram model...\".format(\n",
    "            \"smoothed \" if k > 0 else \"\", prefixes.get(N, str(N) + \"-\"))\n",
    "        )\n",
    "        models[N], models[1] = train_ngram(data, N, k)\n",
    "        \n",
    "    return models\n",
    "    \n",
    "train_file = \"ted-train.txt\"\n",
    "data, w2i, i2w = read(train_file)\n",
    "smoothed_models = train_ngram_models(data, Ns=[1, 2, 3, 4], k=2)\n",
    "unigram_smoothed, bigram_smoothed, trigram_smoothed, fourgram_smoothed = tuple(smoothed_models.values())\n",
    "\n",
    "#unsmoothed_models = train_ngram_models(data, Ns=[1, 2, 3, 4])\n",
    "#unigram_unsmoothed, bigram_unsmoothed, trigram_unsmoothed, fourgram_unsmoothed = tuple(unsmoothed_models.values())\n",
    "\n",
    "print(\"p(became|wanted) = \", bigram_smoothed[(\"they\",)][\"became\"])\n",
    "print(\"p(cheerpressured|they) = \", bigram_smoothed[(\"they\",)][\"cheerpressured\"])\n",
    "print(\"p(donuts|they, wanted) = \", trigram_smoothed[(\"they\", \"wanted\")][\"donuts\"])"
   ]
  },
  {
   "cell_type": "markdown",
   "metadata": {},
   "source": [
    "## Exercise 2.2 (5 points)\n",
    "\n",
    "You can use an *N*-gram language model to **generate text**. The higher the order *N* the better your model will be able to catch the long-range dependecies that occur in actual sentences and the better your changes are at generating sensible text. But beware: **sparsity** of language data will quickly cause your model to reproduce entire lines from your training data; in such cases only one $w_k$ was observed for the histories $w_{k-N+1}\\dots w_{k-1}$ in the entire training-set.\n",
    "\n",
    "**Complete** the function `generate_sent`. It takes a language model `lm` and an order `N` and should generate a sentence by **sampling** from the language model.\n",
    "\n",
    "**[Hint]** You can use the method of [inverse transform sampling](https://en.wikipedia.org/wiki/Inverse_transform_sampling) to generate a sample from a **categorical distribution**, $p_1\\dots p_k$ such that $p_i \\geq 0$ and $\\sum_{i=1}^k p_i = 1$, as follows:"
   ]
  },
  {
   "cell_type": "code",
   "execution_count": 66,
   "metadata": {},
   "outputs": [
    {
     "name": "stdout",
     "output_type": "stream",
     "text": [
      "2\n",
      "Counter({1: 496, 2: 208, 0: 195, 3: 101})\n"
     ]
    }
   ],
   "source": [
    "from random import random\n",
    "\n",
    "P = [0.2,0.5,0.2,0.1]\n",
    "\n",
    "def sample(P):\n",
    "    u = random() # uniformly random number between 0 and 1\n",
    "    p = 0\n",
    "    for i, p_i in enumerate(P):\n",
    "        p += p_i\n",
    "        if p > u: \n",
    "            return i # the first i s.t. p1 + ... + pi > u\n",
    "        \n",
    "print(sample(P))\n",
    "\n",
    "print(Counter([sample(P) for i in range(1000)])) # check to see if the law of large numbers is still true"
   ]
  },
  {
   "cell_type": "markdown",
   "metadata": {},
   "source": [
    "Inverse transform sampling in the words of Jurafsky and Martin:\n",
    "\n",
    "> Imagine all the words of the English language covering the probability space\n",
    "between 0 and 1, each word covering an interval proportional to its frequency. We\n",
    "choose a random value between 0 and 1 and print the word whose interval includes\n",
    "this chosen value.\n",
    "\n",
    "(J&M, section 4.3)"
   ]
  },
  {
   "cell_type": "code",
   "execution_count": 136,
   "metadata": {},
   "outputs": [
    {
     "name": "stdout",
     "output_type": "stream",
     "text": [
      "Training unigram model...\n",
      "Training bigram model...\n",
      "Training trigram model...\n"
     ]
    }
   ],
   "source": [
    "unsmoothed_models = train_ngram_models(data, Ns=[1, 2, 3])\n",
    "unigram_unsmoothed, bigram_unsmoothed, trigram_unsmoothed = tuple(unsmoothed_models.values())"
   ]
  },
  {
   "cell_type": "code",
   "execution_count": 140,
   "metadata": {},
   "outputs": [
    {
     "name": "stdout",
     "output_type": "stream",
     "text": [
      "Generating sentences from n=3...\n",
      "sent []\n",
      "uni\n",
      "sent ['had']\n",
      "2\n",
      "sent ['had', 'its']\n",
      "1. had its moments . </s>\n",
      "sent []\n",
      "uni\n",
      "sent ['.']\n",
      "2\n",
      "sent ['.', '</s>']\n",
      "2. . </s>\n",
      "sent []\n",
      "uni\n",
      "sent ['some']\n",
      "2\n",
      "sent ['some', 'science']\n",
      "3. some science here . </s>\n",
      "sent []\n",
      "uni\n",
      "sent ['Queen']\n",
      "2\n",
      "sent ['Queen', '.']\n",
      "4. Queen . </s>\n",
      "sent []\n",
      "uni\n",
      "sent ['can']\n",
      "2\n",
      "sent ['can', 'make']\n",
      "5. can make much difference . </s>\n",
      "sent []\n",
      "uni\n",
      "sent ['attracts']\n",
      "2\n",
      "sent ['attracts', ',']\n",
      "6. attracts , it 's not true . </s>\n",
      "sent []\n",
      "uni\n",
      "sent ['sunlight']\n",
      "2\n",
      "sent ['sunlight', ',']\n",
      "7. sunlight , we 've only explored about five years of field-testing . </s>\n",
      "sent []\n",
      "uni\n",
      "sent ['also']\n",
      "2\n",
      "sent ['also', 'never']\n",
      "8. also never been so lucky . </s>\n",
      "sent []\n",
      "uni\n",
      "sent ['enabling']\n",
      "2\n",
      "sent ['enabling', 'you']\n",
      "9. enabling you to see the extraordinary range of issues . </s>\n",
      "sent []\n",
      "uni\n",
      "sent []\n",
      "uni\n",
      "sent ['shown']\n",
      "2\n",
      "sent ['shown', 'here']\n",
      "10. shown here . </s>\n"
     ]
    }
   ],
   "source": [
    "def generate_sent(lm, N):\n",
    "    sentence = []\n",
    "    \n",
    "    # Sample sentence head\n",
    "    for n in range(1, N):\n",
    "        print (\"sent\", sentence)\n",
    "        ngrams = lm[n] \n",
    "        \n",
    "        # Unigram\n",
    "        if n == 1:\n",
    "            #print(\"uni\")\n",
    "            vocabulary, probabilities = zip(*ngrams.items())\n",
    "            sample_index = sample(probabilities)\n",
    "            \n",
    "            # Try from scratch, bad sample\n",
    "            if vocabulary[sample_index] == \"</s>\":\n",
    "                return generate_sent(lm, N)\n",
    "            \n",
    "            sentence.append(vocabulary[sample_index])\n",
    "            \n",
    "        # Bigram and higher\n",
    "        elif n > 1: \n",
    "            #print(n)\n",
    "            history = sentence[len(sentence)-N+1:]\n",
    "\n",
    "            word_probabilities = ngrams[tuple(history)]  # Word probabilities given histories\n",
    "            vocabulary, probabilities = zip(*word_probabilities.items())\n",
    "            #print(\"probs\", probabilities)\n",
    "\n",
    "            sample_index = sample(probabilities)\n",
    "            \n",
    "            if sample_index is not None:\n",
    "                sentence.append(vocabulary[sample_index])\n",
    "            else:\n",
    "                return \" \".join(sentence)\n",
    "                \n",
    "     \n",
    "    #print(\"sent\", sentence)\n",
    "    # Sample rest of sentence\n",
    "    ngrams = lm[N]\n",
    "    while sample_index is not None:\n",
    "        #print(sentence)\n",
    "        history = sentence[len(sentence)-N+1:]\n",
    "        word_probabilities = ngrams[tuple(history)]\n",
    "        \n",
    "        if len(word_probabilities) == 0:\n",
    "            break\n",
    "            \n",
    "        vocabulary, probabilities = zip(*word_probabilities.items())\n",
    "        sample_index = sample(probabilities)\n",
    "        \n",
    "        if sample_index is not None:\n",
    "            sentence.append(vocabulary[sample_index])\n",
    "            \n",
    "    return \" \".join(sentence)\n",
    "\n",
    "n_generate = 3\n",
    "print(\"Generating sentences from n={}...\".format(n_generate))\n",
    "for i in range(10):\n",
    "    print(\"{}. {}\".format(i+1, generate_sent(unsmoothed_models, n_generate)))\n",
    "    "
   ]
  },
  {
   "cell_type": "markdown",
   "metadata": {},
   "source": [
    "### [Optional]\n",
    "\n",
    "For how many of the histories $w_{k-N+1}\\dots w_{k-1}$ is the number of continuations $w_n$ equal to **one**? Calculate the percentage of such cases for the different orders *N*.\n",
    "\n",
    "And which history has the **most possible continuations**?"
   ]
  },
  {
   "cell_type": "code",
   "execution_count": null,
   "metadata": {
    "collapsed": true
   },
   "outputs": [],
   "source": [
    "### ANSWER ###"
   ]
  },
  {
   "cell_type": "markdown",
   "metadata": {},
   "source": [
    "## Excercise 2.3 (5 points)\n",
    "\n",
    "Let $V$ denote our vocabulary. Recall that for any $w$ in $V$ `bigram[w]` defines a conditional probability $p(v|w)$ over $v$ in $V$. In the case of an **unsmoothed bigram**, $p(v|w) = 0$ for most $v\\in V$, whereas in the **smoothed bigram** smoothing took care that $p(v|w) \\geq 0$ for *all* $v$.\n",
    "\n",
    "The function `plot_bigram_dist(word, bigram, smoothbigram, k=30)` plots shows $p(v|word)$ for the `k` words $v$. One bar shows the probabilities in `bigram` and one in `smoothbigram`. \n",
    "\n",
    "**(a)** Use this function to plot the distribution for at least two words `w` and answer the questions\n",
    "* What is the effect of smoothing on the bigram distribution of frequent words? \n",
    "* What is the effect in the case of infrequent words?\n",
    "* Explain the difference between the two based on the raw counts of `w` \n",
    "\n",
    "**(b)** Now experiment with $k$ much smaller than 1 (but greater than 0!) \n",
    "* What are the effects?\n",
    "\n",
    "\n",
    "**[Hint]** Remember that add-1 smoothing turns \n",
    "$$P(w_n\\mid w_{n-1}) = \\frac{C(w_{n-1}w_{n})}{C(w_{n-1})}$$\n",
    "into\n",
    "$$P_{add-1}(w_n\\mid w_{n-1}) = \\frac{C(w_{n-1}w_{n}) + 1}{C(w_{n-1}) + |V|}.$$\n",
    "\n",
    "What happens when $C(w_{n-1})$ is relatively big (similiar in of size as $ |V| $)? And what if $C(w_{n-1})$ is small? "
   ]
  },
  {
   "cell_type": "code",
   "execution_count": 133,
   "metadata": {},
   "outputs": [],
   "source": [
    "import pandas as pd\n",
    "import seaborn as sns    \n",
    "\n",
    "def plot_bigram_dist(word, bigram, smoothbigram, k=30):\n",
    "    d = bigram[word]\n",
    "    ds = smoothbigram[word]\n",
    "    \n",
    "    # sort the probabilities\n",
    "    d_sort = sorted(d.items(), reverse=True, key=lambda t: t[1])[0:k]\n",
    "    ds_sort = sorted(ds.items(), reverse=True, key=lambda t: t[1])[0:k]\n",
    "    \n",
    "    _, probs = zip(*d_sort)\n",
    "    smooth_ws, smooth_probs = zip(*ds_sort)\n",
    "    \n",
    "    # make up for the fact that in the unsmoothed case  probs is generally less than k long\n",
    "    probs = probs + (0,) * (k-len(probs)) \n",
    "\n",
    "    w_data = pd.DataFrame({\"w\": smooth_ws * 2,\n",
    "                           \"P({}|w)\".format(word): probs + smooth_probs,\n",
    "                           \"smoothing\": [\"unsmoothed\"]*k + [\"smoothed\"]*k})\n",
    "    \n",
    "    fig, ax = plt.subplots(figsize=(10,10))\n",
    "    plt.xticks(rotation=90)\n",
    "    g = sns.barplot(ax=ax, x=\"w\", y=\"P({}|w)\".format(word), hue=\"smoothing\",\n",
    "                    data=w_data, palette=\"Blues_d\")    "
   ]
  },
  {
   "cell_type": "code",
   "execution_count": 134,
   "metadata": {},
   "outputs": [
    {
     "data": {
      "image/png": "[encoded data removed]",
      "text/plain": [
       "<matplotlib.figure.Figure at 0x17bb8bef0>"
      ]
     },
     "metadata": {},
     "output_type": "display_data"
    },
    {
     "data": {
      "image/png": "[encoded data removed]",
      "text/plain": [
       "<matplotlib.figure.Figure at 0x2f03a6b00>"
      ]
     },
     "metadata": {},
     "output_type": "display_data"
    }
   ],
   "source": [
    "frequent_word = \"the\"\n",
    "infrequent_word = \"Netflix\"\n",
    "\n",
    "unsmoothed_bigrams, unigrams = train_ngram(data, N=2)\n",
    "smoothed_bigrams, _ = train_ngram(data, N=2, k=1)\n",
    "\n",
    "# Adjust dict keys to fit above function\n",
    "unsmoothed_bigrams = {\n",
    "    history[0]: probabilities for history, probabilities in unsmoothed_bigrams.items()\n",
    "}\n",
    "smoothed_bigrams = {\n",
    "    history[0]: probabilities for history, probabilities in smoothed_bigrams.items()\n",
    "}\n",
    "for word in unigrams.keys():\n",
    "    smoothed_bigrams[infrequent_word][word]\n",
    "\n",
    "plot_bigram_dist(frequent_word, unsmoothed_bigrams, smoothed_bigrams)\n",
    "plot_bigram_dist(infrequent_word, unsmoothed_bigrams, smoothed_bigrams)"
   ]
  },
  {
   "cell_type": "markdown",
   "metadata": {},
   "source": [
    "YOUR ANSWERS HERE"
   ]
  },
  {
   "cell_type": "markdown",
   "metadata": {},
   "source": [
    "\n",
    "**Recall** that if we have a sentence $w_1,\\dots,w_n$ we can write\n",
    "\n",
    "$$P(w_1\\dots w_n) = P(w_1)P(w_2|w_1) \\cdots P(w_i|w_1 \\dots w_{n-1}) \\approx P(w_1)P(w_2|w_1)\\cdots P(w_{N-1}|w_1\\dots w_{N-2})\\prod_{i=N}^{n} P(w_i|w_{i-(N-1)}\\dots w_{i-1})$$\n",
    "\n",
    "where in the last step we make an $N$-gram approximation of the full conditionals.\n",
    "\n",
    "For example, in the case of a bigram (N=2), the above expression reduces to\n",
    "\n",
    "$$P(w_1 \\dots w_n)\\approx P(w_1)\\prod_{i=2}^{n} P(w_i| w_{i-1}).$$\n",
    "\n",
    "## Exercise 2.4 (5 points)\n",
    "\n",
    "The following sentences are taken from the **training data**. Use your **unsmoothed unigram**, **bigram**, and **trigram** language model to estimate their **probabilities**:\n",
    "\n",
    "    1. Every day was about creating something new .\n",
    "    2. In this machine , a beam of protons and anti-protons are accelerated to near the speed of light and brought \n",
    "       together in a collision , producing a burst of pure energy .\n",
    "\n",
    "**Repeat** this with the **smoothed (add-1)** versions of the N-grams. What is the effect of smoothing on the probabilities?\n"
   ]
  },
  {
   "cell_type": "code",
   "execution_count": null,
   "metadata": {
    "collapsed": true
   },
   "outputs": [],
   "source": [
    "## YOUR CODE HERE ##"
   ]
  },
  {
   "cell_type": "markdown",
   "metadata": {},
   "source": [
    "YOUR ANSWERS HERE"
   ]
  },
  {
   "cell_type": "markdown",
   "metadata": {},
   "source": [
    "## Exercise 2.5 (5 points)\n",
    "\n",
    "The above sentences were taken from the training set, hence they will all have probability greater than 0. The big challenge for our language model are of course with sentence that contain unseen N-grams: if such an N-gram occurs our model immediately assigns the sentence probability zero.\n",
    "\n",
    "The following three senteces are taken from the **test set** availlable in the file **ted-test.txt**. What probabilities do your smoothed and unsmoothed language models asign in this case?\n",
    "\n",
    "    1. Because these robots are really safe .\n",
    "    2. We have sheer nothingness on one side , and we have this vision of a reality that encompasses every \n",
    "       conceivable world at the other extreme : the fullest possible reality , nothingness , the simplest possible \n",
    "       reality ."
   ]
  },
  {
   "cell_type": "code",
   "execution_count": null,
   "metadata": {
    "collapsed": true
   },
   "outputs": [],
   "source": [
    "### YOUR CODE HERE ###"
   ]
  },
  {
   "cell_type": "markdown",
   "metadata": {},
   "source": [
    "YOUR ANSWERS HERE"
   ]
  },
  {
   "cell_type": "markdown",
   "metadata": {},
   "source": [
    "### [Optional]\n",
    "\n",
    "**Optional** What percentage of the sentences in the test set get assigned probability 0 under your smoothed and unsmoothed language models? "
   ]
  },
  {
   "cell_type": "code",
   "execution_count": 272,
   "metadata": {
    "collapsed": true
   },
   "outputs": [],
   "source": [
    "### ANSWER HERE ###"
   ]
  },
  {
   "cell_type": "markdown",
   "metadata": {},
   "source": [
    "## Exercise 2.6 (5 points)\n",
    "\n",
    "**Perplexity** is very frequently used **metric** for evaluating probabilistic models such as language models. The perplexity (sometimes called **PP** for short) of a language model on a sentence is the **inverse probability** of the sentence, **normalized** by the number of words:\n",
    "\n",
    "$$PP(w_1 \\dots w_n) = P(w_1\\dots w_n)^{-\\frac{1}{n}}.$$\n",
    "\n",
    "Here we can again approximate $P(w_1 \\dots w_n)$ with N-gram probabilities, as above.\n",
    "Note: $(x_1\\cdots x_n)^{-\\frac{1}{n}}$ is the **geometric mean** of the numbers $x_1,\\dots,x_n$. It is like the (regular) artithmetic mean, but with **products** instead of **sums**. The geometric mean is a more natural choice in the case of *PP* because behind $P(w_1\\dots w_n)$ is a series of $n$ products ([more here](https://en.wikipedia.org/wiki/Geometric_mean)).\n",
    "\n",
    "\n",
    "\n",
    "Compute the perplexity of the training sentences from excercise 2.1. What big difference between the **probabilities** of the sentences and the **perplexities** of the sentences do you notice?"
   ]
  },
  {
   "cell_type": "code",
   "execution_count": null,
   "metadata": {
    "collapsed": true
   },
   "outputs": [],
   "source": [
    "### YOUR CODE HERE ###"
   ]
  },
  {
   "cell_type": "markdown",
   "metadata": {},
   "source": [
    "YOUR ANSWER HERE"
   ]
  },
  {
   "cell_type": "markdown",
   "metadata": {},
   "source": [
    "# That's it!\n",
    "\n",
    "Congratulations, you have made it to the end of the tutorial. Here we will recap the gist of this notebook. \n",
    "\n",
    "**Make sure all your cells can be executed and all your answers are there. Then, read on if you're interested!**\n",
    "\n",
    "-----\n",
    "\n",
    "By now you should have a solid feeling for the problem of **sparsity in language data**; there's just never enough data. For the task of language modelling, we saw that sparsity is a serious challenge. \n",
    "\n",
    "It would be great to be able to model $p(w_n|w_1 \\dots w_{n-1})$ for unlimited $n$: the larger $n$ the better our language model should become at capturing the long-range dependencies between words that characterize actual human sentences, and the more probability our model will asign to such sentences as opposed to sentences that are word-soup. But in the N-gram approach, increasing $n$ will quickly kill all generalizing abilities of the model: the model will start to asign probabilities only to sentences it has seen in the training data.\n",
    "\n",
    "So, where to go from here? Here are three directions that we could head in.\n",
    "\n",
    "### Smoothing\n",
    "\n",
    "We have seen one example of smoothing in this lab: add-k smoothing. This is an easy method, both conceptually and implementation-wise. But the results are not great, and the effects it has on the distributions can be extreme.\n",
    "\n",
    "A much more sophisticated method of smoothing is so-called **Kneser-Ney smoothing**. The method is described in detail in section 4.5 of J&M (3rd edition). This is one of the best performing N-gram smoothing methods, and up to a few years ago a popular implementation of it called [KenLM](https://kheafield.com/code/kenlm/) gave state of the art results.\n",
    "\n",
    "### From words to characters\n",
    "\n",
    "In this lab we have considered language modeling as the task of predicting a **word** $w_n$ based on a history of **words** $w_1\\cdots w_n$. What if instead we let our basic units of modelling be **characters**? The task then becomes to model $p(c_k\\mid c_{k-N-1}\\dots c_{k-1})$ where each $c_i$ is now an ASCII character instead of an entire word.\n",
    "\n",
    "Suddenly sparsity of data is no longer a problem! The set of characters to use is tiny (< 100) compared to even a small-sized vocabulary as today. Have a look at this very illustrative notebook written by Yoav Golberg to see such a method in action: [The unreasonable effectiveness of Character-level Language Models](http://nbviewer.jupyter.org/gist/yoavg/d76121dfde2618422139).\n",
    "\n",
    "(So what is the downside?)\n",
    "\n",
    "\n",
    "### Neural language models\n",
    "\n",
    "The above notebook was actually written as a response to this blog post by Andrej Karpathy: [The Unreasonable Effectiveness of Recurrent Neural Networks](http://karpathy.github.io/2015/05/21/rnn-effectiveness/). Go ahead and read it if you haven't already: it is a superb introduction to the topic of Recurrent Neural Networks.\n",
    "\n",
    "Neural language models solve the problem of data sparsity in a different manner. Instead of estimating the probabilities $p(w_k\\mid w_{k-N-1}\\dots w_{k-1})$ by counting occurences in the data, they use a neural network $f_{\\theta}$ parametrized by parameters $\\theta$ to predict this probability. The parameters $\\theta$ are learned through optimization. \n",
    "\n",
    "The simplest approach goes like this: each word in the history $w_{k-N-1}\\dots w_{k-1}$ is embedded separately giving  vectors $e_{k-N-1}\\dots e_{k-1}$ and then concatenated into one long vectors $[e_{k-N-1};\\dots ;e_{k-1}]$. The network then uses this history vector to predict a probability distribution over words $w$ in the vocabulary $V$:\n",
    "\n",
    "$$p(w \\mid w_{k-N-1}\\dots w_{k-1}) = f_{\\theta}([e_{k-N-1};\\dots;e_{k-1}]).$$\n",
    "\n",
    "(In order to produce legitimate probabilities the final layer of such a network will be for example a $softmax$.)\n",
    "\n",
    "This provides a solution to the sparsity problem by having the network let the individual embeddings of the words in the history interact through its non-linear transforamtion. We are letting the network figure out the smoothing itself!\n",
    "\n",
    "RNNs are a clever extension of this idea, where a hidden state vector $h$ is re-used and updated at each step $k$ in order to store the information of the entire history up to step $k-1$. That is, an RNN actually does away with the N-order approximation; it tries to model the full conditional directly! That means that\n",
    "\n",
    "$$p(w \\mid w_1\\dots w_{k-1}) \\approx RNN_{\\theta}([e_{k-1};h_{k-1}])$$\n",
    "\n",
    "where the hidden state $h_{k-1}$ is a compression of the *entire history* $w_1\\dots w_{k-1}$.\n",
    "\n",
    "Another great place to learn about RNNs, their problems, and solutions to those, is on the blog of [Christopher Olah](http://colah.github.io/posts/2015-08-Understanding-LSTMs/). The project on language modelling will involve learning more about these methods. \n",
    "\n",
    "-----------\n",
    "(And now, it's time to read the classic essay by Eugene Wigner that gave both of the posts their title: [The Unreasonable Effectiveness of Mathematics in the Natural Sciences](http://www.dartmouth.edu/~matc/MathDrama/reading/Wigner.html))"
   ]
  }
 ],
 "metadata": {
  "anaconda-cloud": {},
  "kernelspec": {
   "display_name": "Python 3",
   "language": "python",
   "name": "python3"
  },
  "language_info": {
   "codemirror_mode": {
    "name": "ipython",
    "version": 3
   },
   "file_extension": ".py",
   "mimetype": "text/x-python",
   "name": "python",
   "nbconvert_exporter": "python",
   "pygments_lexer": "ipython3",
   "version": "3.6.1"
  }
 },
 "nbformat": 4,
 "nbformat_minor": 1
}
