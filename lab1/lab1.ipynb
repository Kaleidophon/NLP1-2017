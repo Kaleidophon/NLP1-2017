{
 "cells": [
  {
   "cell_type": "code",
   "execution_count": 58,
   "metadata": {
    "collapsed": true
   },
   "outputs": [],
   "source": [
    "%matplotlib inline\n",
    "import matplotlib\n",
    "import numpy as np\n",
    "import matplotlib.pyplot as plt"
   ]
  },
  {
   "cell_type": "markdown",
   "metadata": {},
   "source": [
    "# Lab 1: Text Corpora and Language Modelling\n",
    "\n",
    "This lab is meant to help you get familiar with some language data, and use this data to estimate N-gram language models\n",
    "\n",
    "First you will use the **Penn Treebank**, which is a collection of newspaper articles from the newspaper \n",
    "The Wall Street Journal. The idea is to examine the data and notice interesting properties. This will not take more than a few lines of code.\n",
    "\n",
    "Then you will use a corpus consisting of **TedX** talks. This you will use to estimate an **N-gram language model** for different orders of N, and use this this for some tasks.\n",
    "\n",
    "The datasets are on blackboard under course materials. Download the zip and make sure to put the files in the same directory as the notebook.\n",
    "\n",
    "### Rules\n",
    "* The lab exercises should be made in **groups of two people**.\n",
    "\n",
    "* The deadline is **Tuesday 7 nov 16:59**.\n",
    "\n",
    "* The assignment should submitted to **Blackboard** as `.ipynb`. Only **one submission per group**.\n",
    "\n",
    "* The **filename** should be `lab1_lastname1_lastname2.ipynb`, so for example `lab1_Jurafsky_Martin.ipynb`.\n",
    "\n",
    "* The notebook is graded on a scale of **0-10**. The number of points for each question is indicated in parantheses. \n",
    "\n",
    "* The questions marked **optional** are not graded; they are an additional challenge for those interested in going the extra mile. \n",
    "\n",
    "Notes on implementation:\n",
    "\n",
    "* You should **write your code and answers in this iPython Notebook** (see http://ipython.org/notebook.html for reference material). If you have problems, please contact your teaching assistant.\n",
    "\n",
    "* Use only **one cell for code** and **one cell for markdown** answers!    \n",
    "\n",
    "    * Put all code in the cell with the `# YOUR CODE HERE` comment.\n",
    "    \n",
    "    * For theoretical question, put your solution in the YOUR ANSWER HERE cell.\n",
    "    \n",
    "* Test your code and **make sure we can run your notebook**"
   ]
  },
  {
   "cell_type": "markdown",
   "metadata": {},
   "source": [
    "# 1. Penn treebank\n",
    "\n",
    "## Exercise 1.1 (40 points, 5 points per subquestion )\n",
    "\n",
    "You are provided with a corpus containing words with their Part-of-Speech tags (POS-tags for short). The format is\n",
    "**word|POS** (one sentence per line) and the file name is **sec02-22.gold.tagged**. This data is extracted from Sections 02-22 from the Penn Treebank: these sections are most commonly used for training statistical models like POS-taggers and parsers.\n",
    "\n",
    "**[Hint]** **Figure 10.1** in chapter 10 of Jurafsky and Martin (see [here](https://web.stanford.edu/~jurafsky/slp3/10.pdf)) holds a summary of the 45 POS-tags used in the Penn Treebank tagset together with their meaning and some examples. (If you are keen on learning more about the word-classes represented POS-tags and their definitions you can do a litle reading ahead for next week and already have a look at section 10.1 of the same chapter).\n",
    "\n",
    "**[Hint]** the Python library [collections](https://docs.python.org/2/library/collections.html) has an object called `Counter` which will come in handy for this exercise."
   ]
  },
  {
   "cell_type": "markdown",
   "metadata": {},
   "source": [
    " "
   ]
  },
  {
   "cell_type": "markdown",
   "metadata": {},
   "source": [
    "**(a)** How large is the corpus? (i.e. how **many tokens**). And what is the size of the **vocabulary** used in this corpus? \n",
    "\n",
    "Estimate the vocabulary size both by **lowercasing** all the words as well as by leaving the words in their **original orthography**. What is an advantage of lowercasing all the words in your corpus? What is a notable downside? **Give examples.**"
   ]
  },
  {
   "cell_type": "code",
   "execution_count": 84,
   "metadata": {},
   "outputs": [
    {
     "name": "stdout",
     "output_type": "stream",
     "text": [
      "# of tokens: 929552\n",
      "# of types: 44210\n",
      "# of lowercase types: 39384\n"
     ]
    }
   ],
   "source": [
    "import codecs\n",
    "\n",
    "\n",
    "def read_corpus(path):\n",
    "    tagged_tokens = []\n",
    "    \n",
    "    with codecs.open(path, \"rb\", \"utf-8\") as corpus_file:\n",
    "        for line in corpus_file.readlines():\n",
    "            raw_line = line.strip()\n",
    "            raw_tokens = raw_line.split(\" \")\n",
    "            tokens = [tuple(token.split(\"|\")) for token in raw_tokens]\n",
    "            tagged_tokens.extend(tokens)\n",
    "            \n",
    "    return tagged_tokens\n",
    "\n",
    "def get_vocabulary_size(tagged_tokens, selector=lambda token: token[0]):\n",
    "    types = set()\n",
    "    \n",
    "    for tagged_token in tagged_tokens:\n",
    "        types.add(selector(tagged_token))\n",
    "        \n",
    "    return len(types)\n",
    "            \n",
    "    \n",
    "CORPUS_PATH = \"./sec02-21.gold.tagged\"\n",
    "tagged_tokens = read_corpus(CORPUS_PATH)\n",
    "corpus_size = len(tagged_tokens)\n",
    "vocab_size = get_vocabulary_size(tagged_tokens)\n",
    "vocab_size_lower = get_vocabulary_size(tagged_tokens, selector=lambda token: token[0].lower())\n",
    "\n",
    "print(\"# of tokens: {}\".format(corpus_size))\n",
    "print(\"# of types: {}\\n# of lowercase types: {}\".format(vocab_size, vocab_size_lower))"
   ]
  },
  {
   "cell_type": "markdown",
   "metadata": {},
   "source": [
    "The total number of tokens in the corpus is 929552. The number of types is 44210 and the number of types in case all the words are lowercased is 39384, so about 6000 less.\n",
    "\n",
    "Lowercasing our corpus helps us to treat words the same way even if they are at the beginning of a sentence (which would usually capitalize them). Otherwise, \"We\" at the start of sentences would be seen as a different type as \"we\" somewhere in the middle of a sentence which we would like to avoid, as they are intuitively the same word. \n",
    "\n",
    "Notable downsides can be seen in the corpus when looking at examples were the lowercased version differs from the original: For example, the company name American Express is lowercased and therefore indistinguishable from the \"normal\" words \"american\" and \"express\". We therefore loose information which could e.g. be valuable for Named Entity Recognition, where Capialization of proper nouns is a valuable features. It could also create ambiguities in cases where e.g. a proper noun is also a verb when lowercase.\n",
    "\n"
   ]
  },
  {
   "cell_type": "markdown",
   "metadata": {},
   "source": [
    "------\n",
    "For the rest of this exercise you should use the **original orthography** of the data when answering the questions.\n",
    "\n",
    "------\n"
   ]
  },
  {
   "cell_type": "markdown",
   "metadata": {},
   "source": [
    "**(b)** Plot a graph of word frequency versus rank of a word, in this corpus. Does this corpus obey **Zipf’s law**?"
   ]
  },
  {
   "cell_type": "code",
   "execution_count": 60,
   "metadata": {
    "scrolled": true
   },
   "outputs": [
    {
     "data": {
      "image/png": "[encoded data removed]",
      "text/plain": [
       "<matplotlib.figure.Figure at 0x10a3b7860>"
      ]
     },
     "metadata": {},
     "output_type": "display_data"
    }
   ],
   "source": [
    "from collections import defaultdict\n",
    "import matplotlib.pyplot as plt\n",
    "\n",
    "def count_frequencies(tagged_tokens, selector=lambda tagged_token: tagged_token[0]):\n",
    "    frequencies = defaultdict(int)\n",
    "    \n",
    "    for tagged_token in tagged_tokens:\n",
    "        frequencies[selector(tagged_token)] += 1\n",
    "        \n",
    "    sorted_frequencies = sorted(list(frequencies.items()), key=lambda el: el[1], reverse=True)\n",
    "        \n",
    "    return sorted_frequencies\n",
    "\n",
    "token_freqs = count_frequencies(tagged_tokens)\n",
    "\n",
    "plt.scatter(range(1, len(token_freqs) + 1), [freq for _, freq in token_freqs], marker=\".\", color=\"blue\")\n",
    "plt.yscale(\"log\")\n",
    "plt.xscale(\"log\")\n",
    "plt.ylabel(\"word frequency\")\n",
    "plt.xlabel(\"word rank\")\n",
    "plt.title(\"Word frequencies in {}\".format(CORPUS_PATH))\n",
    "plt.show()"
   ]
  },
  {
   "cell_type": "markdown",
   "metadata": {},
   "source": [
    "**(c)** What are the **20 most common words** in the corpus and how often do they occur? What is the 50th most common word, the 100th and the 1000th and how often do they occur?"
   ]
  },
  {
   "cell_type": "code",
   "execution_count": 61,
   "metadata": {},
   "outputs": [
    {
     "name": "stdout",
     "output_type": "stream",
     "text": [
      "The 20 most common words are:\n",
      "1. , (48310)\n",
      "2. the (40839)\n",
      "3. . (38798)\n",
      "4. of (22782)\n",
      "5. to (22056)\n",
      "6. a (19171)\n",
      "7. and (15906)\n",
      "8. in (15085)\n",
      "9. 's (9249)\n",
      "10. that (7951)\n",
      "11. for (7912)\n",
      "12. $ (7125)\n",
      "13. is (6893)\n",
      "14. The (6791)\n",
      "15. said (5597)\n",
      "16. on (5112)\n",
      "17. % (4871)\n",
      "18. it (4639)\n",
      "19. by (4450)\n",
      "20. from (4437)\n",
      "\n",
      "Other notable words and their frequencies are:\n",
      "50. had (1755)\n",
      "100. A (860)\n",
      "1000. man (109)\n",
      "\n"
     ]
    }
   ],
   "source": [
    "print(\"The 20 most common words are:\\n{}\\n\".format(\n",
    "    \"\\n\".join(\n",
    "        [\"{}. {} ({})\".format(rank, token_freq[0], token_freq[1]) \n",
    "        for rank, token_freq in zip(range(1, 21), token_freqs[:20])]\n",
    "    ))\n",
    ")\n",
    "\n",
    "other_ranks = [50, 100, 1000]\n",
    "print(\"Other notable words and their frequencies are:\\n{}\\n\".format(\n",
    "    \"\\n\".join(\n",
    "        [\"{}. {} ({})\".format(rank, *token_freqs[rank-1]) \n",
    "        for rank in other_ranks]\n",
    "    )\n",
    "))"
   ]
  },
  {
   "cell_type": "markdown",
   "metadata": {},
   "source": [
    "**(d)** How many different Part-of-speech tags are present in the corpus?"
   ]
  },
  {
   "cell_type": "code",
   "execution_count": 62,
   "metadata": {
    "scrolled": true
   },
   "outputs": [
    {
     "name": "stdout",
     "output_type": "stream",
     "text": [
      "There are 48 different Part-of-Speech tags in the corpus.\n"
     ]
    }
   ],
   "source": [
    "pos_vocab_size = get_vocabulary_size(tagged_tokens, selector=lambda token: token[1])\n",
    "\n",
    "print(\"There are {} different Part-of-Speech tags in the corpus.\".format(pos_vocab_size))"
   ]
  },
  {
   "cell_type": "markdown",
   "metadata": {},
   "source": [
    "**(e)** Print a list of the **10 most commonly occurring POS tags** in the data. For each of these POS tags, what are the **3 most common words** that belong to that class?"
   ]
  },
  {
   "cell_type": "code",
   "execution_count": 63,
   "metadata": {},
   "outputs": [
    {
     "name": "stdout",
     "output_type": "stream",
     "text": [
      "The 10 most common PoS tags with their three most common words are:\n",
      "1. NN (132134): % (4866), company (2457), year (2220)\n",
      "2. IN (99413): of (22778), in (14852), for (7907)\n",
      "3. NNP (90711): Mr. (4147), U.S. (1577), Corp. (1186)\n",
      "4. DT (82147): the (40831), a (19151), The (6753)\n",
      "5. JJ (59643): new (1396), other (1298), last (990)\n",
      "6. NNS (59332): years (1164), shares (1128), sales (939)\n",
      "7. , (48314): , (48310), an (1), 2 (1)\n",
      "8. . (39252): . (38798), ? (392), ! (62)\n",
      "9. CD (36148): million (4355), billion (1780), one (1203)\n",
      "10. RB (30232): n't (3211), also (1420), not (1287)\n",
      "\n"
     ]
    }
   ],
   "source": [
    "pos_freqs = count_frequencies(tagged_tokens, selector=lambda tagged_token: tagged_token[1])\n",
    "\n",
    "token_pos_tags = defaultdict(set)  # Possible pos tags for every token\n",
    "for token, pos in tagged_tokens:\n",
    "    token_pos_tags[token].add(pos)\n",
    "\n",
    "token_frequencies_by_pos = defaultdict(lambda: defaultdict(int))  # Most frequent words per PoS tag\n",
    "for token, tag in tagged_tokens:\n",
    "    token_frequencies_by_pos[tag][token] += 1\n",
    "    \n",
    "sorted_token_frequencies_by_pos = {\n",
    "    pos: sorted(list(frequencies.items()), key=lambda el: el[1], reverse=True)\n",
    "    for pos, frequencies in token_frequencies_by_pos.items()\n",
    "}\n",
    "\n",
    "print(\"The 10 most common PoS tags with their three most common words are:\\n{}\\n\".format(\n",
    "    \"\\n\".join(\n",
    "        [\"{}. {} ({}): {}\".format(\n",
    "            rank, *pos_freqs[rank-1], \n",
    "            \", \".join([\"{} ({})\".format(token, freq) for token, freq in sorted_token_frequencies_by_pos[pos_freqs[rank-1][0]][:3]])) \n",
    "        for rank, token_freq in zip(range(1, 11), pos_freqs[:10])]\n",
    "    ))\n",
    ")\n"
   ]
  },
  {
   "cell_type": "markdown",
   "metadata": {},
   "source": [
    "**(f)** A single word may have several POS-tags. For example, *record* can be a both a **noun** *(buy a record)* or a **verb** *(record a lecture)*. This make POS-tags extremely useful for **disambiguation**.\n",
    "\n",
    "What percentage of the words in the vocabulary is **ambiguous**? (i.e. have more than one POS tag?) What are the 10 most frequent combinations of POS tags in the case of ambitguity? Which words are **most ambiguous**? Give some of them."
   ]
  },
  {
   "cell_type": "code",
   "execution_count": 64,
   "metadata": {
    "scrolled": true
   },
   "outputs": [
    {
     "name": "stdout",
     "output_type": "stream",
     "text": [
      "The 10 most PoS combinations for ambiguous words are:\n",
      "1. ('VBD', 'VBN') (772)\n",
      "2. ('JJ', 'NN') (662)\n",
      "3. ('NN', 'NNP') (549)\n",
      "4. ('VB', 'VBP') (375)\n",
      "5. ('NNS', 'VBZ') (355)\n",
      "6. ('NN', 'VB') (351)\n",
      "7. ('NN', 'VBG') (315)\n",
      "8. ('JJ', 'VBD', 'VBN') (237)\n",
      "9. ('NN', 'VB', 'VBP') (233)\n",
      "10. ('JJ', 'NNP') (218)\n",
      "\n",
      "13.47 % of types are ambiguous.\n",
      "\n",
      "The 5 most ambiguous words in the corpus are:\n",
      "1. set (7: VBN, VBD, VB, NN, VBP, JJ, VBZ)\n",
      "2. many (7: JJ, NN, DT, RB, PDT, VB, NP)\n",
      "3. open (7: JJ, VB, VBP, RB, RP, NN, VBZ)\n",
      "4. down (7: RB, RP, IN, JJ, RBR, VBP, NN)\n",
      "5. in (6: IN, RP, RB, CC, FW, RBR)\n",
      "\n"
     ]
    }
   ],
   "source": [
    "pos_frequencies_by_type = defaultdict(lambda: defaultdict(int))  # Most frequent words per PoS tag\n",
    "for token, tag in tagged_tokens:\n",
    "    pos_frequencies_by_type[token][tag] += 1\n",
    "    \n",
    "sorted_pos_frequencies_by_type = {\n",
    "    pos: sorted(list(frequencies.items()), key=lambda el: el[1], reverse=True)\n",
    "    for pos, frequencies in pos_frequencies_by_type.items()\n",
    "}\n",
    "\n",
    "ambiguous_pos_combination_frequencies = defaultdict(int)\n",
    "for pos, frequencies in pos_frequencies_by_type.items():\n",
    "    if len(frequencies) > 1:\n",
    "        ambiguous_pos_combination_frequencies[tuple(sorted(frequencies.keys()))] += 1\n",
    "sorted_ambiguous_pos_combination_frequencies = sorted(\n",
    "    list(ambiguous_pos_combination_frequencies.items()), key=lambda el: el[1], reverse=True\n",
    ")\n",
    "print(\"The 10 most PoS combinations for ambiguous words are:\\n{}\\n\".format(\n",
    "    \"\\n\".join(\n",
    "        [\"{}. {} ({})\".format(rank, *combination_frequencies) \n",
    "        for rank, combination_frequencies in zip(range(1, 11), sorted_ambiguous_pos_combination_frequencies[:10])]\n",
    "    ))\n",
    ")\n",
    "\n",
    "percentage_ambiguous_types = len([\n",
    "    type_ for type_, pos_frequencies in sorted_pos_frequencies_by_type.items() \n",
    "    if len(pos_frequencies) > 1 \n",
    "]) / len(sorted_pos_frequencies_by_type.items()) * 100.0\n",
    "print(\"{:.2f} % of types are ambiguous.\\n\".format(percentage_ambiguous_types))\n",
    "\n",
    "sorted_types_by_ambiguity = sorted(list(sorted_pos_frequencies_by_type.items()), key=lambda el: len(el[1]), reverse=True)\n",
    "print(\"The 5 most ambiguous words in the corpus are:\\n{}\\n\".format(\n",
    "    \"\\n\".join(\n",
    "        [\"{}. {} ({}: {})\".format(rank, token_pos_frequencies[0], len(token_pos_frequencies[1]), \", \".join([pos for pos, _ in token_pos_frequencies[1]])) \n",
    "        for rank, token_pos_frequencies in zip(range(1, 6), sorted_types_by_ambiguity[:15])]\n",
    "    ))\n",
    ")"
   ]
  },
  {
   "cell_type": "markdown",
   "metadata": {},
   "source": [
    "**(g)**  Print some of these words with their multiple POS-tags. Do you **understand the ambiguity**? Use figure 10.1 mentioned above to interpret the POS-tags."
   ]
  },
  {
   "cell_type": "code",
   "execution_count": 65,
   "metadata": {},
   "outputs": [
    {
     "name": "stdout",
     "output_type": "stream",
     "text": [
      "The 5 most ambiguous words in the corpus are:\n",
      "1. set (7: VBN, VBD, VB, NN, VBP, JJ, VBZ)\n",
      "2. many (7: JJ, NN, DT, RB, PDT, VB, NP)\n",
      "3. open (7: JJ, VB, VBP, RB, RP, NN, VBZ)\n",
      "4. down (7: RB, RP, IN, JJ, RBR, VBP, NN)\n",
      "5. in (6: IN, RP, RB, CC, FW, RBR)\n",
      "\n"
     ]
    }
   ],
   "source": [
    "sorted_types_by_ambiguity = sorted(list(sorted_pos_frequencies_by_type.items()), key=lambda el: len(el[1]), reverse=True)\n",
    "print(\"The 5 most ambiguous words in the corpus are:\\n{}\\n\".format(\n",
    "    \"\\n\".join(\n",
    "        [\"{}. {} ({}: {})\".format(rank, token_pos_frequencies[0], len(token_pos_frequencies[1]), \", \".join([pos for pos, _ in token_pos_frequencies[1]])) \n",
    "        for rank, token_pos_frequencies in zip(range(1, 6), sorted_types_by_ambiguity[:15])]\n",
    "    ))\n",
    ")"
   ]
  },
  {
   "cell_type": "markdown",
   "metadata": {},
   "source": [
    "**(h)** Ambiguous words do not account for a great percentage of the vocabulary. Yet they are among the most commonly occuring words of the English language. What **percentage of the dataset is ambiguous**?"
   ]
  },
  {
   "cell_type": "code",
   "execution_count": 66,
   "metadata": {},
   "outputs": [
    {
     "name": "stdout",
     "output_type": "stream",
     "text": [
      "55.08 % of the data set is ambiguous.\n"
     ]
    }
   ],
   "source": [
    "percentage_ambiguous_tokens = sum([\n",
    "    freq for token, freq in token_freqs \n",
    "    if len(sorted_pos_frequencies_by_type[token]) > 1 \n",
    "]) / corpus_size * 100\n",
    "\n",
    "print(\"{:.2f} % of the data set is ambiguous.\".format(percentage_ambiguous_tokens))"
   ]
  },
  {
   "cell_type": "markdown",
   "metadata": {},
   "source": [
    "## Exercise 1.2 (10 points, 5 per subquestion)"
   ]
  },
  {
   "cell_type": "markdown",
   "metadata": {},
   "source": [
    "You are also provided with another file called **sec00.gold.tagged**. \n",
    "Section 00 of the Penn Treebank is typically used as development data."
   ]
  },
  {
   "cell_type": "markdown",
   "metadata": {},
   "source": [
    "**(a)** How many **unseen words** are present in the development data (i.e., words that have not occurred in the training data)?"
   ]
  },
  {
   "cell_type": "code",
   "execution_count": 85,
   "metadata": {
    "scrolled": false
   },
   "outputs": [
    {
     "name": "stdout",
     "output_type": "stream",
     "text": [
      "1728 tokens in the development data are unseen (3.80 %).\n"
     ]
    }
   ],
   "source": [
    "SEC_00_CORPUS_PATH = \"./sec00.gold.tagged\"\n",
    "sec0_tagged_tokens = read_corpus(SEC_00_CORPUS_PATH)\n",
    "\n",
    "tokens_training = {token for token, _ in tagged_tokens}\n",
    "unseen_tokens = sum(\n",
    "    [1 for token, _ in sec0_tagged_tokens if token not in tokens_training]\n",
    ")\n",
    "print(\n",
    "    \"{} tokens in the development data are unseen ({:.2f} %).\".format(\n",
    "        unseen_tokens, unseen_tokens / len(sec0_tagged_tokens) * 100\n",
    "    )\n",
    ")"
   ]
  },
  {
   "cell_type": "markdown",
   "metadata": {},
   "source": [
    "**(b)** What are the three **POS tag categories** that the most **unseen words** belong to?"
   ]
  },
  {
   "cell_type": "code",
   "execution_count": 86,
   "metadata": {
    "scrolled": true
   },
   "outputs": [
    {
     "name": "stdout",
     "output_type": "stream",
     "text": [
      "The three top PoS tags that the most unseen words belong to are:\n",
      "1. NNP (815)\n",
      "2. JJ (258)\n",
      "3. NN (210)\n",
      "\n"
     ]
    }
   ],
   "source": [
    "unseen_pos_categories = defaultdict(int)\n",
    "\n",
    "for token, pos in sec0_tagged_tokens:\n",
    "    if token not in tokens_training:\n",
    "        unseen_pos_categories[pos] += 1\n",
    "        \n",
    "sorted_unseen_pos_categories = sorted(list(unseen_pos_categories.items()), key=lambda el: el[1], reverse=True)\n",
    "        \n",
    "print(\"The three top PoS tags that the most unseen words belong to are:\\n{}\\n\".format(\n",
    "    \"\\n\".join(\n",
    "        [\"{}. {} ({})\".format(rank, *pos_frequencies) \n",
    "        for rank, pos_frequencies in zip(range(1, 4), sorted_unseen_pos_categories[:3])]\n",
    "    ))\n",
    ")"
   ]
  },
  {
   "cell_type": "markdown",
   "metadata": {},
   "source": [
    "# 2. Language Models\n",
    "\n",
    "This part of the lab will be covered in the Wednesday lecture. If you have prior exposure to NLP, go ahead and finish this part! If you don't, start anyway, and this part will be clear after the lecture. \n",
    "\n",
    "Reference **chapter 4** of J&M *Language Modeling with N-Grams*. \n",
    "\n",
    "----------\n",
    "\n",
    "Models that assign **probabilities** to **sequences of words** are called language **language\n",
    "modelels** or **LMs**. The simplest model that assigns probabilities to sentences and sequences of words is the **N-gram** model.\n",
    "\n",
    "Recall that an *N*-gram language model uses **conditional probabilities** of the form\n",
    "    \n",
    "$$P(w_k \\mid w_{k-N+1} \\dots w_{k-1})$$\n",
    "\n",
    "to **approximate** the full **joint probability**\n",
    "\n",
    "$$P(w_1 \\dots w_n)$$\n",
    "\n",
    "of a sequence of words $w_1 \\dots w_n$.\n",
    "\n",
    "The easiest way of obtaining estimates for the probabilities $P(w_k \\mid w_{k-N+1} \\dots w_{k-1})$ is to use the **maximum likelihood estimate** or **MLE**, a widely used statistical estimation method ([read more]((https://en.wikipedia.org/wiki/Maximum_likelihood_estimation)). You count and normalize:\n",
    "\n",
    "$$P_{MLE}(w_k \\mid w_{k-N+1} \\dots w_{k-1}) = \\frac{C(w_{k-N+1} \\dots w_{k-1} w_k)}{C(w_{k-N+1} \\dots w_{k-1})}.$$\n",
    "\n",
    "\n",
    "## Exercise 2.1 (25 points)\n",
    "\n",
    "**(a) ** Complete the function `train_ngram` so that you can train a count-based $N$-gram language model on the data found in `data/ted-train.txt` and train this for $N=2,3,4$. **15 points**\n",
    "\n",
    "**(b) ** Extend the function above so that it accepts a parameter `k` for optional add-$k$ smoothing. **10 points**\n",
    "\n",
    "**[Datastructure hint]** If you store the smoothed language in a naive manner (that is, to store *all* the numbers separately) your datastructure will get huge! If $V$ is the vocabulary then the smoothed bigram model assigns probabilities to $|V|^2$ entries. If $|V|$ is around 80k, the naive way requires you to store more than 64 billion floats. Yet almost all of these are actually just $P(w_n|w_{n-1}) = \\frac{k}{N + k|V|}$, with $k$ the value with which you smooth and $N=C(w_{n-1})$. Think about how you use this fact to make your model work in practice."
   ]
  },
  {
   "cell_type": "markdown",
   "metadata": {},
   "source": [
    "**[Python hint]** The `collections` library has another useful datastructure: the `defaultdict`. Some example uses:"
   ]
  },
  {
   "cell_type": "code",
   "execution_count": 74,
   "metadata": {},
   "outputs": [
    {
     "data": {
      "text/plain": [
       "0.0"
      ]
     },
     "execution_count": 74,
     "metadata": {},
     "output_type": "execute_result"
    }
   ],
   "source": [
    "from collections import defaultdict\n",
    "\n",
    "d = defaultdict(float)\n",
    "d[\"new key\"]"
   ]
  },
  {
   "cell_type": "markdown",
   "metadata": {},
   "source": [
    "Compare that to an ordinary dictionary:"
   ]
  },
  {
   "cell_type": "code",
   "execution_count": 75,
   "metadata": {},
   "outputs": [
    {
     "ename": "KeyError",
     "evalue": "'new key'",
     "output_type": "error",
     "traceback": [
      "\u001b[0;31m---------------------------------------------------------------------------\u001b[0m",
      "\u001b[0;31mKeyError\u001b[0m                                  Traceback (most recent call last)",
      "\u001b[0;32m<ipython-input-75-c19a7fd7bc46>\u001b[0m in \u001b[0;36m<module>\u001b[0;34m()\u001b[0m\n\u001b[1;32m      1\u001b[0m \u001b[0md\u001b[0m \u001b[0;34m=\u001b[0m \u001b[0mdict\u001b[0m\u001b[0;34m(\u001b[0m\u001b[0;34m)\u001b[0m\u001b[0;34m\u001b[0m\u001b[0m\n\u001b[0;32m----> 2\u001b[0;31m \u001b[0md\u001b[0m\u001b[0;34m[\u001b[0m\u001b[0;34m\"new key\"\u001b[0m\u001b[0;34m]\u001b[0m\u001b[0;34m\u001b[0m\u001b[0m\n\u001b[0m",
      "\u001b[0;31mKeyError\u001b[0m: 'new key'"
     ]
    }
   ],
   "source": [
    "d = dict()\n",
    "d[\"new key\"]"
   ]
  },
  {
   "cell_type": "markdown",
   "metadata": {},
   "source": [
    "Other datatypes as `default_factory`:"
   ]
  },
  {
   "cell_type": "code",
   "execution_count": 76,
   "metadata": {},
   "outputs": [
    {
     "data": {
      "text/plain": [
       "0"
      ]
     },
     "execution_count": 76,
     "metadata": {},
     "output_type": "execute_result"
    }
   ],
   "source": [
    "d = defaultdict(int)\n",
    "d[\"new key\"]"
   ]
  },
  {
   "cell_type": "code",
   "execution_count": 77,
   "metadata": {},
   "outputs": [
    {
     "data": {
      "text/plain": [
       "[]"
      ]
     },
     "execution_count": 77,
     "metadata": {},
     "output_type": "execute_result"
    }
   ],
   "source": [
    "d = defaultdict(list)\n",
    "d[\"new key\"]"
   ]
  },
  {
   "cell_type": "markdown",
   "metadata": {},
   "source": [
    "Converting an already existing `dict`:"
   ]
  },
  {
   "cell_type": "code",
   "execution_count": 78,
   "metadata": {},
   "outputs": [
    {
     "name": "stdout",
     "output_type": "stream",
     "text": [
      "value\n",
      "0.0\n"
     ]
    }
   ],
   "source": [
    "d1 = {k: \"value\" for k in range(1, 11)}\n",
    "d = defaultdict(float, d1) # convert it to a defaultdict\n",
    "print(d[5])\n",
    "print(d[100])"
   ]
  },
  {
   "cell_type": "markdown",
   "metadata": {},
   "source": [
    "This doesn't work:"
   ]
  },
  {
   "cell_type": "code",
   "execution_count": 79,
   "metadata": {},
   "outputs": [
    {
     "ename": "TypeError",
     "evalue": "first argument must be callable or None",
     "output_type": "error",
     "traceback": [
      "\u001b[0;31m---------------------------------------------------------------------------\u001b[0m",
      "\u001b[0;31mTypeError\u001b[0m                                 Traceback (most recent call last)",
      "\u001b[0;32m<ipython-input-79-89e9c9b71b5c>\u001b[0m in \u001b[0;36m<module>\u001b[0;34m()\u001b[0m\n\u001b[0;32m----> 1\u001b[0;31m \u001b[0md\u001b[0m \u001b[0;34m=\u001b[0m \u001b[0mdefaultdict\u001b[0m\u001b[0;34m(\u001b[0m\u001b[0;36m10\u001b[0m\u001b[0;34m)\u001b[0m\u001b[0;34m\u001b[0m\u001b[0m\n\u001b[0m",
      "\u001b[0;31mTypeError\u001b[0m: first argument must be callable or None"
     ]
    }
   ],
   "source": [
    "d = defaultdict(10)"
   ]
  },
  {
   "cell_type": "markdown",
   "metadata": {},
   "source": [
    "Use a `lambda` to make the number `10` `callable`\":"
   ]
  },
  {
   "cell_type": "code",
   "execution_count": 80,
   "metadata": {},
   "outputs": [
    {
     "data": {
      "text/plain": [
       "10"
      ]
     },
     "execution_count": 80,
     "metadata": {},
     "output_type": "execute_result"
    }
   ],
   "source": [
    "d = defaultdict(lambda: 10)\n",
    "d[\"new key\"]"
   ]
  },
  {
   "cell_type": "code",
   "execution_count": 81,
   "metadata": {},
   "outputs": [
    {
     "data": {
      "text/plain": [
       "defaultdict(float, {})"
      ]
     },
     "execution_count": 81,
     "metadata": {},
     "output_type": "execute_result"
    }
   ],
   "source": [
    "d = defaultdict(lambda: defaultdict(float))\n",
    "d[\"new key\"]"
   ]
  },
  {
   "cell_type": "markdown",
   "metadata": {},
   "source": [
    "Clever use of a `defaultdict` can be the solution to the problem of data-storing in a smoothing $N$-gram pointed out above:\n",
    "    \n",
    "    ngram = defaultdict(lambda: k/(N+kV), ngram)"
   ]
  },
  {
   "cell_type": "markdown",
   "metadata": {},
   "source": [
    "The following function is given:"
   ]
  },
  {
   "cell_type": "code",
   "execution_count": 82,
   "metadata": {
    "collapsed": true
   },
   "outputs": [],
   "source": [
    "train_file = \"ted-train.txt\"\n",
    "\n",
    "def read(fname, max_lines=np.inf):\n",
    "    \"\"\"\n",
    "    Reads in the data in fname and returns it as\n",
    "    one long list of words. Also returns a vocabulary in\n",
    "    the form of a word2index and index2word dictionary.\n",
    "    \"\"\"\n",
    "    data = []\n",
    "    # w2i will automatically keep a counter to asign to new words\n",
    "    w2i = defaultdict(lambda: len(w2i))\n",
    "    i2w = dict()\n",
    "    start = \"<s>\"\n",
    "    end = \"</s>\"\n",
    "    \n",
    "    with open(fname, \"r\") as fh:\n",
    "        for k, line in enumerate(fh):\n",
    "            if k > max_lines:\n",
    "                break\n",
    "            words = line.strip().split()\n",
    "            # assign an index to each word\n",
    "            for w in words:\n",
    "                i2w[w2i[w]] = w # trick\n",
    "            \n",
    "            sent = [start] + words + [end]\n",
    "            data.append(sent)\n",
    "\n",
    "    return data, w2i, i2w"
   ]
  },
  {
   "cell_type": "code",
   "execution_count": 126,
   "metadata": {},
   "outputs": [
    {
     "name": "stdout",
     "output_type": "stream",
     "text": [
      "defaultdict(<function train_ngram.<locals>.<lambda> at 0x122302598>, {('<s>', 'Here'): defaultdict(<class 'float'>, {'are': 1.0}), ('Here', 'are'): defaultdict(<class 'float'>, {'two': 1.0}), ('are', 'two'): defaultdict(<class 'float'>, {'reasons': 1.0}), ('two', 'reasons'): defaultdict(<class 'float'>, {'companies': 1.0}), ('reasons', 'companies'): defaultdict(<class 'float'>, {'fail': 1.0}), ('companies', 'fail'): defaultdict(<class 'float'>, {':': 1.0}), ('fail', ':'): defaultdict(<class 'float'>, {'they': 1.0}), (':', 'they'): defaultdict(<class 'float'>, {'only': 1.0}), ('they', 'only'): defaultdict(<class 'float'>, {'do': 1.0}), ('only', 'do'): defaultdict(<class 'float'>, {'more': 0.5, 'what': 0.5}), ('do', 'more'): defaultdict(<class 'float'>, {'of': 1.0}), ('more', 'of'): defaultdict(<class 'float'>, {'the': 1.0}), ('of', 'the'): defaultdict(<class 'float'>, {'same': 0.16666666666666666, 'idea': 0.3333333333333333, 'famous': 0.16666666666666666, 'crisis': 0.16666666666666666, 'company': 0.16666666666666666}), ('the', 'same'): defaultdict(<class 'float'>, {',': 0.14285714285714285, '.': 0.14285714285714285, 'songs': 0.14285714285714285, 'time': 0.2857142857142857, 'goes': 0.14285714285714285, 'company': 0.14285714285714285}), ('same', ','): defaultdict(<class 'float'>, {'or': 1.0}), (',', 'or'): defaultdict(<class 'float'>, {'they': 1.0}), ('or', 'they'): defaultdict(<class 'float'>, {'only': 1.0}), ('do', 'what'): defaultdict(<class 'float'>, {\"'s\": 1.0}), ('what', \"'s\"): defaultdict(<class 'float'>, {'new': 1.0}), (\"'s\", 'new'): defaultdict(<class 'float'>, {'.': 1.0}), ('new', '.'): defaultdict(<class 'float'>, {'</s>': 1.0}), ('<s>', 'To'): defaultdict(<class 'float'>, {'me': 1.0}), ('To', 'me'): defaultdict(<class 'float'>, {'the': 0.5, ',': 0.5}), ('me', 'the'): defaultdict(<class 'float'>, {'real': 0.5, 'power': 0.5}), ('the', 'real'): defaultdict(<class 'float'>, {',': 1.0}), ('real', ','): defaultdict(<class 'float'>, {'real': 1.0}), (',', 'real'): defaultdict(<class 'float'>, {'solution': 1.0}), ('real', 'solution'): defaultdict(<class 'float'>, {'to': 1.0}), ('solution', 'to'): defaultdict(<class 'float'>, {'quality': 1.0}), ('to', 'quality'): defaultdict(<class 'float'>, {'growth': 1.0}), ('quality', 'growth'): defaultdict(<class 'float'>, {'is': 1.0}), ('growth', 'is'): defaultdict(<class 'float'>, {'figuring': 1.0}), ('is', 'figuring'): defaultdict(<class 'float'>, {'out': 1.0}), ('figuring', 'out'): defaultdict(<class 'float'>, {'the': 1.0}), ('out', 'the'): defaultdict(<class 'float'>, {'balance': 1.0}), ('the', 'balance'): defaultdict(<class 'float'>, {'between': 1.0}), ('balance', 'between'): defaultdict(<class 'float'>, {'two': 1.0}), ('between', 'two'): defaultdict(<class 'float'>, {'activities': 1.0}), ('two', 'activities'): defaultdict(<class 'float'>, {':': 1.0}), ('activities', ':'): defaultdict(<class 'float'>, {'exploration': 1.0}), (':', 'exploration'): defaultdict(<class 'float'>, {'and': 1.0}), ('exploration', 'and'): defaultdict(<class 'float'>, {'exploitation': 1.0}), ('and', 'exploitation'): defaultdict(<class 'float'>, {'.': 0.5, 'about': 0.25, 'by': 0.25}), ('exploitation', '.'): defaultdict(<class 'float'>, {'</s>': 1.0}), ('<s>', 'Both'): defaultdict(<class 'float'>, {'are': 1.0}), ('Both', 'are'): defaultdict(<class 'float'>, {'necessary': 1.0}), ('are', 'necessary'): defaultdict(<class 'float'>, {',': 1.0}), ('necessary', ','): defaultdict(<class 'float'>, {'but': 1.0}), (',', 'but'): defaultdict(<class 'float'>, {'it': 0.2, 'there': 0.2, 'we': 0.2, 'they': 0.4}), ('but', 'it'): defaultdict(<class 'float'>, {'can': 1.0}), ('it', 'can'): defaultdict(<class 'float'>, {'be': 1.0}), ('can', 'be'): defaultdict(<class 'float'>, {'too': 1.0}), ('be', 'too'): defaultdict(<class 'float'>, {'much': 1.0}), ('too', 'much'): defaultdict(<class 'float'>, {'of': 0.3333333333333333, 'exploitation': 0.3333333333333333, 'exploration': 0.3333333333333333}), ('much', 'of'): defaultdict(<class 'float'>, {'a': 1.0}), ('of', 'a'): defaultdict(<class 'float'>, {'good': 0.6666666666666666, 'great': 0.3333333333333333}), ('a', 'good'): defaultdict(<class 'float'>, {'thing': 0.3333333333333333, 'example': 0.3333333333333333, 'corporate': 0.3333333333333333}), ('good', 'thing'): defaultdict(<class 'float'>, {'.': 1.0}), ('thing', '.'): defaultdict(<class 'float'>, {'</s>': 1.0}), ('<s>', 'Consider'): defaultdict(<class 'float'>, {'Facit': 1.0}), ('Consider', 'Facit'): defaultdict(<class 'float'>, {'.': 1.0}), ('Facit', '.'): defaultdict(<class 'float'>, {'</s>': 1.0}), ('<s>', 'I'): defaultdict(<class 'float'>, {\"'m\": 0.1, 'first': 0.1, 'come': 0.1, 'see': 0.1, \"'ll\": 0.1, 'don': 0.1, 'think': 0.4}), ('I', \"'m\"): defaultdict(<class 'float'>, {'actually': 1.0}), (\"'m\", 'actually'): defaultdict(<class 'float'>, {'old': 1.0}), ('actually', 'old'): defaultdict(<class 'float'>, {'enough': 1.0}), ('old', 'enough'): defaultdict(<class 'float'>, {'to': 1.0}), ('enough', 'to'): defaultdict(<class 'float'>, {'remember': 1.0}), ('to', 'remember'): defaultdict(<class 'float'>, {'them': 1.0}), ('remember', 'them'): defaultdict(<class 'float'>, {'.': 1.0}), ('them', '.'): defaultdict(<class 'float'>, {'</s>': 1.0}), ('<s>', 'Facit'): defaultdict(<class 'float'>, {'was': 0.3333333333333333, 'did': 0.3333333333333333, 'fell': 0.3333333333333333}), ('Facit', 'was'): defaultdict(<class 'float'>, {'a': 1.0}), ('was', 'a'): defaultdict(<class 'float'>, {'fantastic': 0.5, 'good': 0.5}), ('a', 'fantastic'): defaultdict(<class 'float'>, {'company': 1.0}), ('fantastic', 'company'): defaultdict(<class 'float'>, {'.': 1.0}), ('company', '.'): defaultdict(<class 'float'>, {'</s>': 1.0}), ('<s>', 'They'): defaultdict(<class 'float'>, {'were': 0.5, 'had': 0.16666666666666666, 'literally': 0.16666666666666666, 'need': 0.16666666666666666}), ('They', 'were'): defaultdict(<class 'float'>, {'born': 0.3333333333333333, 'extremely': 0.3333333333333333, 'simply': 0.3333333333333333}), ('were', 'born'): defaultdict(<class 'float'>, {'deep': 1.0}), ('born', 'deep'): defaultdict(<class 'float'>, {'in': 1.0}), ('deep', 'in'): defaultdict(<class 'float'>, {'the': 1.0}), ('in', 'the'): defaultdict(<class 'float'>, {'Swedish': 0.14285714285714285, 'world': 0.14285714285714285, 'short': 0.14285714285714285, 'long': 0.14285714285714285, 'vicious': 0.14285714285714285, 'public': 0.14285714285714285, 'future': 0.14285714285714285}), ('the', 'Swedish'): defaultdict(<class 'float'>, {'forest': 1.0}), ('Swedish', 'forest'): defaultdict(<class 'float'>, {',': 1.0}), ('forest', ','): defaultdict(<class 'float'>, {'and': 1.0}), (',', 'and'): defaultdict(<class 'float'>, {'they': 0.25, 'the': 0.375, 'we': 0.125, 'I': 0.25}), ('and', 'they'): defaultdict(<class 'float'>, {'made': 0.3333333333333333, 'were': 0.3333333333333333, 'deserve': 0.3333333333333333}), ('they', 'made'): defaultdict(<class 'float'>, {'the': 1.0}), ('made', 'the'): defaultdict(<class 'float'>, {'best': 1.0}), ('the', 'best'): defaultdict(<class 'float'>, {'mechanical': 1.0}), ('best', 'mechanical'): defaultdict(<class 'float'>, {'calculators': 1.0}), ('mechanical', 'calculators'): defaultdict(<class 'float'>, {'in': 1.0}), ('calculators', 'in'): defaultdict(<class 'float'>, {'the': 0.5, 'Japan': 0.5}), ('the', 'world'): defaultdict(<class 'float'>, {'.': 1.0}), ('world', '.'): defaultdict(<class 'float'>, {'</s>': 1.0}), ('<s>', 'Everybody'): defaultdict(<class 'float'>, {'used': 1.0}), ('Everybody', 'used'): defaultdict(<class 'float'>, {'them': 1.0}), ('used', 'them'): defaultdict(<class 'float'>, {'.': 1.0}), ('<s>', 'And'): defaultdict(<class 'float'>, {'what': 0.14285714285714285, 'to': 0.14285714285714285, 'I': 0.2857142857142857, 'this': 0.14285714285714285, 'they': 0.14285714285714285, 'any': 0.14285714285714285}), ('And', 'what'): defaultdict(<class 'float'>, {'did': 1.0}), ('what', 'did'): defaultdict(<class 'float'>, {'Facit': 1.0}), ('did', 'Facit'): defaultdict(<class 'float'>, {'do': 1.0}), ('Facit', 'do'): defaultdict(<class 'float'>, {'when': 1.0}), ('do', 'when'): defaultdict(<class 'float'>, {'the': 1.0}), ('when', 'the'): defaultdict(<class 'float'>, {'electronic': 0.5, 'generals': 0.5}), ('the', 'electronic'): defaultdict(<class 'float'>, {'calculator': 1.0}), ('electronic', 'calculator'): defaultdict(<class 'float'>, {'came': 1.0}), ('calculator', 'came'): defaultdict(<class 'float'>, {'along': 1.0}), ('came', 'along'): defaultdict(<class 'float'>, {'?': 1.0}), ('along', '?'): defaultdict(<class 'float'>, {'They': 1.0}), ('?', 'They'): defaultdict(<class 'float'>, {'continued': 1.0}), ('They', 'continued'): defaultdict(<class 'float'>, {'doing': 1.0}), ('continued', 'doing'): defaultdict(<class 'float'>, {'exactly': 1.0}), ('doing', 'exactly'): defaultdict(<class 'float'>, {'the': 1.0}), ('exactly', 'the'): defaultdict(<class 'float'>, {'same': 1.0}), ('same', '.'): defaultdict(<class 'float'>, {'</s>': 1.0}), ('<s>', 'In'): defaultdict(<class 'float'>, {'six': 1.0}), ('In', 'six'): defaultdict(<class 'float'>, {'months': 1.0}), ('six', 'months'): defaultdict(<class 'float'>, {',': 1.0}), ('months', ','): defaultdict(<class 'float'>, {'they': 1.0}), (',', 'they'): defaultdict(<class 'float'>, {'went': 0.5, 'explore': 0.5}), ('they', 'went'): defaultdict(<class 'float'>, {'from': 1.0}), ('went', 'from'): defaultdict(<class 'float'>, {'maximum': 1.0}), ('from', 'maximum'): defaultdict(<class 'float'>, {'revenue': 1.0}), ('maximum', 'revenue'): defaultdict(<class 'float'>, {'.': 1.0}), ('revenue', '.'): defaultdict(<class 'float'>, {'</s>': 1.0}), ('<s>', 'and'): defaultdict(<class 'float'>, {'they': 1.0}), ('they', 'were'): defaultdict(<class 'float'>, {'gone': 1.0}), ('were', 'gone'): defaultdict(<class 'float'>, {'.': 1.0}), ('gone', '.'): defaultdict(<class 'float'>, {'</s>': 1.0}), ('<s>', 'Gone'): defaultdict(<class 'float'>, {'.': 1.0}), ('Gone', '.'): defaultdict(<class 'float'>, {'</s>': 1.0}), ('me', ','): defaultdict(<class 'float'>, {'the': 1.0}), (',', 'the'): defaultdict(<class 'float'>, {'irony': 0.5, 'payoffs': 0.5}), ('the', 'irony'): defaultdict(<class 'float'>, {'about': 1.0}), ('irony', 'about'): defaultdict(<class 'float'>, {'the': 1.0}), ('about', 'the'): defaultdict(<class 'float'>, {'Facit': 0.6666666666666666, 'perpetual': 0.3333333333333333}), ('the', 'Facit'): defaultdict(<class 'float'>, {'story': 0.5, 'engineers': 0.5}), ('Facit', 'story'): defaultdict(<class 'float'>, {'is': 1.0}), ('story', 'is'): defaultdict(<class 'float'>, {'hearing': 1.0}), ('is', 'hearing'): defaultdict(<class 'float'>, {'about': 1.0}), ('hearing', 'about'): defaultdict(<class 'float'>, {'the': 1.0}), ('Facit', 'engineers'): defaultdict(<class 'float'>, {',': 1.0}), ('engineers', ','): defaultdict(<class 'float'>, {'who': 1.0}), (',', 'who'): defaultdict(<class 'float'>, {'had': 1.0}), ('who', 'had'): defaultdict(<class 'float'>, {'bought': 1.0}), ('had', 'bought'): defaultdict(<class 'float'>, {'cheap': 1.0}), ('bought', 'cheap'): defaultdict(<class 'float'>, {',': 1.0}), ('cheap', ','): defaultdict(<class 'float'>, {'small': 1.0}), (',', 'small'): defaultdict(<class 'float'>, {'electronic': 1.0}), ('small', 'electronic'): defaultdict(<class 'float'>, {'calculators': 1.0}), ('electronic', 'calculators'): defaultdict(<class 'float'>, {'in': 1.0}), ('in', 'Japan'): defaultdict(<class 'float'>, {'that': 1.0}), ('Japan', 'that'): defaultdict(<class 'float'>, {'they': 1.0}), ('that', 'they'): defaultdict(<class 'float'>, {'used': 0.5, 'wouldn': 0.5}), ('they', 'used'): defaultdict(<class 'float'>, {'to': 1.0}), ('used', 'to'): defaultdict(<class 'float'>, {'double-check': 1.0}), ('to', 'double-check'): defaultdict(<class 'float'>, {'their': 1.0}), ('double-check', 'their'): defaultdict(<class 'float'>, {'calculators': 1.0}), ('their', 'calculators'): defaultdict(<class 'float'>, {'.': 1.0}), ('calculators', '.'): defaultdict(<class 'float'>, {'</s>': 1.0}), ('Facit', 'did'): defaultdict(<class 'float'>, {'too': 1.0}), ('did', 'too'): defaultdict(<class 'float'>, {'much': 1.0}), ('much', 'exploitation'): defaultdict(<class 'float'>, {'.': 1.0}), ('<s>', 'But'): defaultdict(<class 'float'>, {'exploration': 0.14285714285714285, 'if': 0.14285714285714285, 'when': 0.14285714285714285, 'the': 0.14285714285714285, 'we': 0.14285714285714285, 'still': 0.14285714285714285, 'companies': 0.14285714285714285}), ('But', 'exploration'): defaultdict(<class 'float'>, {'can': 1.0}), ('exploration', 'can'): defaultdict(<class 'float'>, {'go': 1.0}), ('can', 'go'): defaultdict(<class 'float'>, {'wild': 1.0}), ('go', 'wild'): defaultdict(<class 'float'>, {',': 1.0}), ('wild', ','): defaultdict(<class 'float'>, {'too': 1.0}), (',', 'too'): defaultdict(<class 'float'>, {'.': 1.0}), ('too', '.'): defaultdict(<class 'float'>, {'</s>': 1.0}), ('<s>', 'A'): defaultdict(<class 'float'>, {'few': 0.5, 'famous': 0.5}), ('A', 'few'): defaultdict(<class 'float'>, {'years': 1.0}), ('few', 'years'): defaultdict(<class 'float'>, {'back': 1.0}), ('years', 'back'): defaultdict(<class 'float'>, {',': 1.0}), ('back', ','): defaultdict(<class 'float'>, {'I': 1.0}), (',', 'I'): defaultdict(<class 'float'>, {'worked': 1.0}), ('I', 'worked'): defaultdict(<class 'float'>, {'closely': 0.5, 'as': 0.5}), ('worked', 'closely'): defaultdict(<class 'float'>, {'alongside': 1.0}), ('closely', 'alongside'): defaultdict(<class 'float'>, {'a': 1.0}), ('alongside', 'a'): defaultdict(<class 'float'>, {'European': 1.0}), ('a', 'European'): defaultdict(<class 'float'>, {'biotech': 1.0}), ('European', 'biotech'): defaultdict(<class 'float'>, {'company': 1.0}), ('biotech', 'company'): defaultdict(<class 'float'>, {'.': 1.0}), ('<s>', 'Let'): defaultdict(<class 'float'>, {\"'s\": 1.0}), ('Let', \"'s\"): defaultdict(<class 'float'>, {'call': 1.0}), (\"'s\", 'call'): defaultdict(<class 'float'>, {'them': 1.0}), ('call', 'them'): defaultdict(<class 'float'>, {'OncoSearch': 1.0}), ('them', 'OncoSearch'): defaultdict(<class 'float'>, {'.': 1.0}), ('OncoSearch', '.'): defaultdict(<class 'float'>, {'</s>': 1.0}), ('<s>', 'The'): defaultdict(<class 'float'>, {'company': 0.25, 'founder': 0.25, 'same': 0.25, 'first': 0.25}), ('The', 'company'): defaultdict(<class 'float'>, {'was': 1.0}), ('company', 'was'): defaultdict(<class 'float'>, {'brilliant': 1.0}), ('was', 'brilliant'): defaultdict(<class 'float'>, {'.': 1.0}), ('brilliant', '.'): defaultdict(<class 'float'>, {'</s>': 1.0}), ('They', 'had'): defaultdict(<class 'float'>, {'applications': 1.0}), ('had', 'applications'): defaultdict(<class 'float'>, {'that': 1.0}), ('applications', 'that'): defaultdict(<class 'float'>, {'promised': 1.0}), ('that', 'promised'): defaultdict(<class 'float'>, {'to': 1.0}), ('promised', 'to'): defaultdict(<class 'float'>, {'diagnose': 1.0}), ('to', 'diagnose'): defaultdict(<class 'float'>, {',': 1.0}), ('diagnose', ','): defaultdict(<class 'float'>, {'even': 1.0}), (',', 'even'): defaultdict(<class 'float'>, {'cure': 0.5, 'defense': 0.5}), ('even', 'cure'): defaultdict(<class 'float'>, {',': 1.0}), ('cure', ','): defaultdict(<class 'float'>, {'certain': 1.0}), (',', 'certain'): defaultdict(<class 'float'>, {'forms': 1.0}), ('certain', 'forms'): defaultdict(<class 'float'>, {'of': 1.0}), ('forms', 'of'): defaultdict(<class 'float'>, {'blood': 1.0}), ('of', 'blood'): defaultdict(<class 'float'>, {'cancer': 1.0}), ('blood', 'cancer'): defaultdict(<class 'float'>, {'.': 1.0}), ('cancer', '.'): defaultdict(<class 'float'>, {'</s>': 1.0}), ('<s>', 'Every'): defaultdict(<class 'float'>, {'day': 1.0}), ('Every', 'day'): defaultdict(<class 'float'>, {'was': 1.0}), ('day', 'was'): defaultdict(<class 'float'>, {'about': 1.0}), ('was', 'about'): defaultdict(<class 'float'>, {'creating': 1.0}), ('about', 'creating'): defaultdict(<class 'float'>, {'something': 1.0}), ('creating', 'something'): defaultdict(<class 'float'>, {'new': 1.0}), ('something', 'new'): defaultdict(<class 'float'>, {'.': 1.0}), ('were', 'extremely'): defaultdict(<class 'float'>, {'innovative': 1.0}), ('extremely', 'innovative'): defaultdict(<class 'float'>, {',': 1.0}), ('innovative', ','): defaultdict(<class 'float'>, {'and': 1.0}), ('and', 'the'): defaultdict(<class 'float'>, {'mantra': 0.3333333333333333, 'benefits': 0.3333333333333333, 'mark': 0.3333333333333333}), ('the', 'mantra'): defaultdict(<class 'float'>, {'was': 1.0}), ('mantra', 'was'): defaultdict(<class 'float'>, {',': 1.0}), ('was', ','): defaultdict(<class 'float'>, {'\"When': 1.0}), (',', '\"When'): defaultdict(<class 'float'>, {'we': 1.0}), ('\"When', 'we'): defaultdict(<class 'float'>, {'only': 1.0}), ('we', 'only'): defaultdict(<class 'float'>, {'get': 0.5, 'exploit': 0.5}), ('only', 'get'): defaultdict(<class 'float'>, {'it': 1.0}), ('get', 'it'): defaultdict(<class 'float'>, {'right': 1.0}), ('it', 'right'): defaultdict(<class 'float'>, {',\"': 1.0}), ('right', ',\"'): defaultdict(<class 'float'>, {'or': 1.0}), (',\"', 'or'): defaultdict(<class 'float'>, {'even': 1.0}), ('or', 'even'): defaultdict(<class 'float'>, {',': 0.5, 'pathetic': 0.5}), ('even', ','): defaultdict(<class 'float'>, {'\"We': 1.0}), (',', '\"We'): defaultdict(<class 'float'>, {'want': 1.0}), ('\"We', 'want'): defaultdict(<class 'float'>, {'it': 1.0}), ('want', 'it'): defaultdict(<class 'float'>, {'perfect': 1.0}), ('it', 'perfect'): defaultdict(<class 'float'>, {'.': 1.0}), ('perfect', '.'): defaultdict(<class 'float'>, {'</s>': 1.0}), ('<s>', '\"'): defaultdict(<class 'float'>, {'The': 0.3333333333333333, 'That': 0.3333333333333333, '.': 0.3333333333333333}), ('\"', 'The'): defaultdict(<class 'float'>, {'sad': 1.0}), ('The', 'sad'): defaultdict(<class 'float'>, {'thing': 1.0}), ('sad', 'thing'): defaultdict(<class 'float'>, {'is': 1.0}), ('thing', 'is'): defaultdict(<class 'float'>, {',': 1.0}), ('is', ','): defaultdict(<class 'float'>, {'before': 0.3333333333333333, 'of': 0.6666666666666666}), (',', 'before'): defaultdict(<class 'float'>, {'they': 1.0}), ('before', 'they'): defaultdict(<class 'float'>, {'became': 1.0}), ('they', 'became'): defaultdict(<class 'float'>, {'perfect': 0.5, 'obsolete': 0.5}), ('became', 'perfect'): defaultdict(<class 'float'>, {'--': 1.0}), ('perfect', '--'): defaultdict(<class 'float'>, {'even': 1.0}), ('--', 'even'): defaultdict(<class 'float'>, {'good': 1.0}), ('even', 'good'): defaultdict(<class 'float'>, {'enough': 1.0}), ('good', 'enough'): defaultdict(<class 'float'>, {'--': 1.0}), ('enough', '--'): defaultdict(<class 'float'>, {'they': 1.0}), ('--', 'they'): defaultdict(<class 'float'>, {'became': 0.5, 'could': 0.5}), ('became', 'obsolete'): defaultdict(<class 'float'>, {'.': 1.0}), ('obsolete', '.'): defaultdict(<class 'float'>, {'</s>': 1.0}), ('<s>', 'OncoSearch'): defaultdict(<class 'float'>, {'did': 0.5, 'was': 0.5}), ('OncoSearch', 'did'): defaultdict(<class 'float'>, {'too': 1.0}), ('much', 'exploration'): defaultdict(<class 'float'>, {'.': 1.0}), ('exploration', '.'): defaultdict(<class 'float'>, {'</s>': 1.0}), ('I', 'first'): defaultdict(<class 'float'>, {'heard': 1.0}), ('first', 'heard'): defaultdict(<class 'float'>, {'about': 1.0}), ('heard', 'about'): defaultdict(<class 'float'>, {'exploration': 1.0}), ('about', 'exploration'): defaultdict(<class 'float'>, {'and': 0.5, '.': 0.5}), ('exploitation', 'about'): defaultdict(<class 'float'>, {'15': 1.0}), ('about', '15'): defaultdict(<class 'float'>, {'years': 1.0}), ('15', 'years'): defaultdict(<class 'float'>, {'ago': 1.0}), ('years', 'ago'): defaultdict(<class 'float'>, {',': 1.0}), ('ago', ','): defaultdict(<class 'float'>, {'when': 1.0}), (',', 'when'): defaultdict(<class 'float'>, {'I': 0.5, 'the': 0.5}), ('when', 'I'): defaultdict(<class 'float'>, {'worked': 1.0}), ('worked', 'as'): defaultdict(<class 'float'>, {'a': 1.0}), ('as', 'a'): defaultdict(<class 'float'>, {'visiting': 1.0}), ('a', 'visiting'): defaultdict(<class 'float'>, {'scholar': 1.0}), ('visiting', 'scholar'): defaultdict(<class 'float'>, {'at': 1.0}), ('scholar', 'at'): defaultdict(<class 'float'>, {'Stanford': 1.0}), ('at', 'Stanford'): defaultdict(<class 'float'>, {'University': 1.0}), ('Stanford', 'University'): defaultdict(<class 'float'>, {'.': 1.0}), ('University', '.'): defaultdict(<class 'float'>, {'</s>': 1.0}), ('The', 'founder'): defaultdict(<class 'float'>, {'of': 1.0}), ('founder', 'of'): defaultdict(<class 'float'>, {'the': 1.0}), ('the', 'idea'): defaultdict(<class 'float'>, {'is': 1.0}), ('idea', 'is'): defaultdict(<class 'float'>, {'Jim': 0.5, 'its': 0.5}), ('is', 'Jim'): defaultdict(<class 'float'>, {'March': 1.0}), ('Jim', 'March'): defaultdict(<class 'float'>, {'.': 1.0}), ('March', '.'): defaultdict(<class 'float'>, {'</s>': 1.0}), ('And', 'to'): defaultdict(<class 'float'>, {'me': 1.0}), ('to', 'me'): defaultdict(<class 'float'>, {'the': 1.0}), ('the', 'power'): defaultdict(<class 'float'>, {'of': 1.0}), ('power', 'of'): defaultdict(<class 'float'>, {'the': 1.0}), ('is', 'its'): defaultdict(<class 'float'>, {'practicality': 1.0}), ('its', 'practicality'): defaultdict(<class 'float'>, {'.': 1.0}), ('practicality', '.'): defaultdict(<class 'float'>, {'</s>': 1.0}), ('<s>', 'Exploration'): defaultdict(<class 'float'>, {'.': 0.5, 'is': 0.5}), ('Exploration', '.'): defaultdict(<class 'float'>, {'</s>': 1.0}), ('Exploration', 'is'): defaultdict(<class 'float'>, {'about': 1.0}), ('is', 'about'): defaultdict(<class 'float'>, {'coming': 0.3333333333333333, 'making': 0.3333333333333333, '.': 0.3333333333333333}), ('about', 'coming'): defaultdict(<class 'float'>, {'up': 1.0}), ('coming', 'up'): defaultdict(<class 'float'>, {'with': 1.0}), ('up', 'with'): defaultdict(<class 'float'>, {'what': 0.5, 'ideas': 0.5}), ('with', 'what'): defaultdict(<class 'float'>, {\"'s\": 1.0}), ('<s>', 'It'): defaultdict(<class 'float'>, {\"'s\": 0.75, 'seduces': 0.25}), ('It', \"'s\"): defaultdict(<class 'float'>, {'about': 1.0}), (\"'s\", 'about'): defaultdict(<class 'float'>, {'search': 0.14285714285714285, 'discovery': 0.14285714285714285, 'new': 0.2857142857142857, 'changing': 0.14285714285714285, 'making': 0.14285714285714285, 'exploration': 0.14285714285714285}), ('about', 'search'): defaultdict(<class 'float'>, {',': 1.0}), ('search', ','): defaultdict(<class 'float'>, {'it': 1.0}), (',', 'it'): defaultdict(<class 'float'>, {\"'s\": 1.0}), ('it', \"'s\"): defaultdict(<class 'float'>, {'about': 0.36363636363636365, 'very': 0.09090909090909091, 'difficult': 0.18181818181818182, 'a': 0.18181818181818182, 'possible': 0.09090909090909091, 'useful': 0.09090909090909091}), ('about', 'discovery'): defaultdict(<class 'float'>, {',': 1.0}), ('discovery', ','): defaultdict(<class 'float'>, {'it': 1.0}), ('about', 'new'): defaultdict(<class 'float'>, {'products': 0.5, 'innovations': 0.5}), ('new', 'products'): defaultdict(<class 'float'>, {',': 1.0}), ('products', ','): defaultdict(<class 'float'>, {'it': 1.0}), ('new', 'innovations'): defaultdict(<class 'float'>, {'.': 1.0}), ('innovations', '.'): defaultdict(<class 'float'>, {'</s>': 1.0}), ('about', 'changing'): defaultdict(<class 'float'>, {'our': 1.0}), ('changing', 'our'): defaultdict(<class 'float'>, {'frontiers': 1.0}), ('our', 'frontiers'): defaultdict(<class 'float'>, {'.': 1.0}), ('frontiers', '.'): defaultdict(<class 'float'>, {'</s>': 1.0}), ('<s>', 'Our'): defaultdict(<class 'float'>, {'heroes': 1.0}), ('Our', 'heroes'): defaultdict(<class 'float'>, {'are': 1.0}), ('heroes', 'are'): defaultdict(<class 'float'>, {'people': 0.5, 'explorers': 0.5}), ('are', 'people'): defaultdict(<class 'float'>, {'who': 1.0}), ('people', 'who'): defaultdict(<class 'float'>, {'have': 1.0}), ('who', 'have'): defaultdict(<class 'float'>, {'done': 1.0}), ('have', 'done'): defaultdict(<class 'float'>, {'exploration': 1.0}), ('done', 'exploration'): defaultdict(<class 'float'>, {':': 1.0}), ('exploration', ':'): defaultdict(<class 'float'>, {'Madame': 1.0}), (':', 'Madame'): defaultdict(<class 'float'>, {'Curie': 1.0}), ('Madame', 'Curie'): defaultdict(<class 'float'>, {',': 1.0}), ('Curie', ','): defaultdict(<class 'float'>, {'Picasso': 1.0}), (',', 'Picasso'): defaultdict(<class 'float'>, {',': 1.0}), ('Picasso', ','): defaultdict(<class 'float'>, {'Neil': 1.0}), (',', 'Neil'): defaultdict(<class 'float'>, {'Armstrong': 1.0}), ('Neil', 'Armstrong'): defaultdict(<class 'float'>, {',': 1.0}), ('Armstrong', ','): defaultdict(<class 'float'>, {'Sir': 1.0}), (',', 'Sir'): defaultdict(<class 'float'>, {'Edmund': 1.0}), ('Sir', 'Edmund'): defaultdict(<class 'float'>, {'Hillary': 1.0}), ('Edmund', 'Hillary'): defaultdict(<class 'float'>, {',': 1.0}), ('Hillary', ','): defaultdict(<class 'float'>, {'etc': 1.0}), (',', 'etc'): defaultdict(<class 'float'>, {'.': 1.0}), ('etc', '.'): defaultdict(<class 'float'>, {'</s>': 1.0}), ('I', 'come'): defaultdict(<class 'float'>, {'from': 1.0}), ('come', 'from'): defaultdict(<class 'float'>, {'Norway': 1.0}), ('from', 'Norway'): defaultdict(<class 'float'>, {';': 1.0}), ('Norway', ';'): defaultdict(<class 'float'>, {'all': 1.0}), (';', 'all'): defaultdict(<class 'float'>, {'our': 1.0}), ('all', 'our'): defaultdict(<class 'float'>, {'heroes': 1.0}), ('our', 'heroes'): defaultdict(<class 'float'>, {'are': 1.0}), ('are', 'explorers'): defaultdict(<class 'float'>, {',': 1.0}), ('explorers', ','): defaultdict(<class 'float'>, {'and': 1.0}), ('they', 'deserve'): defaultdict(<class 'float'>, {'to': 1.0}), ('deserve', 'to'): defaultdict(<class 'float'>, {'be': 1.0}), ('to', 'be'): defaultdict(<class 'float'>, {'.': 0.3333333333333333, 'able': 0.3333333333333333, 'challenged': 0.3333333333333333}), ('be', '.'): defaultdict(<class 'float'>, {'</s>': 1.0}), ('<s>', 'We'): defaultdict(<class 'float'>, {'all': 0.25, 'don': 0.125, 'have': 0.125, 'discover': 0.125, 'see': 0.125, 'really': 0.125, 'are': 0.125}), ('We', 'all'): defaultdict(<class 'float'>, {'know': 1.0}), ('all', 'know'): defaultdict(<class 'float'>, {'that': 1.0}), ('know', 'that'): defaultdict(<class 'float'>, {'exploration': 0.3333333333333333, 'the': 0.3333333333333333, 'any': 0.3333333333333333}), ('that', 'exploration'): defaultdict(<class 'float'>, {'is': 1.0}), ('exploration', 'is'): defaultdict(<class 'float'>, {'risky': 1.0}), ('is', 'risky'): defaultdict(<class 'float'>, {'.': 1.0}), ('risky', '.'): defaultdict(<class 'float'>, {'</s>': 1.0}), ('We', 'don'): defaultdict(<class 'float'>, {\"'t\": 1.0}), ('don', \"'t\"): defaultdict(<class 'float'>, {'know': 0.3333333333333333, 'have': 0.16666666666666666, 'only': 0.16666666666666666, 'give': 0.16666666666666666, 'think': 0.16666666666666666}), (\"'t\", 'know'): defaultdict(<class 'float'>, {'the': 0.5, 'if': 0.5}), ('know', 'the'): defaultdict(<class 'float'>, {'answers': 1.0}), ('the', 'answers'): defaultdict(<class 'float'>, {',': 1.0}), ('answers', ','): defaultdict(<class 'float'>, {'we': 1.0}), (',', 'we'): defaultdict(<class 'float'>, {'don': 0.14285714285714285, 'explore': 0.2857142857142857, 'exploit': 0.14285714285714285, 'have': 0.14285714285714285, 'create': 0.14285714285714285, 'change': 0.14285714285714285}), ('we', 'don'): defaultdict(<class 'float'>, {\"'t\": 1.0}), ('know', 'if'): defaultdict(<class 'float'>, {'we': 1.0}), ('if', 'we'): defaultdict(<class 'float'>, {\"'re\": 0.3333333333333333, 'only': 0.3333333333333333, 'take': 0.3333333333333333}), ('we', \"'re\"): defaultdict(<class 'float'>, {'going': 0.5, 'in': 0.5}), (\"'re\", 'going'): defaultdict(<class 'float'>, {'to': 1.0}), ('going', 'to'): defaultdict(<class 'float'>, {'find': 1.0}), ('to', 'find'): defaultdict(<class 'float'>, {'them': 1.0}), ('find', 'them'): defaultdict(<class 'float'>, {',': 1.0}), ('them', ','): defaultdict(<class 'float'>, {'and': 1.0}), ('and', 'we'): defaultdict(<class 'float'>, {'know': 1.0}), ('we', 'know'): defaultdict(<class 'float'>, {'that': 0.5, 'something': 0.5}), ('that', 'the'): defaultdict(<class 'float'>, {'risks': 1.0}), ('the', 'risks'): defaultdict(<class 'float'>, {'are': 1.0}), ('risks', 'are'): defaultdict(<class 'float'>, {'high': 1.0}), ('are', 'high'): defaultdict(<class 'float'>, {'.': 1.0}), ('high', '.'): defaultdict(<class 'float'>, {'</s>': 1.0}), ('<s>', 'Exploitation'): defaultdict(<class 'float'>, {'is': 1.0}), ('Exploitation', 'is'): defaultdict(<class 'float'>, {'the': 0.25, 'taking': 0.25, 'about': 0.25, 'not': 0.25}), ('is', 'the'): defaultdict(<class 'float'>, {'opposite': 0.5, 'success': 0.5}), ('the', 'opposite'): defaultdict(<class 'float'>, {'.': 1.0}), ('opposite', '.'): defaultdict(<class 'float'>, {'</s>': 1.0}), ('is', 'taking'): defaultdict(<class 'float'>, {'the': 1.0}), ('taking', 'the'): defaultdict(<class 'float'>, {'knowledge': 1.0}), ('the', 'knowledge'): defaultdict(<class 'float'>, {'we': 1.0}), ('knowledge', 'we'): defaultdict(<class 'float'>, {'have': 1.0}), ('we', 'have'): defaultdict(<class 'float'>, {'and': 0.25, 'more': 0.25, 'lots': 0.25, 'Lego': 0.25}), ('have', 'and'): defaultdict(<class 'float'>, {'making': 1.0}), ('and', 'making'): defaultdict(<class 'float'>, {'good': 1.0}), ('making', 'good'): defaultdict(<class 'float'>, {',': 0.5, 'products': 0.5}), ('good', ','): defaultdict(<class 'float'>, {'better': 1.0}), (',', 'better'): defaultdict(<class 'float'>, {'.': 1.0}), ('better', '.'): defaultdict(<class 'float'>, {'</s>': 1.0}), ('about', 'making'): defaultdict(<class 'float'>, {'our': 0.5, 'good': 0.5}), ('making', 'our'): defaultdict(<class 'float'>, {'trains': 1.0}), ('our', 'trains'): defaultdict(<class 'float'>, {'run': 1.0}), ('trains', 'run'): defaultdict(<class 'float'>, {'on': 1.0}), ('run', 'on'): defaultdict(<class 'float'>, {'time': 1.0}), ('on', 'time'): defaultdict(<class 'float'>, {'.': 1.0}), ('time', '.'): defaultdict(<class 'float'>, {'</s>': 1.0}), ('good', 'products'): defaultdict(<class 'float'>, {'faster': 1.0}), ('products', 'faster'): defaultdict(<class 'float'>, {'and': 1.0}), ('faster', 'and'): defaultdict(<class 'float'>, {'cheaper': 1.0}), ('and', 'cheaper'): defaultdict(<class 'float'>, {'.': 1.0}), ('cheaper', '.'): defaultdict(<class 'float'>, {'</s>': 1.0}), ('is', 'not'): defaultdict(<class 'float'>, {'risky': 1.0}), ('not', 'risky'): defaultdict(<class 'float'>, {'--': 1.0}), ('risky', '--'): defaultdict(<class 'float'>, {'in': 1.0}), ('--', 'in'): defaultdict(<class 'float'>, {'the': 1.0}), ('the', 'short'): defaultdict(<class 'float'>, {'term': 1.0}), ('short', 'term'): defaultdict(<class 'float'>, {'.': 1.0}), ('term', '.'): defaultdict(<class 'float'>, {'</s>': 1.0}), ('But', 'if'): defaultdict(<class 'float'>, {'we': 1.0}), ('only', 'exploit'): defaultdict(<class 'float'>, {',': 1.0}), ('exploit', ','): defaultdict(<class 'float'>, {'it': 1.0}), (\"'s\", 'very'): defaultdict(<class 'float'>, {'risky': 1.0}), ('very', 'risky'): defaultdict(<class 'float'>, {'in': 1.0}), ('risky', 'in'): defaultdict(<class 'float'>, {'the': 1.0}), ('the', 'long'): defaultdict(<class 'float'>, {'term': 1.0}), ('long', 'term'): defaultdict(<class 'float'>, {'.': 1.0}), ('And', 'I'): defaultdict(<class 'float'>, {'think': 0.5, 'hear': 0.5}), ('I', 'think'): defaultdict(<class 'float'>, {'we': 0.2, 'it': 0.3, 'there': 0.1, 'they': 0.2, 'the': 0.1, 'that': 0.1}), ('think', 'we'): defaultdict(<class 'float'>, {'all': 0.5, 'need': 0.5}), ('we', 'all'): defaultdict(<class 'float'>, {'have': 1.0}), ('all', 'have'): defaultdict(<class 'float'>, {'memories': 1.0}), ('have', 'memories'): defaultdict(<class 'float'>, {'of': 1.0}), ('memories', 'of'): defaultdict(<class 'float'>, {'the': 1.0}), ('the', 'famous'): defaultdict(<class 'float'>, {'pop': 1.0}), ('famous', 'pop'): defaultdict(<class 'float'>, {'groups': 1.0}), ('pop', 'groups'): defaultdict(<class 'float'>, {'who': 1.0}), ('groups', 'who'): defaultdict(<class 'float'>, {'keep': 1.0}), ('who', 'keep'): defaultdict(<class 'float'>, {'singing': 1.0}), ('keep', 'singing'): defaultdict(<class 'float'>, {'the': 1.0}), ('singing', 'the'): defaultdict(<class 'float'>, {'same': 1.0}), ('same', 'songs'): defaultdict(<class 'float'>, {'again': 1.0}), ('songs', 'again'): defaultdict(<class 'float'>, {'and': 1.0}), ('again', 'and'): defaultdict(<class 'float'>, {'again': 1.0}), ('and', 'again'): defaultdict(<class 'float'>, {',': 1.0}), ('again', ','): defaultdict(<class 'float'>, {'until': 1.0}), (',', 'until'): defaultdict(<class 'float'>, {'they': 1.0}), ('until', 'they'): defaultdict(<class 'float'>, {'become': 1.0}), ('they', 'become'): defaultdict(<class 'float'>, {'obsolete': 0.5, 'more': 0.5}), ('become', 'obsolete'): defaultdict(<class 'float'>, {'or': 1.0}), ('obsolete', 'or'): defaultdict(<class 'float'>, {'even': 0.5, 'are': 0.5}), ('even', 'pathetic'): defaultdict(<class 'float'>, {'.': 1.0}), ('pathetic', '.'): defaultdict(<class 'float'>, {'</s>': 1.0}), ('<s>', 'That'): defaultdict(<class 'float'>, {\"'s\": 1.0}), ('That', \"'s\"): defaultdict(<class 'float'>, {'the': 1.0}), (\"'s\", 'the'): defaultdict(<class 'float'>, {'risk': 0.5, 'challenge': 0.5}), ('the', 'risk'): defaultdict(<class 'float'>, {'of': 1.0}), ('risk', 'of'): defaultdict(<class 'float'>, {'exploitation': 1.0}), ('of', 'exploitation'): defaultdict(<class 'float'>, {'.': 1.0}), ('<s>', 'So'): defaultdict(<class 'float'>, {'if': 0.125, 'one': 0.125, 'we': 0.125, 'I': 0.25, 'let': 0.125, 'instead': 0.125, 'when': 0.125}), ('So', 'if'): defaultdict(<class 'float'>, {'we': 1.0}), ('we', 'take'): defaultdict(<class 'float'>, {'a': 1.0}), ('take', 'a'): defaultdict(<class 'float'>, {'long-term': 0.3333333333333333, 'short-term': 0.3333333333333333, '10-year': 0.3333333333333333}), ('a', 'long-term'): defaultdict(<class 'float'>, {'perspective': 1.0}), ('long-term', 'perspective'): defaultdict(<class 'float'>, {',': 1.0}), ('perspective', ','): defaultdict(<class 'float'>, {'we': 1.0}), ('we', 'explore'): defaultdict(<class 'float'>, {'.': 0.5, 'less': 0.5}), ('explore', '.'): defaultdict(<class 'float'>, {'</s>': 1.0}), ('<s>', 'If'): defaultdict(<class 'float'>, {'we': 1.0}), ('If', 'we'): defaultdict(<class 'float'>, {'take': 1.0}), ('a', 'short-term'): defaultdict(<class 'float'>, {'perspective': 1.0}), ('short-term', 'perspective'): defaultdict(<class 'float'>, {',': 1.0}), ('we', 'exploit'): defaultdict(<class 'float'>, {'.': 1.0}), ('exploit', '.'): defaultdict(<class 'float'>, {'</s>': 1.0}), ('<s>', 'Small'): defaultdict(<class 'float'>, {'children': 1.0}), ('Small', 'children'): defaultdict(<class 'float'>, {',': 1.0}), ('children', ','): defaultdict(<class 'float'>, {'they': 1.0}), ('they', 'explore'): defaultdict(<class 'float'>, {'all': 1.0}), ('explore', 'all'): defaultdict(<class 'float'>, {'day': 1.0}), ('all', 'day'): defaultdict(<class 'float'>, {'.': 1.0}), ('day', '.'): defaultdict(<class 'float'>, {'</s>': 1.0}), ('<s>', 'All'): defaultdict(<class 'float'>, {'day': 1.0}), ('All', 'day'): defaultdict(<class 'float'>, {'it': 1.0}), ('day', 'it'): defaultdict(<class 'float'>, {\"'s\": 1.0}), ('<s>', 'As'): defaultdict(<class 'float'>, {'we': 1.0}), ('As', 'we'): defaultdict(<class 'float'>, {'grow': 1.0}), ('we', 'grow'): defaultdict(<class 'float'>, {'older': 1.0}), ('grow', 'older'): defaultdict(<class 'float'>, {',': 1.0}), ('older', ','): defaultdict(<class 'float'>, {'we': 1.0}), ('explore', 'less'): defaultdict(<class 'float'>, {'because': 1.0}), ('less', 'because'): defaultdict(<class 'float'>, {'we': 1.0}), ('because', 'we'): defaultdict(<class 'float'>, {'have': 1.0}), ('have', 'more'): defaultdict(<class 'float'>, {'knowledge': 1.0}), ('more', 'knowledge'): defaultdict(<class 'float'>, {'to': 1.0}), ('knowledge', 'to'): defaultdict(<class 'float'>, {'exploit': 1.0}), ('to', 'exploit'): defaultdict(<class 'float'>, {'on': 1.0}), ('exploit', 'on'): defaultdict(<class 'float'>, {'.': 1.0}), ('on', '.'): defaultdict(<class 'float'>, {'</s>': 1.0}), ('The', 'same'): defaultdict(<class 'float'>, {'goes': 1.0}), ('same', 'goes'): defaultdict(<class 'float'>, {'for': 1.0}), ('goes', 'for'): defaultdict(<class 'float'>, {'companies': 0.5, 'that': 0.5}), ('for', 'companies'): defaultdict(<class 'float'>, {'.': 1.0}), ('companies', '.'): defaultdict(<class 'float'>, {'</s>': 1.0}), ('<s>', 'Companies'): defaultdict(<class 'float'>, {'become': 1.0}), ('Companies', 'become'): defaultdict(<class 'float'>, {',': 1.0}), ('become', ','): defaultdict(<class 'float'>, {'by': 1.0}), (',', 'by'): defaultdict(<class 'float'>, {'nature': 1.0}), ('by', 'nature'): defaultdict(<class 'float'>, {',': 1.0}), ('nature', ','): defaultdict(<class 'float'>, {'less': 1.0}), (',', 'less'): defaultdict(<class 'float'>, {'innovative': 1.0}), ('less', 'innovative'): defaultdict(<class 'float'>, {'as': 1.0}), ('innovative', 'as'): defaultdict(<class 'float'>, {'they': 1.0}), ('as', 'they'): defaultdict(<class 'float'>, {'become': 1.0}), ('become', 'more'): defaultdict(<class 'float'>, {'competent': 1.0}), ('more', 'competent'): defaultdict(<class 'float'>, {'.': 1.0}), ('competent', '.'): defaultdict(<class 'float'>, {'</s>': 1.0}), ('And', 'this'): defaultdict(<class 'float'>, {'is': 1.0}), ('this', 'is'): defaultdict(<class 'float'>, {',': 1.0}), (',', 'of'): defaultdict(<class 'float'>, {'course': 1.0}), ('of', 'course'): defaultdict(<class 'float'>, {',': 1.0}), ('course', ','): defaultdict(<class 'float'>, {'a': 0.5, 'Xerox': 0.5}), (',', 'a'): defaultdict(<class 'float'>, {'big': 1.0}), ('a', 'big'): defaultdict(<class 'float'>, {'worry': 0.5, 'victory': 0.5}), ('big', 'worry'): defaultdict(<class 'float'>, {'to': 1.0}), ('worry', 'to'): defaultdict(<class 'float'>, {'CEOs': 1.0}), ('to', 'CEOs'): defaultdict(<class 'float'>, {'.': 1.0}), ('CEOs', '.'): defaultdict(<class 'float'>, {'</s>': 1.0}), ('I', 'hear'): defaultdict(<class 'float'>, {'very': 1.0}), ('hear', 'very'): defaultdict(<class 'float'>, {'often': 1.0}), ('very', 'often'): defaultdict(<class 'float'>, {'questions': 1.0}), ('often', 'questions'): defaultdict(<class 'float'>, {'phrased': 1.0}), ('questions', 'phrased'): defaultdict(<class 'float'>, {'in': 1.0}), ('phrased', 'in'): defaultdict(<class 'float'>, {'different': 1.0}), ('in', 'different'): defaultdict(<class 'float'>, {'ways': 1.0}), ('different', 'ways'): defaultdict(<class 'float'>, {'.': 1.0}), ('ways', '.'): defaultdict(<class 'float'>, {'</s>': 1.0}), ('<s>', 'For'): defaultdict(<class 'float'>, {'example': 1.0}), ('For', 'example'): defaultdict(<class 'float'>, {',': 1.0}), ('example', ','): defaultdict(<class 'float'>, {'\"How': 1.0}), (',', '\"How'): defaultdict(<class 'float'>, {'can': 1.0}), ('\"How', 'can'): defaultdict(<class 'float'>, {'I': 1.0}), ('can', 'I'): defaultdict(<class 'float'>, {'both': 0.5, 'make': 0.5}), ('I', 'both'): defaultdict(<class 'float'>, {'effectively': 1.0}), ('both', 'effectively'): defaultdict(<class 'float'>, {'run': 1.0}), ('effectively', 'run'): defaultdict(<class 'float'>, {'and': 1.0}), ('run', 'and'): defaultdict(<class 'float'>, {'reinvent': 1.0}), ('and', 'reinvent'): defaultdict(<class 'float'>, {'my': 1.0}), ('reinvent', 'my'): defaultdict(<class 'float'>, {'company': 1.0}), ('my', 'company'): defaultdict(<class 'float'>, {'?\"': 1.0}), ('company', '?\"'): defaultdict(<class 'float'>, {'Or': 1.0}), ('?\"', 'Or'): defaultdict(<class 'float'>, {',': 1.0}), ('Or', ','): defaultdict(<class 'float'>, {'\"How': 1.0}), ('I', 'make'): defaultdict(<class 'float'>, {'sure': 1.0}), ('make', 'sure'): defaultdict(<class 'float'>, {'that': 1.0}), ('sure', 'that'): defaultdict(<class 'float'>, {'our': 1.0}), ('that', 'our'): defaultdict(<class 'float'>, {'company': 1.0}), ('our', 'company'): defaultdict(<class 'float'>, {'changes': 1.0}), ('company', 'changes'): defaultdict(<class 'float'>, {'before': 1.0}), ('changes', 'before'): defaultdict(<class 'float'>, {'we': 1.0}), ('before', 'we'): defaultdict(<class 'float'>, {'become': 1.0}), ('we', 'become'): defaultdict(<class 'float'>, {'obsolete': 1.0}), ('or', 'are'): defaultdict(<class 'float'>, {'hit': 1.0}), ('are', 'hit'): defaultdict(<class 'float'>, {'by': 1.0}), ('hit', 'by'): defaultdict(<class 'float'>, {'a': 1.0}), ('by', 'a'): defaultdict(<class 'float'>, {'crisis': 1.0}), ('a', 'crisis'): defaultdict(<class 'float'>, {'?\"': 1.0}), ('crisis', '?\"'): defaultdict(<class 'float'>, {'So': 1.0}), ('?\"', 'So'): defaultdict(<class 'float'>, {',': 1.0}), ('So', ','): defaultdict(<class 'float'>, {'doing': 1.0}), (',', 'doing'): defaultdict(<class 'float'>, {'one': 1.0}), ('doing', 'one'): defaultdict(<class 'float'>, {'well': 1.0}), ('one', 'well'): defaultdict(<class 'float'>, {'is': 1.0}), ('well', 'is'): defaultdict(<class 'float'>, {'difficult': 1.0}), ('is', 'difficult'): defaultdict(<class 'float'>, {'.': 1.0}), ('difficult', '.'): defaultdict(<class 'float'>, {'</s>': 1.0}), ('<s>', 'Doing'): defaultdict(<class 'float'>, {'both': 1.0}), ('Doing', 'both'): defaultdict(<class 'float'>, {'well': 1.0}), ('both', 'well'): defaultdict(<class 'float'>, {'as': 1.0}), ('well', 'as'): defaultdict(<class 'float'>, {'the': 1.0}), ('as', 'the'): defaultdict(<class 'float'>, {'same': 1.0}), ('same', 'time'): defaultdict(<class 'float'>, {'is': 0.5, ',': 0.5}), ('time', 'is'): defaultdict(<class 'float'>, {'art': 1.0}), ('is', 'art'): defaultdict(<class 'float'>, {'--': 1.0}), ('art', '--'): defaultdict(<class 'float'>, {'pushing': 1.0}), ('--', 'pushing'): defaultdict(<class 'float'>, {'both': 1.0}), ('pushing', 'both'): defaultdict(<class 'float'>, {'exploration': 1.0}), ('both', 'exploration'): defaultdict(<class 'float'>, {'and': 1.0}), ('So', 'one'): defaultdict(<class 'float'>, {'thing': 1.0}), ('one', 'thing'): defaultdict(<class 'float'>, {'we': 1.0}), ('thing', 'we'): defaultdict(<class 'float'>, {\"'ve\": 1.0}), ('we', \"'ve\"): defaultdict(<class 'float'>, {'found': 1.0}), (\"'ve\", 'found'): defaultdict(<class 'float'>, {'is': 1.0}), ('found', 'is'): defaultdict(<class 'float'>, {'only': 1.0}), ('is', 'only'): defaultdict(<class 'float'>, {'about': 1.0}), ('only', 'about'): defaultdict(<class 'float'>, {'two': 0.5, '30': 0.5}), ('about', 'two'): defaultdict(<class 'float'>, {'percent': 0.5, ',': 0.5}), ('two', 'percent'): defaultdict(<class 'float'>, {'of': 1.0}), ('percent', 'of'): defaultdict(<class 'float'>, {'companies': 1.0}), ('of', 'companies'): defaultdict(<class 'float'>, {'are': 1.0}), ('companies', 'are'): defaultdict(<class 'float'>, {'able': 1.0}), ('are', 'able'): defaultdict(<class 'float'>, {'to': 1.0}), ('able', 'to'): defaultdict(<class 'float'>, {'effectively': 0.25, 'innovate': 0.25, 'also': 0.25, 'balance': 0.25}), ('to', 'effectively'): defaultdict(<class 'float'>, {'explore': 1.0}), ('effectively', 'explore'): defaultdict(<class 'float'>, {'and': 1.0}), ('explore', 'and'): defaultdict(<class 'float'>, {'exploit': 1.0}), ('and', 'exploit'): defaultdict(<class 'float'>, {'at': 1.0}), ('exploit', 'at'): defaultdict(<class 'float'>, {'the': 1.0}), ('at', 'the'): defaultdict(<class 'float'>, {'same': 0.3333333333333333, 'valuation': 0.3333333333333333, 'old': 0.3333333333333333}), ('time', ','): defaultdict(<class 'float'>, {'in': 1.0}), (',', 'in'): defaultdict(<class 'float'>, {'parallel': 1.0}), ('in', 'parallel'): defaultdict(<class 'float'>, {'.': 1.0}), ('parallel', '.'): defaultdict(<class 'float'>, {'</s>': 1.0}), ('But', 'when'): defaultdict(<class 'float'>, {'they': 1.0}), ('when', 'they'): defaultdict(<class 'float'>, {'do': 1.0}), ('they', 'do'): defaultdict(<class 'float'>, {',': 1.0}), ('do', ','): defaultdict(<class 'float'>, {'the': 1.0}), ('the', 'payoffs'): defaultdict(<class 'float'>, {'are': 1.0}), ('payoffs', 'are'): defaultdict(<class 'float'>, {'huge': 1.0}), ('are', 'huge'): defaultdict(<class 'float'>, {'.': 1.0}), ('huge', '.'): defaultdict(<class 'float'>, {'</s>': 1.0}), ('So', 'we'): defaultdict(<class 'float'>, {'have': 1.0}), ('have', 'lots'): defaultdict(<class 'float'>, {'of': 1.0}), ('lots', 'of'): defaultdict(<class 'float'>, {'great': 0.5, 'examples': 0.5}), ('of', 'great'): defaultdict(<class 'float'>, {'examples': 1.0}), ('great', 'examples'): defaultdict(<class 'float'>, {'.': 1.0}), ('examples', '.'): defaultdict(<class 'float'>, {'</s>': 1.0}), ('We', 'have'): defaultdict(<class 'float'>, {'Nestlé': 1.0}), ('have', 'Nestlé'): defaultdict(<class 'float'>, {'creating': 1.0}), ('Nestlé', 'creating'): defaultdict(<class 'float'>, {'Nespresso': 1.0}), ('creating', 'Nespresso'): defaultdict(<class 'float'>, {',': 1.0}), ('Nespresso', ','): defaultdict(<class 'float'>, {'we': 1.0}), ('have', 'Lego'): defaultdict(<class 'float'>, {'going': 1.0}), ('Lego', 'going'): defaultdict(<class 'float'>, {'into': 1.0}), ('going', 'into'): defaultdict(<class 'float'>, {'animated': 1.0}), ('into', 'animated'): defaultdict(<class 'float'>, {'films': 1.0}), ('animated', 'films'): defaultdict(<class 'float'>, {',': 1.0}), ('films', ','): defaultdict(<class 'float'>, {'Toyota': 1.0}), (',', 'Toyota'): defaultdict(<class 'float'>, {'creating': 1.0}), ('Toyota', 'creating'): defaultdict(<class 'float'>, {'the': 1.0}), ('creating', 'the'): defaultdict(<class 'float'>, {'hybrids': 1.0}), ('the', 'hybrids'): defaultdict(<class 'float'>, {',': 1.0}), ('hybrids', ','): defaultdict(<class 'float'>, {'Unilever': 1.0}), (',', 'Unilever'): defaultdict(<class 'float'>, {'pushing': 1.0}), ('Unilever', 'pushing'): defaultdict(<class 'float'>, {'into': 1.0}), ('pushing', 'into'): defaultdict(<class 'float'>, {'sustainability': 1.0}), ('into', 'sustainability'): defaultdict(<class 'float'>, {'--': 1.0}), ('sustainability', '--'): defaultdict(<class 'float'>, {'there': 1.0}), ('--', 'there'): defaultdict(<class 'float'>, {'are': 1.0}), ('there', 'are'): defaultdict(<class 'float'>, {'lots': 0.25, 'so': 0.25, 'many': 0.25, 'some': 0.25}), ('are', 'lots'): defaultdict(<class 'float'>, {'of': 1.0}), ('of', 'examples'): defaultdict(<class 'float'>, {',': 1.0}), ('examples', ','): defaultdict(<class 'float'>, {'and': 1.0}), ('the', 'benefits'): defaultdict(<class 'float'>, {'are': 1.0}), ('benefits', 'are'): defaultdict(<class 'float'>, {'huge': 1.0}), ('<s>', 'Why'): defaultdict(<class 'float'>, {'is': 1.0}), ('Why', 'is'): defaultdict(<class 'float'>, {'balancing': 1.0}), ('is', 'balancing'): defaultdict(<class 'float'>, {'so': 1.0}), ('balancing', 'so'): defaultdict(<class 'float'>, {'difficult': 1.0}), ('so', 'difficult'): defaultdict(<class 'float'>, {'?': 1.0}), ('difficult', '?'): defaultdict(<class 'float'>, {'I': 1.0}), ('?', 'I'): defaultdict(<class 'float'>, {'think': 1.0}), ('think', 'it'): defaultdict(<class 'float'>, {\"'s\": 1.0}), (\"'s\", 'difficult'): defaultdict(<class 'float'>, {'because': 0.5, 'to': 0.5}), ('difficult', 'because'): defaultdict(<class 'float'>, {'there': 1.0}), ('because', 'there'): defaultdict(<class 'float'>, {'are': 1.0}), ('are', 'so'): defaultdict(<class 'float'>, {'many': 1.0}), ('so', 'many'): defaultdict(<class 'float'>, {'traps': 1.0}), ('many', 'traps'): defaultdict(<class 'float'>, {'that': 1.0}), ('traps', 'that'): defaultdict(<class 'float'>, {'keep': 1.0}), ('that', 'keep'): defaultdict(<class 'float'>, {'us': 1.0}), ('keep', 'us'): defaultdict(<class 'float'>, {'where': 1.0}), ('us', 'where'): defaultdict(<class 'float'>, {'we': 1.0}), ('where', 'we'): defaultdict(<class 'float'>, {'are': 1.0}), ('we', 'are'): defaultdict(<class 'float'>, {'.': 1.0}), ('are', '.'): defaultdict(<class 'float'>, {'</s>': 1.0}), ('So', 'I'): defaultdict(<class 'float'>, {\"'ll\": 0.5, 'think': 0.5}), ('I', \"'ll\"): defaultdict(<class 'float'>, {'talk': 0.5, 'share': 0.5}), (\"'ll\", 'talk'): defaultdict(<class 'float'>, {'about': 1.0}), ('talk', 'about'): defaultdict(<class 'float'>, {'two': 0.5, 'the': 0.5}), ('two', ','): defaultdict(<class 'float'>, {'but': 1.0}), ('but', 'there'): defaultdict(<class 'float'>, {'are': 1.0}), ('are', 'many'): defaultdict(<class 'float'>, {'.': 1.0}), ('many', '.'): defaultdict(<class 'float'>, {'</s>': 1.0}), ('So', 'let'): defaultdict(<class 'float'>, {\"'s\": 1.0}), ('let', \"'s\"): defaultdict(<class 'float'>, {'talk': 1.0}), (\"'s\", 'talk'): defaultdict(<class 'float'>, {'about': 1.0}), ('the', 'perpetual'): defaultdict(<class 'float'>, {'search': 1.0}), ('perpetual', 'search'): defaultdict(<class 'float'>, {'trap': 1.0}), ('search', 'trap'): defaultdict(<class 'float'>, {'.': 1.0}), ('trap', '.'): defaultdict(<class 'float'>, {'</s>': 1.0}), ('We', 'discover'): defaultdict(<class 'float'>, {'something': 1.0}), ('discover', 'something'): defaultdict(<class 'float'>, {',': 1.0}), ('something', ','): defaultdict(<class 'float'>, {'but': 1.0}), ('but', 'we'): defaultdict(<class 'float'>, {'don': 1.0}), (\"'t\", 'have'): defaultdict(<class 'float'>, {'the': 1.0}), ('have', 'the'): defaultdict(<class 'float'>, {'patience': 1.0}), ('the', 'patience'): defaultdict(<class 'float'>, {'or': 1.0}), ('patience', 'or'): defaultdict(<class 'float'>, {'the': 1.0}), ('or', 'the'): defaultdict(<class 'float'>, {'persistence': 1.0}), ('the', 'persistence'): defaultdict(<class 'float'>, {'to': 1.0}), ('persistence', 'to'): defaultdict(<class 'float'>, {'get': 1.0}), ('to', 'get'): defaultdict(<class 'float'>, {'at': 1.0}), ('get', 'at'): defaultdict(<class 'float'>, {'it': 1.0}), ('at', 'it'): defaultdict(<class 'float'>, {'and': 1.0}), ('it', 'and'): defaultdict(<class 'float'>, {'make': 1.0}), ('and', 'make'): defaultdict(<class 'float'>, {'it': 1.0}), ('make', 'it'): defaultdict(<class 'float'>, {'work': 1.0}), ('it', 'work'): defaultdict(<class 'float'>, {'.': 1.0}), ('work', '.'): defaultdict(<class 'float'>, {'</s>': 1.0}), ('So', 'instead'): defaultdict(<class 'float'>, {'of': 1.0}), ('instead', 'of'): defaultdict(<class 'float'>, {'staying': 1.0}), ('of', 'staying'): defaultdict(<class 'float'>, {'with': 1.0}), ('staying', 'with'): defaultdict(<class 'float'>, {'it': 1.0}), ('with', 'it'): defaultdict(<class 'float'>, {',': 1.0}), ('it', ','): defaultdict(<class 'float'>, {'we': 1.0}), ('we', 'create'): defaultdict(<class 'float'>, {'something': 1.0}), ('create', 'something'): defaultdict(<class 'float'>, {'new': 1.0}), ('But', 'the'): defaultdict(<class 'float'>, {'same': 1.0}), ('for', 'that'): defaultdict(<class 'float'>, {',': 1.0}), ('that', ','): defaultdict(<class 'float'>, {'then': 0.5, 'too': 0.5}), (',', 'then'): defaultdict(<class 'float'>, {'we': 1.0}), ('then', 'we'): defaultdict(<class 'float'>, {\"'re\": 1.0}), (\"'re\", 'in'): defaultdict(<class 'float'>, {'the': 1.0}), ('the', 'vicious'): defaultdict(<class 'float'>, {'circle': 1.0}), ('vicious', 'circle'): defaultdict(<class 'float'>, {'of': 1.0}), ('circle', 'of'): defaultdict(<class 'float'>, {'actually': 1.0}), ('of', 'actually'): defaultdict(<class 'float'>, {'coming': 1.0}), ('actually', 'coming'): defaultdict(<class 'float'>, {'up': 1.0}), ('with', 'ideas'): defaultdict(<class 'float'>, {'but': 1.0}), ('ideas', 'but'): defaultdict(<class 'float'>, {'being': 1.0}), ('but', 'being'): defaultdict(<class 'float'>, {'frustrated': 1.0}), ('being', 'frustrated'): defaultdict(<class 'float'>, {'.': 1.0}), ('frustrated', '.'): defaultdict(<class 'float'>, {'</s>': 1.0}), ('OncoSearch', 'was'): defaultdict(<class 'float'>, {'a': 1.0}), ('good', 'example'): defaultdict(<class 'float'>, {'.': 1.0}), ('example', '.'): defaultdict(<class 'float'>, {'</s>': 1.0}), ('A', 'famous'): defaultdict(<class 'float'>, {'example': 1.0}), ('famous', 'example'): defaultdict(<class 'float'>, {'is': 1.0}), ('example', 'is'): defaultdict(<class 'float'>, {',': 1.0}), (',', 'Xerox'): defaultdict(<class 'float'>, {'.': 1.0}), ('Xerox', '.'): defaultdict(<class 'float'>, {'</s>': 1.0}), ('But', 'we'): defaultdict(<class 'float'>, {'don': 1.0}), (\"'t\", 'only'): defaultdict(<class 'float'>, {'see': 1.0}), ('only', 'see'): defaultdict(<class 'float'>, {'this': 1.0}), ('see', 'this'): defaultdict(<class 'float'>, {'in': 1.0}), ('this', 'in'): defaultdict(<class 'float'>, {'companies': 0.5, 'the': 0.5}), ('in', 'companies'): defaultdict(<class 'float'>, {'.': 1.0}), ('We', 'see'): defaultdict(<class 'float'>, {'this': 1.0}), ('the', 'public'): defaultdict(<class 'float'>, {'sector': 1.0}), ('public', 'sector'): defaultdict(<class 'float'>, {'as': 1.0}), ('sector', 'as'): defaultdict(<class 'float'>, {'well': 1.0}), ('as', 'well'): defaultdict(<class 'float'>, {'.': 1.0}), ('well', '.'): defaultdict(<class 'float'>, {'</s>': 1.0}), ('that', 'any'): defaultdict(<class 'float'>, {'kind': 1.0}), ('any', 'kind'): defaultdict(<class 'float'>, {'of': 1.0}), ('kind', 'of'): defaultdict(<class 'float'>, {'effective': 1.0}), ('of', 'effective'): defaultdict(<class 'float'>, {'reform': 1.0}), ('effective', 'reform'): defaultdict(<class 'float'>, {'of': 1.0}), ('reform', 'of'): defaultdict(<class 'float'>, {'education': 1.0}), ('of', 'education'): defaultdict(<class 'float'>, {',': 1.0}), ('education', ','): defaultdict(<class 'float'>, {'research': 1.0}), (',', 'research'): defaultdict(<class 'float'>, {',': 1.0}), ('research', ','): defaultdict(<class 'float'>, {'health': 1.0}), (',', 'health'): defaultdict(<class 'float'>, {'care': 1.0}), ('health', 'care'): defaultdict(<class 'float'>, {',': 1.0}), ('care', ','): defaultdict(<class 'float'>, {'even': 1.0}), ('even', 'defense'): defaultdict(<class 'float'>, {',': 1.0}), ('defense', ','): defaultdict(<class 'float'>, {'takes': 1.0}), (',', 'takes'): defaultdict(<class 'float'>, {'10': 1.0}), ('takes', '10'): defaultdict(<class 'float'>, {',': 1.0}), ('10', ','): defaultdict(<class 'float'>, {'15': 1.0}), (',', '15'): defaultdict(<class 'float'>, {',': 1.0}), ('15', ','): defaultdict(<class 'float'>, {'maybe': 1.0}), (',', 'maybe'): defaultdict(<class 'float'>, {'20': 1.0}), ('maybe', '20'): defaultdict(<class 'float'>, {'years': 1.0}), ('20', 'years'): defaultdict(<class 'float'>, {'to': 1.0}), ('years', 'to'): defaultdict(<class 'float'>, {'work': 1.0}), ('to', 'work'): defaultdict(<class 'float'>, {'.': 1.0}), ('But', 'still'): defaultdict(<class 'float'>, {',': 1.0}), ('still', ','): defaultdict(<class 'float'>, {'we': 1.0}), ('we', 'change'): defaultdict(<class 'float'>, {'much': 1.0}), ('change', 'much'): defaultdict(<class 'float'>, {'more': 1.0}), ('much', 'more'): defaultdict(<class 'float'>, {'often': 1.0}), ('more', 'often'): defaultdict(<class 'float'>, {'.': 1.0}), ('often', '.'): defaultdict(<class 'float'>, {'</s>': 1.0}), ('We', 'really'): defaultdict(<class 'float'>, {'don': 1.0}), ('really', 'don'): defaultdict(<class 'float'>, {\"'t\": 1.0}), (\"'t\", 'give'): defaultdict(<class 'float'>, {'them': 1.0}), ('give', 'them'): defaultdict(<class 'float'>, {'the': 1.0}), ('them', 'the'): defaultdict(<class 'float'>, {'chance': 1.0}), ('the', 'chance'): defaultdict(<class 'float'>, {'.': 1.0}), ('chance', '.'): defaultdict(<class 'float'>, {'</s>': 1.0}), ('<s>', 'Another'): defaultdict(<class 'float'>, {'trap': 1.0}), ('Another', 'trap'): defaultdict(<class 'float'>, {'is': 1.0}), ('trap', 'is'): defaultdict(<class 'float'>, {'the': 1.0}), ('the', 'success'): defaultdict(<class 'float'>, {'trap': 1.0}), ('success', 'trap'): defaultdict(<class 'float'>, {'.': 1.0}), ('Facit', 'fell'): defaultdict(<class 'float'>, {'into': 1.0}), ('fell', 'into'): defaultdict(<class 'float'>, {'the': 1.0}), ('into', 'the'): defaultdict(<class 'float'>, {'success': 1.0}), ('They', 'literally'): defaultdict(<class 'float'>, {'held': 1.0}), ('literally', 'held'): defaultdict(<class 'float'>, {'the': 1.0}), ('held', 'the'): defaultdict(<class 'float'>, {'future': 1.0}), ('the', 'future'): defaultdict(<class 'float'>, {'in': 0.5, '.': 0.5}), ('future', 'in'): defaultdict(<class 'float'>, {'their': 1.0}), ('in', 'their'): defaultdict(<class 'float'>, {'hands': 1.0}), ('their', 'hands'): defaultdict(<class 'float'>, {',': 1.0}), ('hands', ','): defaultdict(<class 'float'>, {'but': 1.0}), ('but', 'they'): defaultdict(<class 'float'>, {'couldn': 0.5, 'always': 0.5}), ('they', 'couldn'): defaultdict(<class 'float'>, {\"'t\": 1.0}), ('couldn', \"'t\"): defaultdict(<class 'float'>, {'see': 1.0}), (\"'t\", 'see'): defaultdict(<class 'float'>, {'it': 1.0}), ('see', 'it'): defaultdict(<class 'float'>, {'.': 1.0}), ('it', '.'): defaultdict(<class 'float'>, {'</s>': 1.0}), ('were', 'simply'): defaultdict(<class 'float'>, {'so': 1.0}), ('simply', 'so'): defaultdict(<class 'float'>, {'good': 1.0}), ('so', 'good'): defaultdict(<class 'float'>, {'at': 1.0}), ('good', 'at'): defaultdict(<class 'float'>, {'making': 1.0}), ('at', 'making'): defaultdict(<class 'float'>, {'what': 1.0}), ('making', 'what'): defaultdict(<class 'float'>, {'they': 1.0}), ('what', 'they'): defaultdict(<class 'float'>, {'loved': 1.0}), ('they', 'loved'): defaultdict(<class 'float'>, {'doing': 1.0}), ('loved', 'doing'): defaultdict(<class 'float'>, {',': 1.0}), ('doing', ','): defaultdict(<class 'float'>, {'that': 1.0}), (',', 'that'): defaultdict(<class 'float'>, {'they': 1.0}), ('they', 'wouldn'): defaultdict(<class 'float'>, {\"'t\": 1.0}), ('wouldn', \"'t\"): defaultdict(<class 'float'>, {'change': 1.0}), (\"'t\", 'change'): defaultdict(<class 'float'>, {'.': 1.0}), ('change', '.'): defaultdict(<class 'float'>, {'</s>': 1.0}), ('We', 'are'): defaultdict(<class 'float'>, {'like': 1.0}), ('are', 'like'): defaultdict(<class 'float'>, {'that': 1.0}), ('like', 'that'): defaultdict(<class 'float'>, {',': 1.0}), ('<s>', 'When'): defaultdict(<class 'float'>, {'we': 1.0}), ('When', 'we'): defaultdict(<class 'float'>, {'know': 1.0}), ('know', 'something'): defaultdict(<class 'float'>, {'well': 1.0}), ('something', 'well'): defaultdict(<class 'float'>, {',': 1.0}), ('well', ','): defaultdict(<class 'float'>, {'it': 1.0}), ('difficult', 'to'): defaultdict(<class 'float'>, {'change': 1.0}), ('to', 'change'): defaultdict(<class 'float'>, {'.': 1.0}), ('<s>', 'Bill'): defaultdict(<class 'float'>, {'Gates': 1.0}), ('Bill', 'Gates'): defaultdict(<class 'float'>, {'has': 1.0}), ('Gates', 'has'): defaultdict(<class 'float'>, {'said': 1.0}), ('has', 'said'): defaultdict(<class 'float'>, {':': 1.0}), ('said', ':'): defaultdict(<class 'float'>, {'\"Success': 1.0}), (':', '\"Success'): defaultdict(<class 'float'>, {'is': 1.0}), ('\"Success', 'is'): defaultdict(<class 'float'>, {'a': 1.0}), ('is', 'a'): defaultdict(<class 'float'>, {'lousy': 1.0}), ('a', 'lousy'): defaultdict(<class 'float'>, {'teacher': 1.0}), ('lousy', 'teacher'): defaultdict(<class 'float'>, {'.': 1.0}), ('teacher', '.'): defaultdict(<class 'float'>, {'</s>': 1.0}), ('It', 'seduces'): defaultdict(<class 'float'>, {'us': 1.0}), ('seduces', 'us'): defaultdict(<class 'float'>, {'into': 1.0}), ('us', 'into'): defaultdict(<class 'float'>, {'thinking': 1.0}), ('into', 'thinking'): defaultdict(<class 'float'>, {'we': 1.0}), ('thinking', 'we'): defaultdict(<class 'float'>, {'cannot': 1.0}), ('we', 'cannot'): defaultdict(<class 'float'>, {'fail': 1.0}), ('cannot', 'fail'): defaultdict(<class 'float'>, {'.': 1.0}), ('fail', '.'): defaultdict(<class 'float'>, {'</s>': 1.0}), ('\"', 'That'): defaultdict(<class 'float'>, {\"'s\": 1.0}), ('the', 'challenge'): defaultdict(<class 'float'>, {'with': 1.0}), ('challenge', 'with'): defaultdict(<class 'float'>, {'success': 1.0}), ('with', 'success'): defaultdict(<class 'float'>, {'.': 1.0}), ('success', '.'): defaultdict(<class 'float'>, {'</s>': 1.0}), ('think', 'there'): defaultdict(<class 'float'>, {'are': 1.0}), ('are', 'some'): defaultdict(<class 'float'>, {'lessons': 1.0}), ('some', 'lessons'): defaultdict(<class 'float'>, {',': 1.0}), ('lessons', ','): defaultdict(<class 'float'>, {'and': 1.0}), ('and', 'I'): defaultdict(<class 'float'>, {'think': 1.0}), ('think', 'they'): defaultdict(<class 'float'>, {'apply': 0.5, 'will': 0.5}), ('they', 'apply'): defaultdict(<class 'float'>, {'to': 1.0}), ('apply', 'to'): defaultdict(<class 'float'>, {'us': 0.5, 'our': 0.5}), ('to', 'us'): defaultdict(<class 'float'>, {'.': 1.0}), ('us', '.'): defaultdict(<class 'float'>, {'</s>': 1.0}), ('And', 'they'): defaultdict(<class 'float'>, {'apply': 1.0}), ('to', 'our'): defaultdict(<class 'float'>, {'companies': 1.0}), ('our', 'companies'): defaultdict(<class 'float'>, {'.': 1.0}), ('The', 'first'): defaultdict(<class 'float'>, {'lesson': 1.0}), ('first', 'lesson'): defaultdict(<class 'float'>, {'is': 1.0}), ('lesson', 'is'): defaultdict(<class 'float'>, {':': 1.0}), ('is', ':'): defaultdict(<class 'float'>, {'get': 1.0}), (':', 'get'): defaultdict(<class 'float'>, {'ahead': 1.0}), ('get', 'ahead'): defaultdict(<class 'float'>, {'of': 1.0}), ('ahead', 'of'): defaultdict(<class 'float'>, {'the': 1.0}), ('the', 'crisis'): defaultdict(<class 'float'>, {'.': 1.0}), ('crisis', '.'): defaultdict(<class 'float'>, {'</s>': 1.0}), ('And', 'any'): defaultdict(<class 'float'>, {'company': 1.0}), ('any', 'company'): defaultdict(<class 'float'>, {'that': 1.0}), ('company', 'that'): defaultdict(<class 'float'>, {\"'s\": 1.0}), ('that', \"'s\"): defaultdict(<class 'float'>, {'able': 0.5, 'also': 0.5}), (\"'s\", 'able'): defaultdict(<class 'float'>, {'to': 1.0}), ('to', 'innovate'): defaultdict(<class 'float'>, {'is': 1.0}), ('innovate', 'is'): defaultdict(<class 'float'>, {'actually': 1.0}), ('is', 'actually'): defaultdict(<class 'float'>, {'able': 1.0}), ('actually', 'able'): defaultdict(<class 'float'>, {'to': 1.0}), ('to', 'also'): defaultdict(<class 'float'>, {'buy': 1.0}), ('also', 'buy'): defaultdict(<class 'float'>, {'an': 1.0}), ('buy', 'an'): defaultdict(<class 'float'>, {'insurance': 1.0}), ('an', 'insurance'): defaultdict(<class 'float'>, {'in': 1.0}), ('insurance', 'in'): defaultdict(<class 'float'>, {'the': 1.0}), ('future', '.'): defaultdict(<class 'float'>, {'</s>': 1.0}), ('<s>', 'Netflix'): defaultdict(<class 'float'>, {'--': 1.0}), ('Netflix', '--'): defaultdict(<class 'float'>, {'they': 1.0}), ('they', 'could'): defaultdict(<class 'float'>, {'so': 1.0}), ('could', 'so'): defaultdict(<class 'float'>, {'easily': 1.0}), ('so', 'easily'): defaultdict(<class 'float'>, {'have': 1.0}), ('easily', 'have'): defaultdict(<class 'float'>, {'been': 1.0}), ('have', 'been'): defaultdict(<class 'float'>, {'content': 1.0}), ('been', 'content'): defaultdict(<class 'float'>, {'with': 1.0}), ('content', 'with'): defaultdict(<class 'float'>, {'earlier': 1.0}), ('with', 'earlier'): defaultdict(<class 'float'>, {'generations': 1.0}), ('earlier', 'generations'): defaultdict(<class 'float'>, {'of': 1.0}), ('generations', 'of'): defaultdict(<class 'float'>, {'distribution': 1.0}), ('of', 'distribution'): defaultdict(<class 'float'>, {',': 1.0}), ('distribution', ','): defaultdict(<class 'float'>, {'but': 1.0}), ('they', 'always'): defaultdict(<class 'float'>, {'--': 1.0}), ('always', '--'): defaultdict(<class 'float'>, {'and': 0.5, 'keep': 0.5}), ('--', 'and'): defaultdict(<class 'float'>, {'I': 1.0}), ('they', 'will'): defaultdict(<class 'float'>, {'always': 1.0}), ('will', 'always'): defaultdict(<class 'float'>, {'--': 1.0}), ('--', 'keep'): defaultdict(<class 'float'>, {'pushing': 1.0}), ('keep', 'pushing'): defaultdict(<class 'float'>, {'for': 1.0}), ('pushing', 'for'): defaultdict(<class 'float'>, {'the': 1.0}), ('for', 'the'): defaultdict(<class 'float'>, {'next': 1.0}), ('the', 'next'): defaultdict(<class 'float'>, {'battle': 0.5, 'innovation': 0.5}), ('next', 'battle'): defaultdict(<class 'float'>, {'.': 1.0}), ('battle', '.'): defaultdict(<class 'float'>, {'</s>': 1.0}), ('I', 'see'): defaultdict(<class 'float'>, {'other': 1.0}), ('see', 'other'): defaultdict(<class 'float'>, {'companies': 1.0}), ('other', 'companies'): defaultdict(<class 'float'>, {'that': 1.0}), ('companies', 'that'): defaultdict(<class 'float'>, {'say': 1.0}), ('that', 'say'): defaultdict(<class 'float'>, {',': 1.0}), ('say', ','): defaultdict(<class 'float'>, {'\"I': 1.0}), (',', '\"I'): defaultdict(<class 'float'>, {\"'ll\": 1.0}), ('\"I', \"'ll\"): defaultdict(<class 'float'>, {'win': 1.0}), (\"'ll\", 'win'): defaultdict(<class 'float'>, {'the': 1.0}), ('win', 'the'): defaultdict(<class 'float'>, {'next': 1.0}), ('next', 'innovation'): defaultdict(<class 'float'>, {'cycle': 1.0}), ('innovation', 'cycle'): defaultdict(<class 'float'>, {',': 1.0}), ('cycle', ','): defaultdict(<class 'float'>, {'whatever': 1.0}), (',', 'whatever'): defaultdict(<class 'float'>, {'it': 1.0}), ('whatever', 'it'): defaultdict(<class 'float'>, {'takes': 1.0}), ('it', 'takes'): defaultdict(<class 'float'>, {'.': 1.0}), ('takes', '.'): defaultdict(<class 'float'>, {'</s>': 1.0}), ('\"', '.'): defaultdict(<class 'float'>, {'</s>': 1.0}), ('<s>', 'think'): defaultdict(<class 'float'>, {'in': 1.0}), ('think', 'in'): defaultdict(<class 'float'>, {'multiple': 1.0}), ('in', 'multiple'): defaultdict(<class 'float'>, {'time': 1.0}), ('multiple', 'time'): defaultdict(<class 'float'>, {'scales': 1.0}), ('time', 'scales'): defaultdict(<class 'float'>, {'.': 1.0}), ('scales', '.'): defaultdict(<class 'float'>, {'</s>': 1.0}), (\"'ll\", 'share'): defaultdict(<class 'float'>, {'a': 1.0}), ('share', 'a'): defaultdict(<class 'float'>, {'chart': 1.0}), ('a', 'chart'): defaultdict(<class 'float'>, {'with': 1.0}), ('chart', 'with'): defaultdict(<class 'float'>, {'you': 1.0}), ('with', 'you'): defaultdict(<class 'float'>, {',': 1.0}), ('you', ','): defaultdict(<class 'float'>, {'and': 1.0}), (\"'s\", 'a'): defaultdict(<class 'float'>, {'wonderful': 0.5, 'team': 0.5}), ('a', 'wonderful'): defaultdict(<class 'float'>, {'one': 1.0}), ('wonderful', 'one'): defaultdict(<class 'float'>, {'.': 1.0}), ('one', '.'): defaultdict(<class 'float'>, {'</s>': 1.0}), ('<s>', 'Any'): defaultdict(<class 'float'>, {'company': 1.0}), ('Any', 'company'): defaultdict(<class 'float'>, {'we': 1.0}), ('company', 'we'): defaultdict(<class 'float'>, {'look': 1.0}), ('we', 'look'): defaultdict(<class 'float'>, {'at': 1.0}), ('look', 'at'): defaultdict(<class 'float'>, {',': 1.0}), ('at', ','): defaultdict(<class 'float'>, {'taking': 1.0}), (',', 'taking'): defaultdict(<class 'float'>, {'a': 1.0}), ('taking', 'a'): defaultdict(<class 'float'>, {'one-year': 1.0}), ('a', 'one-year'): defaultdict(<class 'float'>, {'perspective': 1.0}), ('one-year', 'perspective'): defaultdict(<class 'float'>, {'and': 1.0}), ('perspective', 'and'): defaultdict(<class 'float'>, {'looking': 1.0}), ('and', 'looking'): defaultdict(<class 'float'>, {'at': 1.0}), ('looking', 'at'): defaultdict(<class 'float'>, {'the': 1.0}), ('the', 'valuation'): defaultdict(<class 'float'>, {'of': 1.0}), ('valuation', 'of'): defaultdict(<class 'float'>, {'the': 1.0}), ('the', 'company'): defaultdict(<class 'float'>, {',': 1.0}), ('company', ','): defaultdict(<class 'float'>, {'innovation': 1.0}), (',', 'innovation'): defaultdict(<class 'float'>, {'typically': 0.3333333333333333, 'isn': 0.3333333333333333, 'and': 0.3333333333333333}), ('innovation', 'typically'): defaultdict(<class 'float'>, {'accounts': 1.0}), ('typically', 'accounts'): defaultdict(<class 'float'>, {'for': 1.0}), ('accounts', 'for'): defaultdict(<class 'float'>, {'only': 1.0}), ('for', 'only'): defaultdict(<class 'float'>, {'about': 1.0}), ('about', '30'): defaultdict(<class 'float'>, {'percent': 1.0}), ('30', 'percent'): defaultdict(<class 'float'>, {'.': 1.0}), ('percent', '.'): defaultdict(<class 'float'>, {'</s>': 1.0}), ('So', 'when'): defaultdict(<class 'float'>, {'we': 1.0}), ('when', 'we'): defaultdict(<class 'float'>, {'think': 1.0}), ('we', 'think'): defaultdict(<class 'float'>, {'one': 1.0}), ('think', 'one'): defaultdict(<class 'float'>, {'year': 1.0}), ('one', 'year'): defaultdict(<class 'float'>, {',': 1.0}), ('year', ','): defaultdict(<class 'float'>, {'innovation': 1.0}), ('innovation', 'isn'): defaultdict(<class 'float'>, {\"'t\": 1.0}), ('isn', \"'t\"): defaultdict(<class 'float'>, {'really': 1.0}), (\"'t\", 'really'): defaultdict(<class 'float'>, {'that': 1.0}), ('really', 'that'): defaultdict(<class 'float'>, {'important': 1.0}), ('that', 'important'): defaultdict(<class 'float'>, {'.': 1.0}), ('important', '.'): defaultdict(<class 'float'>, {'</s>': 1.0}), ('<s>', 'Move'): defaultdict(<class 'float'>, {'ahead': 1.0}), ('Move', 'ahead'): defaultdict(<class 'float'>, {',': 1.0}), ('ahead', ','): defaultdict(<class 'float'>, {'take': 1.0}), (',', 'take'): defaultdict(<class 'float'>, {'a': 1.0}), ('a', '10-year'): defaultdict(<class 'float'>, {'perspective': 1.0}), ('10-year', 'perspective'): defaultdict(<class 'float'>, {'on': 1.0}), ('perspective', 'on'): defaultdict(<class 'float'>, {'the': 1.0}), ('on', 'the'): defaultdict(<class 'float'>, {'same': 1.0}), ('same', 'company'): defaultdict(<class 'float'>, {'--': 1.0}), ('company', '--'): defaultdict(<class 'float'>, {'suddenly': 1.0}), ('--', 'suddenly'): defaultdict(<class 'float'>, {',': 1.0}), ('suddenly', ','): defaultdict(<class 'float'>, {'innovation': 1.0}), ('innovation', 'and'): defaultdict(<class 'float'>, {'ability': 1.0}), ('and', 'ability'): defaultdict(<class 'float'>, {'to': 1.0}), ('ability', 'to'): defaultdict(<class 'float'>, {'renew': 1.0}), ('to', 'renew'): defaultdict(<class 'float'>, {'account': 1.0}), ('renew', 'account'): defaultdict(<class 'float'>, {'for': 1.0}), ('account', 'for'): defaultdict(<class 'float'>, {'70': 1.0}), ('for', '70'): defaultdict(<class 'float'>, {'percent': 1.0}), ('70', 'percent'): defaultdict(<class 'float'>, {'.': 1.0}), ('But', 'companies'): defaultdict(<class 'float'>, {'can': 1.0}), ('companies', 'can'): defaultdict(<class 'float'>, {\"'t\": 1.0}), ('can', \"'t\"): defaultdict(<class 'float'>, {'choose': 1.0}), (\"'t\", 'choose'): defaultdict(<class 'float'>, {'.': 1.0}), ('choose', '.'): defaultdict(<class 'float'>, {'</s>': 1.0}), ('They', 'need'): defaultdict(<class 'float'>, {'to': 1.0}), ('need', 'to'): defaultdict(<class 'float'>, {'fund': 0.5, 'allow': 0.5}), ('to', 'fund'): defaultdict(<class 'float'>, {'the': 1.0}), ('fund', 'the'): defaultdict(<class 'float'>, {'journey': 1.0}), ('the', 'journey'): defaultdict(<class 'float'>, {'and': 1.0}), ('journey', 'and'): defaultdict(<class 'float'>, {'lead': 1.0}), ('and', 'lead'): defaultdict(<class 'float'>, {'the': 1.0}), ('lead', 'the'): defaultdict(<class 'float'>, {'long': 1.0}), ('<s>', 'invite'): defaultdict(<class 'float'>, {'talent': 1.0}), ('invite', 'talent'): defaultdict(<class 'float'>, {'.': 1.0}), ('talent', '.'): defaultdict(<class 'float'>, {'</s>': 1.0}), ('I', 'don'): defaultdict(<class 'float'>, {\"'t\": 1.0}), (\"'t\", 'think'): defaultdict(<class 'float'>, {'it': 1.0}), (\"'s\", 'possible'): defaultdict(<class 'float'>, {'for': 1.0}), ('possible', 'for'): defaultdict(<class 'float'>, {'any': 1.0}), ('for', 'any'): defaultdict(<class 'float'>, {'of': 1.0}), ('any', 'of'): defaultdict(<class 'float'>, {'us': 1.0}), ('of', 'us'): defaultdict(<class 'float'>, {'to': 1.0}), ('us', 'to'): defaultdict(<class 'float'>, {'be': 1.0}), ('be', 'able'): defaultdict(<class 'float'>, {'to': 1.0}), ('to', 'balance'): defaultdict(<class 'float'>, {'exploration': 1.0}), ('balance', 'exploration'): defaultdict(<class 'float'>, {'and': 1.0}), ('exploitation', 'by'): defaultdict(<class 'float'>, {'ourselves': 1.0}), ('by', 'ourselves'): defaultdict(<class 'float'>, {'.': 1.0}), ('ourselves', '.'): defaultdict(<class 'float'>, {'</s>': 1.0}), ('a', 'team'): defaultdict(<class 'float'>, {'sport': 1.0}), ('team', 'sport'): defaultdict(<class 'float'>, {'.': 1.0}), ('sport', '.'): defaultdict(<class 'float'>, {'</s>': 1.0}), ('we', 'need'): defaultdict(<class 'float'>, {'to': 1.0}), ('to', 'allow'): defaultdict(<class 'float'>, {'challenging': 1.0}), ('allow', 'challenging'): defaultdict(<class 'float'>, {'.': 1.0}), ('challenging', '.'): defaultdict(<class 'float'>, {'</s>': 1.0}), ('think', 'the'): defaultdict(<class 'float'>, {'mark': 1.0}), ('the', 'mark'): defaultdict(<class 'float'>, {'of': 1.0}), ('mark', 'of'): defaultdict(<class 'float'>, {'a': 1.0}), ('a', 'great'): defaultdict(<class 'float'>, {'company': 1.0}), ('great', 'company'): defaultdict(<class 'float'>, {'is': 1.0}), ('company', 'is'): defaultdict(<class 'float'>, {'being': 1.0}), ('is', 'being'): defaultdict(<class 'float'>, {'open': 1.0}), ('being', 'open'): defaultdict(<class 'float'>, {'to': 1.0}), ('open', 'to'): defaultdict(<class 'float'>, {'be': 1.0}), ('be', 'challenged'): defaultdict(<class 'float'>, {',': 1.0}), ('challenged', ','): defaultdict(<class 'float'>, {'and': 1.0}), ('good', 'corporate'): defaultdict(<class 'float'>, {'board': 1.0}), ('corporate', 'board'): defaultdict(<class 'float'>, {'is': 1.0}), ('board', 'is'): defaultdict(<class 'float'>, {'to': 1.0}), ('is', 'to'): defaultdict(<class 'float'>, {'constructively': 1.0}), ('to', 'constructively'): defaultdict(<class 'float'>, {'challenge': 1.0}), ('constructively', 'challenge'): defaultdict(<class 'float'>, {'.': 1.0}), ('challenge', '.'): defaultdict(<class 'float'>, {'</s>': 1.0}), ('think', 'that'): defaultdict(<class 'float'>, {\"'s\": 1.0}), (\"'s\", 'also'): defaultdict(<class 'float'>, {'what': 1.0}), ('also', 'what'): defaultdict(<class 'float'>, {'good': 1.0}), ('what', 'good'): defaultdict(<class 'float'>, {'parenting': 1.0}), ('good', 'parenting'): defaultdict(<class 'float'>, {'is': 1.0}), ('parenting', 'is'): defaultdict(<class 'float'>, {'about': 1.0}), ('about', '.'): defaultdict(<class 'float'>, {'</s>': 1.0}), ('<s>', 'be'): defaultdict(<class 'float'>, {'skeptical': 1.0}), ('be', 'skeptical'): defaultdict(<class 'float'>, {'of': 1.0}), ('skeptical', 'of'): defaultdict(<class 'float'>, {'success': 1.0}), ('of', 'success'): defaultdict(<class 'float'>, {'.': 1.0}), ('<s>', 'Maybe'): defaultdict(<class 'float'>, {'it': 1.0}), ('Maybe', 'it'): defaultdict(<class 'float'>, {\"'s\": 1.0}), (\"'s\", 'useful'): defaultdict(<class 'float'>, {'to': 1.0}), ('useful', 'to'): defaultdict(<class 'float'>, {'think': 1.0}), ('to', 'think'): defaultdict(<class 'float'>, {'back': 1.0}), ('think', 'back'): defaultdict(<class 'float'>, {'at': 1.0}), ('back', 'at'): defaultdict(<class 'float'>, {'the': 1.0}), ('the', 'old'): defaultdict(<class 'float'>, {'triumph': 1.0}), ('old', 'triumph'): defaultdict(<class 'float'>, {'marches': 1.0}), ('triumph', 'marches'): defaultdict(<class 'float'>, {'in': 1.0}), ('marches', 'in'): defaultdict(<class 'float'>, {'Rome': 1.0}), ('in', 'Rome'): defaultdict(<class 'float'>, {',': 1.0}), ('Rome', ','): defaultdict(<class 'float'>, {'when': 1.0}), ('the', 'generals'): defaultdict(<class 'float'>, {',': 1.0}), ('generals', ','): defaultdict(<class 'float'>, {'after': 1.0}), (',', 'after'): defaultdict(<class 'float'>, {'a': 1.0}), ('after', 'a'): defaultdict(<class 'float'>, {'big': 1.0}), ('big', 'victory'): defaultdict(<class 'float'>, {',': 1.0}), ('victory', ','): defaultdict(<class 'float'>, {'were': 1.0}), (',', 'were'): defaultdict(<class 'float'>, {'given': 1.0}), ('were', 'given'): defaultdict(<class 'float'>, {'their': 1.0}), ('given', 'their'): defaultdict(<class 'float'>, {'celebration': 1.0}), ('their', 'celebration'): defaultdict(<class 'float'>, {'.': 1.0}), ('celebration', '.'): defaultdict(<class 'float'>, {'</s>': 1.0})})\n"
     ]
    }
   ],
   "source": [
    "from collections import Counter\n",
    "\n",
    "def train_ngram(data, N, k=0):\n",
    "    \"\"\"\n",
    "    Trains an n-gram language model with optional add-k smoothing\n",
    "    and additionaly returns the unigram model\n",
    "    \n",
    "    :param data: text-data as returned by read\n",
    "    :param N: (N>1) the order of the ngram e.g. N=2 gives a bigram\n",
    "    :param k: optional add-k smoothing\n",
    "    :returns: ngram and unigram\n",
    "    \"\"\"\n",
    "    data_size = sum([len(sentence) for sentence in data])\n",
    "    tokens = (token for sentence in data for token in sentence)\n",
    "    ngrams = defaultdict(Counter) # ngram[history][word] = #(history,word)\n",
    "    unigram = defaultdict(float, Counter(tokens)) # default prob is 0.0 \n",
    "        \n",
    "    # Calculate n-gram probs\n",
    "    for sentence in data:\n",
    "        for ngram in zip(*[sentence[i:] for i in range(N)]):\n",
    "            word, history = ngram[N-1],  ngram[:N-1]\n",
    "            ngrams[history][word] += 1\n",
    "            \n",
    "    # Calculate unigram probs\n",
    "    for type_ in unigram.keys():\n",
    "        unigram[type_] /= data_size\n",
    "        \n",
    "    # Turn ngram frequencies into probabilities\n",
    "    ngram_probs = defaultdict(lambda: defaultdict(float))\n",
    "    for history, word_counts in ngrams.items():\n",
    "        history_count = sum(word_counts.values())\n",
    "        for word, word_count in word_counts.items():\n",
    "            ngram_probs[history][word] = word_count / history_count\n",
    "\n",
    "    print(ngram_probs)\n",
    "    return ngrams, unigram\n",
    "\n",
    "data, w2i, i2w = read(train_file, max_lines=100)\n",
    "bigram, unigram = train_ngram(data, N=2, k=0)\n",
    "# bigram_smoothed, unigram_smoothed = train_ngram(data, N=2, k=1)"
   ]
  },
  {
   "cell_type": "code",
   "execution_count": 85,
   "metadata": {},
   "outputs": [
    {
     "data": {
      "text/plain": [
       "['<s>',\n",
       " 'Both',\n",
       " 'are',\n",
       " 'necessary',\n",
       " ',',\n",
       " 'but',\n",
       " 'it',\n",
       " 'can',\n",
       " 'be',\n",
       " 'too',\n",
       " 'much',\n",
       " 'of',\n",
       " 'a',\n",
       " 'good',\n",
       " 'thing',\n",
       " '.',\n",
       " '</s>']"
      ]
     },
     "execution_count": 85,
     "metadata": {},
     "output_type": "execute_result"
    }
   ],
   "source": [
    "data[2]"
   ]
  },
  {
   "cell_type": "markdown",
   "metadata": {},
   "source": [
    "## Exercise 2.2 (5 points)\n",
    "\n",
    "You can use an *N*-gram language model to **generate text**. The higher the order *N* the better your model will be able to catch the long-range dependecies that occur in actual sentences and the better your changes are at generating sensible text. But beware: **sparsity** of language data will quickly cause your model to reproduce entire lines from your training data; in such cases only one $w_k$ was observed for the histories $w_{k-N+1}\\dots w_{k-1}$ in the entire training-set.\n",
    "\n",
    "**Complete** the function `generate_sent`. It takes a language model `lm` and an order `N` and should generate a sentence by **sampling** from the language model.\n",
    "\n",
    "**[Hint]** You can use the method of [inverse transform sampling](https://en.wikipedia.org/wiki/Inverse_transform_sampling) to generate a sample from a **categorical distribution**, $p_1\\dots p_k$ such that $p_i \\geq 0$ and $\\sum_{i=1}^k p_i = 1$, as follows:"
   ]
  },
  {
   "cell_type": "code",
   "execution_count": 263,
   "metadata": {},
   "outputs": [
    {
     "name": "stdout",
     "output_type": "stream",
     "text": [
      "2\n",
      "Counter({2: 512, 1: 200, 3: 196, None: 92})\n"
     ]
    }
   ],
   "source": [
    "from random import random\n",
    "\n",
    "P = [0.2,0.5,0.2,0.1]\n",
    "\n",
    "def sample(P):\n",
    "    u = random() # uniformly random number between 0 and 1\n",
    "    p = 0\n",
    "    for i, p_i in enumerate(P):\n",
    "        if p > u: \n",
    "            return i # the first i s.t. p1 + ... + pi > u\n",
    "        p += p_i\n",
    "        \n",
    "print(sample(P))\n",
    "\n",
    "print(Counter([sample(P) for i in range(1000)])) # check to see if the law of large numbers is still true"
   ]
  },
  {
   "cell_type": "markdown",
   "metadata": {},
   "source": [
    "Inverse transform sampling in the words of Jurafsky and Martin:\n",
    "\n",
    "> Imagine all the words of the English language covering the probability space\n",
    "between 0 and 1, each word covering an interval proportional to its frequency. We\n",
    "choose a random value between 0 and 1 and print the word whose interval includes\n",
    "this chosen value.\n",
    "\n",
    "(J&M, section 4.3)"
   ]
  },
  {
   "cell_type": "code",
   "execution_count": 63,
   "metadata": {
    "collapsed": true
   },
   "outputs": [],
   "source": [
    "def generate_sent(lm, N):\n",
    "    ## YOUR CODE HERE ##\n",
    "    raise NotImplementedError"
   ]
  },
  {
   "cell_type": "markdown",
   "metadata": {},
   "source": [
    "### [Optional]\n",
    "\n",
    "For how many of the histories $w_{k-N+1}\\dots w_{k-1}$ is the number of continuations $w_n$ equal to **one**? Calculate the percentage of such cases for the different orders *N*.\n",
    "\n",
    "And which history has the **most possible continuations**?"
   ]
  },
  {
   "cell_type": "code",
   "execution_count": null,
   "metadata": {
    "collapsed": true
   },
   "outputs": [],
   "source": [
    "### ANSWER ###"
   ]
  },
  {
   "cell_type": "markdown",
   "metadata": {},
   "source": [
    "## Excercise 2.3 (5 points)\n",
    "\n",
    "Let $V$ denote our vocabulary. Recall that for any $w$ in $V$ `bigram[w]` defines a conditional probability $p(v|w)$ over $v$ in $V$. In the case of an **unsmoothed bigram**, $p(v|w) = 0$ for most $v\\in V$, whereas in the **smoothed bigram** smoothing took care that $p(v|w) \\geq 0$ for *all* $v$.\n",
    "\n",
    "The function `plot_bigram_dist(word, bigram, smoothbigram, k=30)` plots shows $p(v|word)$ for the `k` words $v$. One bar shows the probabilities in `bigram` and one in `smoothbigram`. \n",
    "\n",
    "**(a)** Use this function to plot the distribution for at least two words `w` and answer the questions\n",
    "* What is the effect of smoothing on the bigram distribution of frequent words? \n",
    "* What is the effect in the case of infrequent words?\n",
    "* Explain the difference between the two based on the raw counts of `w` \n",
    "\n",
    "**(b)** Now experiment with $k$ much smaller than 1 (but greater than 0!) \n",
    "* What are the effects?\n",
    "\n",
    "\n",
    "**[Hint]** Remember that add-1 smoothing turns \n",
    "$$P(w_n\\mid w_{n-1}) = \\frac{C(w_{n-1}w_{n})}{C(w_{n-1})}$$\n",
    "into\n",
    "$$P_{add-1}(w_n\\mid w_{n-1}) = \\frac{C(w_{n-1}w_{n}) + 1}{C(w_{n-1}) + |V|}.$$\n",
    "\n",
    "What happens when $C(w_{n-1})$ is relatively big (similiar in of size as $ |V| $)? And what if $C(w_{n-1})$ is small? "
   ]
  },
  {
   "cell_type": "code",
   "execution_count": 193,
   "metadata": {
    "collapsed": true
   },
   "outputs": [],
   "source": [
    "import pandas as pd\n",
    "import seaborn as sns    \n",
    "\n",
    "def plot_bigram_dist(word, bigram, smoothbigram, k=30):\n",
    "    d = bigram[word]\n",
    "    ds = smoothbigram[word]\n",
    "    \n",
    "    # sort the probabilities\n",
    "    d_sort = sorted(d.items(), reverse=True, key=lambda t: t[1])[0:k]\n",
    "    ds_sort = sorted(ds.items(), reverse=True, key=lambda t: t[1])[0:k]\n",
    "    \n",
    "    _, probs = zip(*d_sort)\n",
    "    smooth_ws, smooth_probs = zip(*ds_sort)\n",
    "    \n",
    "    # make up for the fact that in the unsmoothed case  probs is generally less than k long\n",
    "    probs = probs + (0,) * (k-len(probs)) \n",
    "\n",
    "    w_data = pd.DataFrame({\"w\": smooth_ws * 2,\n",
    "                           \"P({}|w)\".format(word): probs + smooth_probs,\n",
    "                           \"smoothing\": [\"unsmoothed\"]*k + [\"smoothed\"]*k})\n",
    "    \n",
    "    fig, ax = plt.subplots(figsize=(10,10))\n",
    "    plt.xticks(rotation=90)\n",
    "    g = sns.barplot(ax=ax, x=\"w\", y=\"P({}|w)\".format(word), hue=\"smoothing\",\n",
    "                    data=w_data, palette=\"Blues_d\")    "
   ]
  },
  {
   "cell_type": "code",
   "execution_count": 86,
   "metadata": {
    "collapsed": true
   },
   "outputs": [],
   "source": [
    "## YOUR CODE HERE ##"
   ]
  },
  {
   "cell_type": "markdown",
   "metadata": {},
   "source": [
    "YOUR ANSWERS HERE"
   ]
  },
  {
   "cell_type": "markdown",
   "metadata": {},
   "source": [
    "\n",
    "**Recall** that if we have a sentence $w_1,\\dots,w_n$ we can write\n",
    "\n",
    "$$P(w_1\\dots w_n) = P(w_1)P(w_2|w_1) \\cdots P(w_i|w_1 \\dots w_{n-1}) \\approx P(w_1)P(w_2|w_1)\\cdots P(w_{N-1}|w_1\\dots w_{N-2})\\prod_{i=N}^{n} P(w_i|w_{i-(N-1)}\\dots w_{i-1})$$\n",
    "\n",
    "where in the last step we make an $N$-gram approximation of the full conditionals.\n",
    "\n",
    "For example, in the case of a bigram (N=2), the above expression reduces to\n",
    "\n",
    "$$P(w_1 \\dots w_n)\\approx P(w_1)\\prod_{i=2}^{n} P(w_i| w_{i-1}).$$\n",
    "\n",
    "## Exercise 2.4 (5 points)\n",
    "\n",
    "The following sentences are taken from the **training data**. Use your **unsmoothed unigram**, **bigram**, and **trigram** language model to estimate their **probabilities**:\n",
    "\n",
    "    1. Every day was about creating something new .\n",
    "    2. In this machine , a beam of protons and anti-protons are accelerated to near the speed of light and brought \n",
    "       together in a collision , producing a burst of pure energy .\n",
    "\n",
    "**Repeat** this with the **smoothed (add-1)** versions of the N-grams. What is the effect of smoothing on the probabilities?\n"
   ]
  },
  {
   "cell_type": "code",
   "execution_count": null,
   "metadata": {
    "collapsed": true
   },
   "outputs": [],
   "source": [
    "## YOUR CODE HERE ##"
   ]
  },
  {
   "cell_type": "markdown",
   "metadata": {},
   "source": [
    "YOUR ANSWERS HERE"
   ]
  },
  {
   "cell_type": "markdown",
   "metadata": {},
   "source": [
    "## Exercise 2.5 (5 points)\n",
    "\n",
    "The above sentences were taken from the training set, hence they will all have probability greater than 0. The big challenge for our language model are of course with sentence that contain unseen N-grams: if such an N-gram occurs our model immediately assigns the sentence probability zero.\n",
    "\n",
    "The following three senteces are taken from the **test set** availlable in the file **ted-test.txt**. What probabilities do your smoothed and unsmoothed language models asign in this case?\n",
    "\n",
    "    1. Because these robots are really safe .\n",
    "    2. We have sheer nothingness on one side , and we have this vision of a reality that encompasses every \n",
    "       conceivable world at the other extreme : the fullest possible reality , nothingness , the simplest possible \n",
    "       reality ."
   ]
  },
  {
   "cell_type": "code",
   "execution_count": null,
   "metadata": {
    "collapsed": true
   },
   "outputs": [],
   "source": [
    "### YOUR CODE HERE ###"
   ]
  },
  {
   "cell_type": "markdown",
   "metadata": {},
   "source": [
    "YOUR ANSWERS HERE"
   ]
  },
  {
   "cell_type": "markdown",
   "metadata": {},
   "source": [
    "### [Optional]\n",
    "\n",
    "**Optional** What percentage of the sentences in the test set get assigned probability 0 under your smoothed and unsmoothed language models? "
   ]
  },
  {
   "cell_type": "code",
   "execution_count": 272,
   "metadata": {
    "collapsed": true
   },
   "outputs": [],
   "source": [
    "### ANSWER HERE ###"
   ]
  },
  {
   "cell_type": "markdown",
   "metadata": {},
   "source": [
    "## Exercise 2.6 (5 points)\n",
    "\n",
    "**Perplexity** is very frequently used **metric** for evaluating probabilistic models such as language models. The perplexity (sometimes called **PP** for short) of a language model on a sentence is the **inverse probability** of the sentence, **normalized** by the number of words:\n",
    "\n",
    "$$PP(w_1 \\dots w_n) = P(w_1\\dots w_n)^{-\\frac{1}{n}}.$$\n",
    "\n",
    "Here we can again approximate $P(w_1 \\dots w_n)$ with N-gram probabilities, as above.\n",
    "Note: $(x_1\\cdots x_n)^{-\\frac{1}{n}}$ is the **geometric mean** of the numbers $x_1,\\dots,x_n$. It is like the (regular) artithmetic mean, but with **products** instead of **sums**. The geometric mean is a more natural choice in the case of *PP* because behind $P(w_1\\dots w_n)$ is a series of $n$ products ([more here](https://en.wikipedia.org/wiki/Geometric_mean)).\n",
    "\n",
    "\n",
    "\n",
    "Compute the perplexity of the training sentences from excercise 2.1. What big difference between the **probabilities** of the sentences and the **perplexities** of the sentences do you notice?"
   ]
  },
  {
   "cell_type": "code",
   "execution_count": null,
   "metadata": {
    "collapsed": true
   },
   "outputs": [],
   "source": [
    "### YOUR CODE HERE ###"
   ]
  },
  {
   "cell_type": "markdown",
   "metadata": {},
   "source": [
    "YOUR ANSWER HERE"
   ]
  },
  {
   "cell_type": "markdown",
   "metadata": {},
   "source": [
    "# That's it!\n",
    "\n",
    "Congratulations, you have made it to the end of the tutorial. Here we will recap the gist of this notebook. \n",
    "\n",
    "**Make sure all your cells can be executed and all your answers are there. Then, read on if you're interested!**\n",
    "\n",
    "-----\n",
    "\n",
    "By now you should have a solid feeling for the problem of **sparsity in language data**; there's just never enough data. For the task of language modelling, we saw that sparsity is a serious challenge. \n",
    "\n",
    "It would be great to be able to model $p(w_n|w_1 \\dots w_{n-1})$ for unlimited $n$: the larger $n$ the better our language model should become at capturing the long-range dependencies between words that characterize actual human sentences, and the more probability our model will asign to such sentences as opposed to sentences that are word-soup. But in the N-gram approach, increasing $n$ will quickly kill all generalizing abilities of the model: the model will start to asign probabilities only to sentences it has seen in the training data.\n",
    "\n",
    "So, where to go from here? Here are three directions that we could head in.\n",
    "\n",
    "### Smoothing\n",
    "\n",
    "We have seen one example of smoothing in this lab: add-k smoothing. This is an easy method, both conceptually and implementation-wise. But the results are not great, and the effects it has on the distributions can be extreme.\n",
    "\n",
    "A much more sophisticated method of smoothing is so-called **Kneser-Ney smoothing**. The method is described in detail in section 4.5 of J&M (3rd edition). This is one of the best performing N-gram smoothing methods, and up to a few years ago a popular implementation of it called [KenLM](https://kheafield.com/code/kenlm/) gave state of the art results.\n",
    "\n",
    "### From words to characters\n",
    "\n",
    "In this lab we have considered language modeling as the task of predicting a **word** $w_n$ based on a history of **words** $w_1\\cdots w_n$. What if instead we let our basic units of modelling be **characters**? The task then becomes to model $p(c_k\\mid c_{k-N-1}\\dots c_{k-1})$ where each $c_i$ is now an ASCII character instead of an entire word.\n",
    "\n",
    "Suddenly sparsity of data is no longer a problem! The set of characters to use is tiny (< 100) compared to even a small-sized vocabulary as today. Have a look at this very illustrative notebook written by Yoav Golberg to see such a method in action: [The unreasonable effectiveness of Character-level Language Models](http://nbviewer.jupyter.org/gist/yoavg/d76121dfde2618422139).\n",
    "\n",
    "(So what is the downside?)\n",
    "\n",
    "\n",
    "### Neural language models\n",
    "\n",
    "The above notebook was actually written as a response to this blog post by Andrej Karpathy: [The Unreasonable Effectiveness of Recurrent Neural Networks](http://karpathy.github.io/2015/05/21/rnn-effectiveness/). Go ahead and read it if you haven't already: it is a superb introduction to the topic of Recurrent Neural Networks.\n",
    "\n",
    "Neural language models solve the problem of data sparsity in a different manner. Instead of estimating the probabilities $p(w_k\\mid w_{k-N-1}\\dots w_{k-1})$ by counting occurences in the data, they use a neural network $f_{\\theta}$ parametrized by parameters $\\theta$ to predict this probability. The parameters $\\theta$ are learned through optimization. \n",
    "\n",
    "The simplest approach goes like this: each word in the history $w_{k-N-1}\\dots w_{k-1}$ is embedded separately giving  vectors $e_{k-N-1}\\dots e_{k-1}$ and then concatenated into one long vectors $[e_{k-N-1};\\dots ;e_{k-1}]$. The network then uses this history vector to predict a probability distribution over words $w$ in the vocabulary $V$:\n",
    "\n",
    "$$p(w \\mid w_{k-N-1}\\dots w_{k-1}) = f_{\\theta}([e_{k-N-1};\\dots;e_{k-1}]).$$\n",
    "\n",
    "(In order to produce legitimate probabilities the final layer of such a network will be for example a $softmax$.)\n",
    "\n",
    "This provides a solution to the sparsity problem by having the network let the individual embeddings of the words in the history interact through its non-linear transforamtion. We are letting the network figure out the smoothing itself!\n",
    "\n",
    "RNNs are a clever extension of this idea, where a hidden state vector $h$ is re-used and updated at each step $k$ in order to store the information of the entire history up to step $k-1$. That is, an RNN actually does away with the N-order approximation; it tries to model the full conditional directly! That means that\n",
    "\n",
    "$$p(w \\mid w_1\\dots w_{k-1}) \\approx RNN_{\\theta}([e_{k-1};h_{k-1}])$$\n",
    "\n",
    "where the hidden state $h_{k-1}$ is a compression of the *entire history* $w_1\\dots w_{k-1}$.\n",
    "\n",
    "Another great place to learn about RNNs, their problems, and solutions to those, is on the blog of [Christopher Olah](http://colah.github.io/posts/2015-08-Understanding-LSTMs/). The project on language modelling will involve learning more about these methods. \n",
    "\n",
    "-----------\n",
    "(And now, it's time to read the classic essay by Eugene Wigner that gave both of the posts their title: [The Unreasonable Effectiveness of Mathematics in the Natural Sciences](http://www.dartmouth.edu/~matc/MathDrama/reading/Wigner.html))"
   ]
  }
 ],
 "metadata": {
  "anaconda-cloud": {},
  "kernelspec": {
   "display_name": "Python 3",
   "language": "python",
   "name": "python3"
  },
  "language_info": {
   "codemirror_mode": {
    "name": "ipython",
    "version": 3
   },
   "file_extension": ".py",
   "mimetype": "text/x-python",
   "name": "python",
   "nbconvert_exporter": "python",
   "pygments_lexer": "ipython3",
   "version": "3.6.1"
  }
 },
 "nbformat": 4,
 "nbformat_minor": 1
}
